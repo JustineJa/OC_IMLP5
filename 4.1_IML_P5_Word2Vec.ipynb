{
 "cells": [
  {
   "cell_type": "markdown",
   "metadata": {},
   "source": [
    "Projet 5 | Catégorisez automatiquement des questions\n",
    "\n",
    "Partie 4.1 | Analyse Supervisée - Word2Vec"
   ]
  },
  {
   "cell_type": "markdown",
   "metadata": {},
   "source": [
    "# Présentation du projet\n",
    "Nous cherchons a aider la communauté de Stack Overflow, site célèbre de questions-réponses liées au développement informatique, en réalisant un API de prédiction de tags.<br/>\n",
    "L'analyse se basera sur le NLP (Natural language processing) et nous testerons différentes méthodes pour ne sélectionner que la plus efficace et pertinente."
   ]
  },
  {
   "cell_type": "markdown",
   "metadata": {
    "id": "CxUZYFwdzYa5"
   },
   "source": [
    "# Import des packages, fonctions et paramétrage initial"
   ]
  },
  {
   "cell_type": "markdown",
   "metadata": {
    "id": "5EJ61cBbzbaG"
   },
   "source": [
    "## Librairies"
   ]
  },
  {
   "cell_type": "code",
   "execution_count": 1,
   "metadata": {
    "id": "LiVqpzE2zZjN"
   },
   "outputs": [],
   "source": [
    "# Modules classiques d'analyse exploratoire:\n",
    "import pandas as pd\n",
    "import numpy as np\n",
    "import matplotlib.pyplot as plt"
   ]
  },
  {
   "cell_type": "markdown",
   "metadata": {
    "id": "uVwHbyClE6t1"
   },
   "source": [
    "## MLFlow"
   ]
  },
  {
   "cell_type": "code",
   "execution_count": 2,
   "metadata": {
    "colab": {
     "base_uri": "https://localhost:8080/"
    },
    "id": "Qrw2vpGQzZa6",
    "outputId": "bce91598-2908-4105-9ad4-32873907fbd3"
   },
   "outputs": [],
   "source": [
    "!pip install mlflow --quiet\n",
    "!pip install pyngrok --quiet"
   ]
  },
  {
   "cell_type": "code",
   "execution_count": 3,
   "metadata": {
    "id": "sgrOkUPvzZYI"
   },
   "outputs": [
    {
     "name": "stdout",
     "output_type": "stream",
     "text": [
      "Usage: mlflow [OPTIONS] COMMAND [ARGS]...\n",
      "\n",
      "Options:\n",
      "  --version  Show the version and exit.\n",
      "  --help     Show this message and exit.\n",
      "\n",
      "Commands:\n",
      "  artifacts    Upload, list, and download artifacts from an MLflow...\n",
      "  db           Commands for managing an MLflow tracking database.\n",
      "  deployments  Deploy MLflow models to custom targets.\n",
      "  doctor       Prints out useful information for debugging issues with MLflow.\n",
      "  experiments  Manage experiments.\n",
      "  gc           Permanently delete runs in the `deleted` lifecycle stage.\n",
      "  models       Deploy MLflow models locally.\n",
      "  recipes      Run MLflow Recipes and inspect recipe results.\n",
      "  run          Run an MLflow project from the given URI.\n",
      "  runs         Manage runs.\n",
      "  sagemaker    Serve models on SageMaker.\n",
      "  server       Run the MLflow tracking server.\n"
     ]
    },
    {
     "name": "stderr",
     "output_type": "stream",
     "text": [
      "C:\\Users\\A475388\\AppData\\Local\\anaconda3\\Lib\\site-packages\\pydantic\\_internal\\_config.py:334: UserWarning: Valid config keys have changed in V2:\n",
      "* 'schema_extra' has been renamed to 'json_schema_extra'\n",
      "  warnings.warn(message, UserWarning)\n"
     ]
    }
   ],
   "source": [
    "# check wether mlflow is installed\n",
    "!mlflow"
   ]
  },
  {
   "cell_type": "code",
   "execution_count": 4,
   "metadata": {
    "id": "MQou9w4rE_eW"
   },
   "outputs": [
    {
     "data": {
      "text/plain": [
       "<Experiment: artifact_location='file:///C:/Users/A475388/Notebooks/IML%20P5/mlruns/426218426788538168', creation_time=1716554842266, experiment_id='426218426788538168', last_update_time=1716554842266, lifecycle_stage='active', name='IMLP5-Supervisé', tags={}>"
      ]
     },
     "execution_count": 4,
     "metadata": {},
     "output_type": "execute_result"
    }
   ],
   "source": [
    "import mlflow\n",
    "from mlflow.tracking import MlflowClient\n",
    "import mlflow.sklearn\n",
    "\n",
    "mlflow.set_experiment('IMLP5-Supervisé')"
   ]
  },
  {
   "cell_type": "code",
   "execution_count": 5,
   "metadata": {
    "id": "AKLEn_wCFFFD"
   },
   "outputs": [
    {
     "name": "stdout",
     "output_type": "stream",
     "text": [
      "2.12.1\n"
     ]
    }
   ],
   "source": [
    "print(mlflow.__version__)"
   ]
  },
  {
   "cell_type": "markdown",
   "metadata": {
    "id": "8xBn6jCkFHBd"
   },
   "source": [
    "## Chargement du dataset"
   ]
  },
  {
   "cell_type": "code",
   "execution_count": 6,
   "metadata": {
    "id": "C4agF4a8FNoS"
   },
   "outputs": [
    {
     "data": {
      "text/html": [
       "<div>\n",
       "<style scoped>\n",
       "    .dataframe tbody tr th:only-of-type {\n",
       "        vertical-align: middle;\n",
       "    }\n",
       "\n",
       "    .dataframe tbody tr th {\n",
       "        vertical-align: top;\n",
       "    }\n",
       "\n",
       "    .dataframe thead th {\n",
       "        text-align: right;\n",
       "    }\n",
       "</style>\n",
       "<table border=\"1\" class=\"dataframe\">\n",
       "  <thead>\n",
       "    <tr style=\"text-align: right;\">\n",
       "      <th></th>\n",
       "      <th>Title</th>\n",
       "      <th>Body</th>\n",
       "      <th>Tags</th>\n",
       "      <th>CreationDate</th>\n",
       "      <th>AnswerCount</th>\n",
       "      <th>ViewCount</th>\n",
       "      <th>Score</th>\n",
       "      <th>txt</th>\n",
       "    </tr>\n",
       "  </thead>\n",
       "  <tbody>\n",
       "    <tr>\n",
       "      <th>0</th>\n",
       "      <td>Python kernel dies for second run of PyQt5 GUI</td>\n",
       "      <td>&lt;ul&gt;\\n&lt;li&gt;Using Spyder in Python 3.5.2 |Anacon...</td>\n",
       "      <td>&lt;python&gt;&lt;ipython&gt;&lt;anaconda&gt;&lt;pyqt5&gt;&lt;spyder&gt;</td>\n",
       "      <td>2016-10-17 19:21:55</td>\n",
       "      <td>3</td>\n",
       "      <td>10077</td>\n",
       "      <td>17</td>\n",
       "      <td>Python kernel dies for second run of PyQt5 GUI...</td>\n",
       "    </tr>\n",
       "  </tbody>\n",
       "</table>\n",
       "</div>"
      ],
      "text/plain": [
       "                                            Title  \\\n",
       "0  Python kernel dies for second run of PyQt5 GUI   \n",
       "\n",
       "                                                Body  \\\n",
       "0  <ul>\\n<li>Using Spyder in Python 3.5.2 |Anacon...   \n",
       "\n",
       "                                         Tags         CreationDate  \\\n",
       "0  <python><ipython><anaconda><pyqt5><spyder>  2016-10-17 19:21:55   \n",
       "\n",
       "   AnswerCount  ViewCount  Score  \\\n",
       "0            3      10077     17   \n",
       "\n",
       "                                                 txt  \n",
       "0  Python kernel dies for second run of PyQt5 GUI...  "
      ]
     },
     "execution_count": 6,
     "metadata": {},
     "output_type": "execute_result"
    }
   ],
   "source": [
    "# Création des DataFrame\n",
    "df_stack = pd.read_csv(\"C:/Users/A475388/OneDrive - Volvo Group/Z_Perso/IML/IML P5/QueryResults.csv\")\n",
    "df_stack['txt'] = df_stack['Title'] + '-' + df_stack['Body']\n",
    "df_stack.head(1)"
   ]
  },
  {
   "cell_type": "code",
   "execution_count": 7,
   "metadata": {
    "id": "z017fInjFZGb"
   },
   "outputs": [
    {
     "data": {
      "text/html": [
       "<div>\n",
       "<style scoped>\n",
       "    .dataframe tbody tr th:only-of-type {\n",
       "        vertical-align: middle;\n",
       "    }\n",
       "\n",
       "    .dataframe tbody tr th {\n",
       "        vertical-align: top;\n",
       "    }\n",
       "\n",
       "    .dataframe thead th {\n",
       "        text-align: right;\n",
       "    }\n",
       "</style>\n",
       "<table border=\"1\" class=\"dataframe\">\n",
       "  <thead>\n",
       "    <tr style=\"text-align: right;\">\n",
       "      <th></th>\n",
       "      <th>Title</th>\n",
       "      <th>Body</th>\n",
       "      <th>Tags</th>\n",
       "      <th>lemmatized_corpus</th>\n",
       "      <th>lemmatized_tags</th>\n",
       "      <th>stemmed_corpus</th>\n",
       "      <th>stemmed_tags</th>\n",
       "    </tr>\n",
       "  </thead>\n",
       "  <tbody>\n",
       "    <tr>\n",
       "      <th>24237</th>\n",
       "      <td>Twitter Bootstrap modal opening/closing causes...</td>\n",
       "      <td>&lt;p&gt;I am almost done with a simple 2-page websi...</td>\n",
       "      <td>&lt;css&gt;&lt;twitter-bootstrap&gt;&lt;dialog&gt;&lt;modal-dialog&gt;...</td>\n",
       "      <td>['twitter', 'bootstrap', 'modal', 'opening', '...</td>\n",
       "      <td>['twitter', 'bootstrap', 'dialog', 'modal', 'd...</td>\n",
       "      <td>['twitter', 'bootstrap', 'modal', 'open', 'clo...</td>\n",
       "      <td>['twitter', 'bootstrap', 'dialog', 'modal', 'd...</td>\n",
       "    </tr>\n",
       "  </tbody>\n",
       "</table>\n",
       "</div>"
      ],
      "text/plain": [
       "                                                   Title  \\\n",
       "24237  Twitter Bootstrap modal opening/closing causes...   \n",
       "\n",
       "                                                    Body  \\\n",
       "24237  <p>I am almost done with a simple 2-page websi...   \n",
       "\n",
       "                                                    Tags  \\\n",
       "24237  <css><twitter-bootstrap><dialog><modal-dialog>...   \n",
       "\n",
       "                                       lemmatized_corpus  \\\n",
       "24237  ['twitter', 'bootstrap', 'modal', 'opening', '...   \n",
       "\n",
       "                                         lemmatized_tags  \\\n",
       "24237  ['twitter', 'bootstrap', 'dialog', 'modal', 'd...   \n",
       "\n",
       "                                          stemmed_corpus  \\\n",
       "24237  ['twitter', 'bootstrap', 'modal', 'open', 'clo...   \n",
       "\n",
       "                                            stemmed_tags  \n",
       "24237  ['twitter', 'bootstrap', 'dialog', 'modal', 'd...  "
      ]
     },
     "execution_count": 7,
     "metadata": {},
     "output_type": "execute_result"
    }
   ],
   "source": [
    "# Import df préprocess\n",
    "df_cleaned = pd.read_csv(\"/Users/A475388/OneDrive - Volvo Group/Z_Perso/IML/IML P5/df_cleaned.csv\",\n",
    "                 sep=';')\n",
    "df_cleaned.sample(1)"
   ]
  },
  {
   "cell_type": "code",
   "execution_count": 8,
   "metadata": {
    "id": "fFtydK3qFnS5"
   },
   "outputs": [],
   "source": [
    "import ast\n",
    "df_cleaned['lemmatized_corpus'] = df_cleaned['lemmatized_corpus'].map(\n",
    "    lambda x: ast.literal_eval(x)\n",
    ")\n",
    "df_cleaned['lemmatized_tags'] = df_cleaned['lemmatized_tags'].map(\n",
    "    lambda x: ast.literal_eval(x)\n",
    ")\n",
    "df_cleaned['stemmed_corpus'] = df_cleaned['stemmed_corpus'].map(\n",
    "    lambda x: ast.literal_eval(x)\n",
    ")\n",
    "df_cleaned['stemmed_tags'] = df_cleaned['stemmed_tags'].map(\n",
    "    lambda x: ast.literal_eval(x)\n",
    ")"
   ]
  },
  {
   "cell_type": "code",
   "execution_count": 9,
   "metadata": {
    "id": "A8n7zmn7GAnr"
   },
   "outputs": [
    {
     "data": {
      "text/plain": [
       "0    Python kernel dies for second run of PyQt5 GUI...\n",
       "Name: Text_complet, dtype: object"
      ]
     },
     "execution_count": 9,
     "metadata": {},
     "output_type": "execute_result"
    }
   ],
   "source": [
    "df_cleaned['Text_complet'] = df_cleaned['Title'] + df_cleaned['Body']\n",
    "df_cleaned['Text_complet'].head(1)"
   ]
  },
  {
   "cell_type": "code",
   "execution_count": 10,
   "metadata": {
    "id": "sqyR3RYxFsd3"
   },
   "outputs": [
    {
     "data": {
      "text/html": [
       "<div>\n",
       "<style scoped>\n",
       "    .dataframe tbody tr th:only-of-type {\n",
       "        vertical-align: middle;\n",
       "    }\n",
       "\n",
       "    .dataframe tbody tr th {\n",
       "        vertical-align: top;\n",
       "    }\n",
       "\n",
       "    .dataframe thead th {\n",
       "        text-align: right;\n",
       "    }\n",
       "</style>\n",
       "<table border=\"1\" class=\"dataframe\">\n",
       "  <thead>\n",
       "    <tr style=\"text-align: right;\">\n",
       "      <th></th>\n",
       "      <th>Title</th>\n",
       "      <th>Body</th>\n",
       "      <th>Tags</th>\n",
       "      <th>lemmatized_corpus</th>\n",
       "      <th>lemmatized_tags</th>\n",
       "      <th>stemmed_corpus</th>\n",
       "      <th>stemmed_tags</th>\n",
       "      <th>Text_complet</th>\n",
       "    </tr>\n",
       "  </thead>\n",
       "  <tbody>\n",
       "    <tr>\n",
       "      <th>21830</th>\n",
       "      <td>res.cookie not setting cookie in browser</td>\n",
       "      <td>&lt;p&gt;I am currently trying to set up a Node/Expr...</td>\n",
       "      <td>&lt;node.js&gt;&lt;reactjs&gt;&lt;express&gt;&lt;cookies&gt;&lt;jwt&gt;</td>\n",
       "      <td>[cookie, setting, cookie, browseri, currently,...</td>\n",
       "      <td>[node, reactjs, express, cooky]</td>\n",
       "      <td>[cooki, set, cooki, browseri, current, tri, no...</td>\n",
       "      <td>[node, reactj, express, cooki]</td>\n",
       "      <td>res.cookie not setting cookie in browser&lt;p&gt;I a...</td>\n",
       "    </tr>\n",
       "  </tbody>\n",
       "</table>\n",
       "</div>"
      ],
      "text/plain": [
       "                                          Title  \\\n",
       "21830  res.cookie not setting cookie in browser   \n",
       "\n",
       "                                                    Body  \\\n",
       "21830  <p>I am currently trying to set up a Node/Expr...   \n",
       "\n",
       "                                            Tags  \\\n",
       "21830  <node.js><reactjs><express><cookies><jwt>   \n",
       "\n",
       "                                       lemmatized_corpus  \\\n",
       "21830  [cookie, setting, cookie, browseri, currently,...   \n",
       "\n",
       "                       lemmatized_tags  \\\n",
       "21830  [node, reactjs, express, cooky]   \n",
       "\n",
       "                                          stemmed_corpus  \\\n",
       "21830  [cooki, set, cooki, browseri, current, tri, no...   \n",
       "\n",
       "                         stemmed_tags  \\\n",
       "21830  [node, reactj, express, cooki]   \n",
       "\n",
       "                                            Text_complet  \n",
       "21830  res.cookie not setting cookie in browser<p>I a...  "
      ]
     },
     "execution_count": 10,
     "metadata": {},
     "output_type": "execute_result"
    }
   ],
   "source": [
    "df_cleaned.sample(1)"
   ]
  },
  {
   "cell_type": "code",
   "execution_count": 11,
   "metadata": {
    "id": "s_9GjXLOFuRI"
   },
   "outputs": [
    {
     "data": {
      "text/plain": [
       "Index(['Title', 'Body', 'Tags', 'lemmatized_corpus', 'lemmatized_tags',\n",
       "       'stemmed_corpus', 'stemmed_tags', 'Text_complet'],\n",
       "      dtype='object')"
      ]
     },
     "execution_count": 11,
     "metadata": {},
     "output_type": "execute_result"
    }
   ],
   "source": [
    "df_cleaned.columns"
   ]
  },
  {
   "cell_type": "code",
   "execution_count": 12,
   "metadata": {
    "id": "mRH4uKdyF2Oq"
   },
   "outputs": [
    {
     "name": "stdout",
     "output_type": "stream",
     "text": [
      "<class 'pandas.core.frame.DataFrame'>\n",
      "RangeIndex: 29995 entries, 0 to 29994\n",
      "Data columns (total 8 columns):\n",
      " #   Column             Non-Null Count  Dtype \n",
      "---  ------             --------------  ----- \n",
      " 0   Title              29995 non-null  object\n",
      " 1   Body               29995 non-null  object\n",
      " 2   Tags               29995 non-null  object\n",
      " 3   lemmatized_corpus  29995 non-null  object\n",
      " 4   lemmatized_tags    29995 non-null  object\n",
      " 5   stemmed_corpus     29995 non-null  object\n",
      " 6   stemmed_tags       29995 non-null  object\n",
      " 7   Text_complet       29995 non-null  object\n",
      "dtypes: object(8)\n",
      "memory usage: 1.8+ MB\n"
     ]
    }
   ],
   "source": [
    "df_cleaned.info()"
   ]
  },
  {
   "cell_type": "code",
   "execution_count": 13,
   "metadata": {
    "id": "PN8SFGV6F5eH"
   },
   "outputs": [],
   "source": [
    "#df = df_cleaned.sample(5000)\n",
    "df = df_cleaned.copy()"
   ]
  },
  {
   "cell_type": "markdown",
   "metadata": {
    "id": "PHxjYT_jGS_V"
   },
   "source": [
    "## Fonctions utiles"
   ]
  },
  {
   "cell_type": "code",
   "execution_count": 14,
   "metadata": {
    "id": "N8DYpYO6JCAz"
   },
   "outputs": [
    {
     "name": "stderr",
     "output_type": "stream",
     "text": [
      "[nltk_data] Downloading package stopwords to\n",
      "[nltk_data]     C:\\Users\\A475388\\AppData\\Roaming\\nltk_data...\n",
      "[nltk_data]   Package stopwords is already up-to-date!\n",
      "[nltk_data] Downloading package punkt to\n",
      "[nltk_data]     C:\\Users\\A475388\\AppData\\Roaming\\nltk_data...\n",
      "[nltk_data]   Package punkt is already up-to-date!\n",
      "[nltk_data] Downloading package wordnet to\n",
      "[nltk_data]     C:\\Users\\A475388\\AppData\\Roaming\\nltk_data...\n",
      "[nltk_data]   Package wordnet is already up-to-date!\n"
     ]
    },
    {
     "data": {
      "text/plain": [
       "True"
      ]
     },
     "execution_count": 14,
     "metadata": {},
     "output_type": "execute_result"
    }
   ],
   "source": [
    "import nltk\n",
    "nltk.download('stopwords')\n",
    "nltk.download('punkt')\n",
    "nltk.download('wordnet')"
   ]
  },
  {
   "cell_type": "code",
   "execution_count": 15,
   "metadata": {
    "id": "4pkXOf0OGQlu"
   },
   "outputs": [],
   "source": [
    "# Tokenizer\n",
    "import nltk\n",
    "from nltk.tokenize import sent_tokenize, word_tokenize\n",
    "\n",
    "def tokenizer_fct(sentence) :\n",
    "    # print(sentence)\n",
    "    sentence_clean = sentence.replace('-', ' ').replace('+', ' ').replace('/', ' ').replace('#', ' ')\n",
    "    word_tokens = word_tokenize(sentence_clean)\n",
    "    return word_tokens\n",
    "\n",
    "# Stop words\n",
    "from nltk.corpus import stopwords\n",
    "stop_w = list(set(stopwords.words('english'))) + ['[', ']', ',', '.', ':', '?', '(', ')']\n",
    "\n",
    "def stop_word_filter_fct(list_words) :\n",
    "    filtered_w = [w for w in list_words if not w in stop_w]\n",
    "    filtered_w2 = [w for w in filtered_w if len(w) > 2]\n",
    "    return filtered_w2\n",
    "\n",
    "# lower case et alpha\n",
    "def lower_start_fct(list_words) :\n",
    "    lw = [w.lower() for w in list_words if (not w.startswith(\"@\"))\n",
    "    #                                   and (not w.startswith(\"#\"))\n",
    "                                       and (not w.startswith(\"http\"))]\n",
    "    return lw\n",
    "\n",
    "# Lemmatizer (base d'un mot)\n",
    "from nltk.stem import WordNetLemmatizer\n",
    "\n",
    "def lemma_fct(list_words) :\n",
    "    lemmatizer = WordNetLemmatizer()\n",
    "    lem_w = [lemmatizer.lemmatize(w) for w in list_words]\n",
    "    return lem_w\n",
    "\n",
    "# Fonction de préparation du texte pour le bag of words (Countvectorizer et Tf_idf, Word2Vec)\n",
    "def transform_bow_fct(desc_text) :\n",
    "    word_tokens = tokenizer_fct(desc_text)\n",
    "    sw = stop_word_filter_fct(word_tokens)\n",
    "    lw = lower_start_fct(sw)\n",
    "    # lem_w = lemma_fct(lw)\n",
    "    transf_desc_text = ' '.join(lw)\n",
    "    return transf_desc_text\n",
    "\n",
    "# Fonction de préparation du texte pour le bag of words avec lemmatization\n",
    "def transform_bow_lem_fct(desc_text) :\n",
    "    word_tokens = tokenizer_fct(desc_text)\n",
    "    sw = stop_word_filter_fct(word_tokens)\n",
    "    lw = lower_start_fct(sw)\n",
    "    lem_w = lemma_fct(lw)\n",
    "    transf_desc_text = ' '.join(lem_w)\n",
    "    return transf_desc_text\n",
    "\n",
    "# Fonction de préparation du texte pour le Deep learning (USE et BERT)\n",
    "def transform_dl_fct(desc_text) :\n",
    "    word_tokens = tokenizer_fct(desc_text)\n",
    "#    sw = stop_word_filter_fct(word_tokens)\n",
    "    lw = lower_start_fct(word_tokens)\n",
    "     #lem_w = lemma_fct(lw)\n",
    "    transf_desc_text = ' '.join(lw)\n",
    "    return transf_desc_textdf_stack"
   ]
  },
  {
   "cell_type": "code",
   "execution_count": 16,
   "metadata": {
    "id": "mJvnL0FJ1SyE"
   },
   "outputs": [],
   "source": [
    "from sklearn.metrics import accuracy_score, precision_score, recall_score, f1_score, confusion_matrix, hamming_loss, jaccard_score\n",
    "\n",
    "models_performance = {}\n",
    "\n",
    "def metrics_report(model_name, test_labels, predictions, performances):\n",
    "    \"\"\"\n",
    "    Compute performance metrics of a model and store them in a dictionary\n",
    "\n",
    "    Args:\n",
    "        model_name(string): name of the evaluated model\n",
    "        test_labels(array): labels related to predictors\n",
    "        preductions(array): predicted results\n",
    "        performances(dict): used dictionary to store metrics\n",
    "    Returns:\n",
    "        performances(dict): used dictionary to store metrics filed with models ones\n",
    "    \"\"\"\n",
    "    accuracy = accuracy_score(test_labels, predictions)\n",
    "    jaccard = jaccard_score(test_labels, predictions, average='macro')\n",
    "    hamLoss = hamming_loss(test_labels, predictions)\n",
    "\n",
    "    weighted_precision = precision_score(test_labels, predictions, average='weighted')\n",
    "    weighted_recall = recall_score(test_labels, predictions, average='weighted')\n",
    "    weighted_f1 = f1_score(test_labels, predictions, average='weighted')\n",
    "\n",
    "    macro_precision = precision_score(test_labels, predictions, average='macro')\n",
    "    macro_recall = recall_score(test_labels, predictions, average='macro')\n",
    "    macro_f1 = f1_score(test_labels, predictions, average='macro')\n",
    "\n",
    "    micro_precision = precision_score(test_labels, predictions, average='micro')\n",
    "    micro_recall = recall_score(test_labels, predictions, average='micro')\n",
    "    micro_f1 = f1_score(test_labels, predictions, average='micro')\n",
    "\n",
    "\n",
    "    with mlflow.start_run():\n",
    "\n",
    "      print(\"------\" + model_name + \" Model Metrics-----\")\n",
    "    #print(\"Balanced Accuracy: {:.4f}\\nAccuracy: {:.4f}\\nJaccard: {:.4f}\\nHamming Loss: {:.4f}\\nPrecision:\\n  - Macro: {:.4f}\\n  - Micro: {:.4f}\\nRecall:\\n  - Macro: {:.4f}\\n  - Micro: {:.4f}\\nF1-measure:\\n  - Macro: {:.4f}\\n  - Micro: {:.4f}\"\\\n",
    "    #      .format(balanced_accuracy, accuracy, jaccard, hamLoss, macro_precision, micro_precision, macro_recall, micro_recall, macro_f1, micro_f1))\n",
    "\n",
    "      performances[model_name] = {}\n",
    "      performances[model_name][\"Accuracy\"] =  round(accuracy,2)\n",
    "      performances[model_name][\"Precision\"] =  round(weighted_precision,2)\n",
    "      performances[model_name][\"Recall\"] = round(weighted_recall,2)\n",
    "      performances[model_name][\"F1\"] = round(weighted_f1,2)\n",
    "      performances[model_name][\"Haming loss\"] = round(hamLoss,2)\n",
    "      performances[model_name][\"Jaccard score\"] = round(jaccard,2)\n",
    "\n",
    "      mlflow.log_metric(\"Accuracy\", round(accuracy,2))\n",
    "      mlflow.log_param(model_name, \"model\")\n",
    "\n",
    "      return performances"
   ]
  },
  {
   "cell_type": "markdown",
   "metadata": {
    "id": "tKy91WwD3NX2"
   },
   "source": [
    "## Distribution des tags"
   ]
  },
  {
   "cell_type": "code",
   "execution_count": 17,
   "metadata": {
    "id": "kHW_3teu3azv"
   },
   "outputs": [],
   "source": [
    "from nltk import FreqDist\n",
    "\n",
    "def build_word_distribution(corpus):\n",
    "    \"\"\"\n",
    "    Build corpus word distribution\n",
    "\n",
    "    Args:\n",
    "        Corpus(List of lists): Original corpus\n",
    "\n",
    "    Returns:\n",
    "\n",
    "        word_dist_df(DataFrame): Word distribution of the corpus\n",
    "    \"\"\"\n",
    "    word_corpus = [token for token_list in corpus for token in token_list]\n",
    "    word_dist = FreqDist(word_corpus)\n",
    "    word_dist_df = pd.DataFrame(word_dist.items(), columns=['Word', 'Frequency']).set_index('Word')\n",
    "    word_dist_df.sort_values(\"Frequency\", ascending=False, inplace=True)\n",
    "\n",
    "    return word_dist_df"
   ]
  },
  {
   "cell_type": "code",
   "execution_count": 18,
   "metadata": {
    "id": "mLHdOqlf3NLe"
   },
   "outputs": [
    {
     "name": "stdout",
     "output_type": "stream",
     "text": [
      "6558 tags différents\n",
      "10 tags les plus utilisés :\n"
     ]
    },
    {
     "data": {
      "text/html": [
       "<div>\n",
       "<style scoped>\n",
       "    .dataframe tbody tr th:only-of-type {\n",
       "        vertical-align: middle;\n",
       "    }\n",
       "\n",
       "    .dataframe tbody tr th {\n",
       "        vertical-align: top;\n",
       "    }\n",
       "\n",
       "    .dataframe thead th {\n",
       "        text-align: right;\n",
       "    }\n",
       "</style>\n",
       "<table border=\"1\" class=\"dataframe\">\n",
       "  <thead>\n",
       "    <tr style=\"text-align: right;\">\n",
       "      <th></th>\n",
       "      <th>Frequency</th>\n",
       "    </tr>\n",
       "    <tr>\n",
       "      <th>Word</th>\n",
       "      <th></th>\n",
       "    </tr>\n",
       "  </thead>\n",
       "  <tbody>\n",
       "    <tr>\n",
       "      <th>python</th>\n",
       "      <td>7927</td>\n",
       "    </tr>\n",
       "    <tr>\n",
       "      <th>android</th>\n",
       "      <td>7149</td>\n",
       "    </tr>\n",
       "    <tr>\n",
       "      <th>java</th>\n",
       "      <td>5038</td>\n",
       "    </tr>\n",
       "    <tr>\n",
       "      <th>javascript</th>\n",
       "      <td>4809</td>\n",
       "    </tr>\n",
       "    <tr>\n",
       "      <th>spring</th>\n",
       "      <td>4119</td>\n",
       "    </tr>\n",
       "    <tr>\n",
       "      <th>node</th>\n",
       "      <td>2024</td>\n",
       "    </tr>\n",
       "    <tr>\n",
       "      <th>core</th>\n",
       "      <td>1969</td>\n",
       "    </tr>\n",
       "    <tr>\n",
       "      <th>angular</th>\n",
       "      <td>1901</td>\n",
       "    </tr>\n",
       "    <tr>\n",
       "      <th>google</th>\n",
       "      <td>1854</td>\n",
       "    </tr>\n",
       "    <tr>\n",
       "      <th>swift</th>\n",
       "      <td>1793</td>\n",
       "    </tr>\n",
       "  </tbody>\n",
       "</table>\n",
       "</div>"
      ],
      "text/plain": [
       "            Frequency\n",
       "Word                 \n",
       "python           7927\n",
       "android          7149\n",
       "java             5038\n",
       "javascript       4809\n",
       "spring           4119\n",
       "node             2024\n",
       "core             1969\n",
       "angular          1901\n",
       "google           1854\n",
       "swift            1793"
      ]
     },
     "metadata": {},
     "output_type": "display_data"
    }
   ],
   "source": [
    "tags = df['lemmatized_tags'].to_list()\n",
    "\n",
    "tag_dist = build_word_distribution(tags)\n",
    "\n",
    "print(f\"{tag_dist.shape[0]} tags différents\")\n",
    "print(\"10 tags les plus utilisés :\")\n",
    "display(tag_dist.head(10))"
   ]
  },
  {
   "cell_type": "code",
   "execution_count": 19,
   "metadata": {
    "id": "tJEGwoUd3NJG"
   },
   "outputs": [],
   "source": [
    "m = 50\n",
    "first_m_tags = tag_dist[0:m].index.to_list()\n",
    "first_20_tags = tag_dist[0:20].index.to_list()"
   ]
  },
  {
   "cell_type": "code",
   "execution_count": 20,
   "metadata": {
    "id": "09XtuPgP3NGl"
   },
   "outputs": [
    {
     "data": {
      "text/html": [
       "<div>\n",
       "<style scoped>\n",
       "    .dataframe tbody tr th:only-of-type {\n",
       "        vertical-align: middle;\n",
       "    }\n",
       "\n",
       "    .dataframe tbody tr th {\n",
       "        vertical-align: top;\n",
       "    }\n",
       "\n",
       "    .dataframe thead th {\n",
       "        text-align: right;\n",
       "    }\n",
       "</style>\n",
       "<table border=\"1\" class=\"dataframe\">\n",
       "  <thead>\n",
       "    <tr style=\"text-align: right;\">\n",
       "      <th></th>\n",
       "      <th>Frequency</th>\n",
       "    </tr>\n",
       "  </thead>\n",
       "  <tbody>\n",
       "    <tr>\n",
       "      <th>count</th>\n",
       "      <td>6558.000000</td>\n",
       "    </tr>\n",
       "    <tr>\n",
       "      <th>mean</th>\n",
       "      <td>26.153095</td>\n",
       "    </tr>\n",
       "    <tr>\n",
       "      <th>std</th>\n",
       "      <td>195.189879</td>\n",
       "    </tr>\n",
       "    <tr>\n",
       "      <th>min</th>\n",
       "      <td>1.000000</td>\n",
       "    </tr>\n",
       "    <tr>\n",
       "      <th>25%</th>\n",
       "      <td>1.000000</td>\n",
       "    </tr>\n",
       "    <tr>\n",
       "      <th>50%</th>\n",
       "      <td>2.000000</td>\n",
       "    </tr>\n",
       "    <tr>\n",
       "      <th>75%</th>\n",
       "      <td>8.000000</td>\n",
       "    </tr>\n",
       "    <tr>\n",
       "      <th>max</th>\n",
       "      <td>7927.000000</td>\n",
       "    </tr>\n",
       "  </tbody>\n",
       "</table>\n",
       "</div>"
      ],
      "text/plain": [
       "         Frequency\n",
       "count  6558.000000\n",
       "mean     26.153095\n",
       "std     195.189879\n",
       "min       1.000000\n",
       "25%       1.000000\n",
       "50%       2.000000\n",
       "75%       8.000000\n",
       "max    7927.000000"
      ]
     },
     "execution_count": 20,
     "metadata": {},
     "output_type": "execute_result"
    }
   ],
   "source": [
    "tag_dist.describe()"
   ]
  },
  {
   "cell_type": "code",
   "execution_count": 21,
   "metadata": {},
   "outputs": [
    {
     "data": {
      "text/html": [
       "<div>\n",
       "<style scoped>\n",
       "    .dataframe tbody tr th:only-of-type {\n",
       "        vertical-align: middle;\n",
       "    }\n",
       "\n",
       "    .dataframe tbody tr th {\n",
       "        vertical-align: top;\n",
       "    }\n",
       "\n",
       "    .dataframe thead th {\n",
       "        text-align: right;\n",
       "    }\n",
       "</style>\n",
       "<table border=\"1\" class=\"dataframe\">\n",
       "  <thead>\n",
       "    <tr style=\"text-align: right;\">\n",
       "      <th></th>\n",
       "      <th>Frequency</th>\n",
       "    </tr>\n",
       "  </thead>\n",
       "  <tbody>\n",
       "    <tr>\n",
       "      <th>count</th>\n",
       "      <td>50.000000</td>\n",
       "    </tr>\n",
       "    <tr>\n",
       "      <th>mean</th>\n",
       "      <td>1561.740000</td>\n",
       "    </tr>\n",
       "    <tr>\n",
       "      <th>std</th>\n",
       "      <td>1552.560674</td>\n",
       "    </tr>\n",
       "    <tr>\n",
       "      <th>min</th>\n",
       "      <td>606.000000</td>\n",
       "    </tr>\n",
       "    <tr>\n",
       "      <th>25%</th>\n",
       "      <td>770.250000</td>\n",
       "    </tr>\n",
       "    <tr>\n",
       "      <th>50%</th>\n",
       "      <td>1078.500000</td>\n",
       "    </tr>\n",
       "    <tr>\n",
       "      <th>75%</th>\n",
       "      <td>1551.250000</td>\n",
       "    </tr>\n",
       "    <tr>\n",
       "      <th>max</th>\n",
       "      <td>7927.000000</td>\n",
       "    </tr>\n",
       "  </tbody>\n",
       "</table>\n",
       "</div>"
      ],
      "text/plain": [
       "         Frequency\n",
       "count    50.000000\n",
       "mean   1561.740000\n",
       "std    1552.560674\n",
       "min     606.000000\n",
       "25%     770.250000\n",
       "50%    1078.500000\n",
       "75%    1551.250000\n",
       "max    7927.000000"
      ]
     },
     "execution_count": 21,
     "metadata": {},
     "output_type": "execute_result"
    }
   ],
   "source": [
    "tag_dist_50 = tag_dist.head(50)\n",
    "tag_dist_50.describe()"
   ]
  },
  {
   "cell_type": "code",
   "execution_count": 22,
   "metadata": {},
   "outputs": [
    {
     "data": {
      "text/html": [
       "<div>\n",
       "<style scoped>\n",
       "    .dataframe tbody tr th:only-of-type {\n",
       "        vertical-align: middle;\n",
       "    }\n",
       "\n",
       "    .dataframe tbody tr th {\n",
       "        vertical-align: top;\n",
       "    }\n",
       "\n",
       "    .dataframe thead th {\n",
       "        text-align: right;\n",
       "    }\n",
       "</style>\n",
       "<table border=\"1\" class=\"dataframe\">\n",
       "  <thead>\n",
       "    <tr style=\"text-align: right;\">\n",
       "      <th></th>\n",
       "      <th>Frequency</th>\n",
       "    </tr>\n",
       "    <tr>\n",
       "      <th>Word</th>\n",
       "      <th></th>\n",
       "    </tr>\n",
       "  </thead>\n",
       "  <tbody>\n",
       "    <tr>\n",
       "      <th>journal</th>\n",
       "      <td>1</td>\n",
       "    </tr>\n",
       "    <tr>\n",
       "      <th>threshold</th>\n",
       "      <td>1</td>\n",
       "    </tr>\n",
       "    <tr>\n",
       "      <th>qtconsole</th>\n",
       "      <td>1</td>\n",
       "    </tr>\n",
       "    <tr>\n",
       "      <th>uploads</th>\n",
       "      <td>1</td>\n",
       "    </tr>\n",
       "    <tr>\n",
       "      <th>timespec</th>\n",
       "      <td>1</td>\n",
       "    </tr>\n",
       "  </tbody>\n",
       "</table>\n",
       "</div>"
      ],
      "text/plain": [
       "           Frequency\n",
       "Word                \n",
       "journal            1\n",
       "threshold          1\n",
       "qtconsole          1\n",
       "uploads            1\n",
       "timespec           1"
      ]
     },
     "execution_count": 22,
     "metadata": {},
     "output_type": "execute_result"
    }
   ],
   "source": [
    "# extraction des tags uniques\n",
    "tag_uniques = tag_dist[tag_dist['Frequency'].le(1)]\n",
    "tag_uniques.head()"
   ]
  },
  {
   "cell_type": "code",
   "execution_count": 23,
   "metadata": {},
   "outputs": [
    {
     "data": {
      "text/html": [
       "<div>\n",
       "<style scoped>\n",
       "    .dataframe tbody tr th:only-of-type {\n",
       "        vertical-align: middle;\n",
       "    }\n",
       "\n",
       "    .dataframe tbody tr th {\n",
       "        vertical-align: top;\n",
       "    }\n",
       "\n",
       "    .dataframe thead th {\n",
       "        text-align: right;\n",
       "    }\n",
       "</style>\n",
       "<table border=\"1\" class=\"dataframe\">\n",
       "  <thead>\n",
       "    <tr style=\"text-align: right;\">\n",
       "      <th></th>\n",
       "      <th>Frequency</th>\n",
       "    </tr>\n",
       "  </thead>\n",
       "  <tbody>\n",
       "    <tr>\n",
       "      <th>count</th>\n",
       "      <td>2528.0</td>\n",
       "    </tr>\n",
       "    <tr>\n",
       "      <th>mean</th>\n",
       "      <td>1.0</td>\n",
       "    </tr>\n",
       "    <tr>\n",
       "      <th>std</th>\n",
       "      <td>0.0</td>\n",
       "    </tr>\n",
       "    <tr>\n",
       "      <th>min</th>\n",
       "      <td>1.0</td>\n",
       "    </tr>\n",
       "    <tr>\n",
       "      <th>25%</th>\n",
       "      <td>1.0</td>\n",
       "    </tr>\n",
       "    <tr>\n",
       "      <th>50%</th>\n",
       "      <td>1.0</td>\n",
       "    </tr>\n",
       "    <tr>\n",
       "      <th>75%</th>\n",
       "      <td>1.0</td>\n",
       "    </tr>\n",
       "    <tr>\n",
       "      <th>max</th>\n",
       "      <td>1.0</td>\n",
       "    </tr>\n",
       "  </tbody>\n",
       "</table>\n",
       "</div>"
      ],
      "text/plain": [
       "       Frequency\n",
       "count     2528.0\n",
       "mean         1.0\n",
       "std          0.0\n",
       "min          1.0\n",
       "25%          1.0\n",
       "50%          1.0\n",
       "75%          1.0\n",
       "max          1.0"
      ]
     },
     "execution_count": 23,
     "metadata": {},
     "output_type": "execute_result"
    }
   ],
   "source": [
    "tag_uniques.describe()"
   ]
  },
  {
   "cell_type": "markdown",
   "metadata": {
    "id": "KGVEQqmdHVFy"
   },
   "source": [
    "# Word2Vec"
   ]
  },
  {
   "cell_type": "code",
   "execution_count": 24,
   "metadata": {
    "id": "r6L1fbYoHX7D"
   },
   "outputs": [],
   "source": [
    "import tensorflow as tf\n",
    "import tensorflow.keras\n",
    "from tensorflow.keras import backend as K\n",
    "\n",
    "from tensorflow.keras.preprocessing.text import Tokenizer\n",
    "from tensorflow.keras.preprocessing.sequence import pad_sequences\n",
    "from tensorflow.keras import metrics as kmetrics\n",
    "from tensorflow.keras.layers import *\n",
    "from tensorflow.keras.models import Model\n",
    "import gensim"
   ]
  },
  {
   "cell_type": "markdown",
   "metadata": {
    "id": "V_M4lTSKHfi9"
   },
   "source": [
    "## Modèle Word2Vec"
   ]
  },
  {
   "cell_type": "code",
   "execution_count": 25,
   "metadata": {
    "id": "zWW2PM0dItSi"
   },
   "outputs": [],
   "source": [
    "df['Text_complet'] = df['Title'] + df['Body']\n",
    "df['sentence_bow'] = df['Text_complet'].apply(lambda x : transform_bow_fct(x))\n",
    "df['sentence_bow_lem'] = df['Text_complet'].apply(lambda x : transform_bow_lem_fct(x))"
   ]
  },
  {
   "cell_type": "code",
   "execution_count": 26,
   "metadata": {
    "id": "uz_ZrR88H3Xw"
   },
   "outputs": [],
   "source": [
    "# création du bag of words (CountVectorizer et Tf-idf)\n",
    "from sklearn.feature_extraction.text import CountVectorizer, TfidfVectorizer\n",
    "\n",
    "cvect = CountVectorizer(stop_words='english', max_df=0.95, min_df=1)\n",
    "ctf = TfidfVectorizer(stop_words='english', max_df=0.95, min_df=1)\n",
    "\n",
    "feat = 'sentence_bow_lem'\n",
    "cv_fit = cvect.fit(df[feat])\n",
    "ctf_fit = ctf.fit(df[feat])\n",
    "\n",
    "cv_transform = cvect.transform(df[feat])\n",
    "ctf_transform = ctf.transform(df[feat])"
   ]
  },
  {
   "cell_type": "markdown",
   "metadata": {
    "id": "n-jdYNNM0Z6m"
   },
   "source": [
    "### Split Train / test"
   ]
  },
  {
   "cell_type": "code",
   "execution_count": 27,
   "metadata": {},
   "outputs": [],
   "source": [
    "from sklearn.model_selection import train_test_split\n",
    "X = df['sentence_bow_lem']\n",
    "y = df['lemmatized_tags']\n",
    "X_train, X_test, y_train, y_test = train_test_split(X,\n",
    "                                                    y,\n",
    "                                                    test_size=0.2,\n",
    "                                                    random_state=42\n",
    "                                                    )"
   ]
  },
  {
   "cell_type": "markdown",
   "metadata": {},
   "source": [
    "### Modèle"
   ]
  },
  {
   "cell_type": "code",
   "execution_count": 28,
   "metadata": {
    "scrolled": true
   },
   "outputs": [
    {
     "name": "stdout",
     "output_type": "stream",
     "text": [
      "6044 tags différents\n",
      "10 tags les plus utilisés :\n"
     ]
    },
    {
     "data": {
      "text/html": [
       "<div>\n",
       "<style scoped>\n",
       "    .dataframe tbody tr th:only-of-type {\n",
       "        vertical-align: middle;\n",
       "    }\n",
       "\n",
       "    .dataframe tbody tr th {\n",
       "        vertical-align: top;\n",
       "    }\n",
       "\n",
       "    .dataframe thead th {\n",
       "        text-align: right;\n",
       "    }\n",
       "</style>\n",
       "<table border=\"1\" class=\"dataframe\">\n",
       "  <thead>\n",
       "    <tr style=\"text-align: right;\">\n",
       "      <th></th>\n",
       "      <th>Frequency</th>\n",
       "    </tr>\n",
       "    <tr>\n",
       "      <th>Word</th>\n",
       "      <th></th>\n",
       "    </tr>\n",
       "  </thead>\n",
       "  <tbody>\n",
       "    <tr>\n",
       "      <th>python</th>\n",
       "      <td>6366</td>\n",
       "    </tr>\n",
       "    <tr>\n",
       "      <th>android</th>\n",
       "      <td>5763</td>\n",
       "    </tr>\n",
       "    <tr>\n",
       "      <th>java</th>\n",
       "      <td>4063</td>\n",
       "    </tr>\n",
       "    <tr>\n",
       "      <th>javascript</th>\n",
       "      <td>3806</td>\n",
       "    </tr>\n",
       "    <tr>\n",
       "      <th>spring</th>\n",
       "      <td>3295</td>\n",
       "    </tr>\n",
       "    <tr>\n",
       "      <th>node</th>\n",
       "      <td>1596</td>\n",
       "    </tr>\n",
       "    <tr>\n",
       "      <th>core</th>\n",
       "      <td>1586</td>\n",
       "    </tr>\n",
       "    <tr>\n",
       "      <th>angular</th>\n",
       "      <td>1518</td>\n",
       "    </tr>\n",
       "    <tr>\n",
       "      <th>google</th>\n",
       "      <td>1428</td>\n",
       "    </tr>\n",
       "    <tr>\n",
       "      <th>swift</th>\n",
       "      <td>1426</td>\n",
       "    </tr>\n",
       "  </tbody>\n",
       "</table>\n",
       "</div>"
      ],
      "text/plain": [
       "            Frequency\n",
       "Word                 \n",
       "python           6366\n",
       "android          5763\n",
       "java             4063\n",
       "javascript       3806\n",
       "spring           3295\n",
       "node             1596\n",
       "core             1586\n",
       "angular          1518\n",
       "google           1428\n",
       "swift            1426"
      ]
     },
     "metadata": {},
     "output_type": "display_data"
    }
   ],
   "source": [
    "tags = y_train.to_list()\n",
    "\n",
    "tag_dist = build_word_distribution(tags)\n",
    "\n",
    "print(f\"{tag_dist.shape[0]} tags différents\")\n",
    "print(\"10 tags les plus utilisés :\")\n",
    "display(tag_dist.head(10))\n",
    "m = 50\n",
    "first_m_tags = tag_dist[0:m].index.to_list()\n",
    "first_20_tags = tag_dist[0:20].index.to_list()"
   ]
  },
  {
   "cell_type": "code",
   "execution_count": 29,
   "metadata": {},
   "outputs": [
    {
     "data": {
      "text/plain": [
       "['python',\n",
       " 'android',\n",
       " 'java',\n",
       " 'javascript',\n",
       " 'spring',\n",
       " 'node',\n",
       " 'core',\n",
       " 'angular',\n",
       " 'google',\n",
       " 'swift',\n",
       " 'studio',\n",
       " 'html',\n",
       " 'reactjs',\n",
       " 'amazon',\n",
       " 'xcode',\n",
       " 'laravel',\n",
       " 'react',\n",
       " 'testing',\n",
       " 'django',\n",
       " 'apache']"
      ]
     },
     "execution_count": 29,
     "metadata": {},
     "output_type": "execute_result"
    }
   ],
   "source": [
    "first_20_tags"
   ]
  },
  {
   "cell_type": "code",
   "execution_count": 30,
   "metadata": {
    "id": "hvqKScu_HdxR"
   },
   "outputs": [],
   "source": [
    "w2v_size=50\n",
    "w2v_window=5\n",
    "w2v_min_count=1\n",
    "w2v_epochs=100\n",
    "maxlen = 24 # adapt to length of sentences\n",
    "sentences = X_train.to_list()\n",
    "sentences = [gensim.utils.simple_preprocess(text) for text in sentences]\n",
    "\n",
    "test_sentences = X_test.to_list()\n",
    "test_sentences = [gensim.utils.simple_preprocess(text) for text in test_sentences]"
   ]
  },
  {
   "cell_type": "code",
   "execution_count": 31,
   "metadata": {
    "colab": {
     "base_uri": "https://localhost:8080/"
    },
    "id": "tL1PVGUjLNeD",
    "outputId": "bb5b508e-6246-4b9b-8a24-40b6cd778df1"
   },
   "outputs": [
    {
     "name": "stdout",
     "output_type": "stream",
     "text": [
      "CPU times: total: 0 ns\n",
      "Wall time: 0 ns\n",
      "Build & train Word2Vec model ...\n",
      "Vocabulary size: 111195\n",
      "Word2Vec trained\n"
     ]
    }
   ],
   "source": [
    "# Création et entraînement du modèle Word2Vec\n",
    "%time\n",
    "print(\"Build & train Word2Vec model ...\")\n",
    "w2v_model = gensim.models.Word2Vec(min_count=w2v_min_count, window=w2v_window,\n",
    "                                                vector_size=w2v_size,\n",
    "                                                seed=42,\n",
    "                                                workers=1)\n",
    "#                                                workers=multiprocessing.cpu_count())\n",
    "w2v_model.build_vocab(sentences)\n",
    "w2v_model.train(sentences, total_examples=w2v_model.corpus_count, epochs=w2v_epochs)\n",
    "model_vectors = w2v_model.wv\n",
    "w2v_words = model_vectors.index_to_key\n",
    "print(\"Vocabulary size: %i\" % len(w2v_words))\n",
    "print(\"Word2Vec trained\")"
   ]
  },
  {
   "cell_type": "code",
   "execution_count": 32,
   "metadata": {
    "colab": {
     "base_uri": "https://localhost:8080/"
    },
    "id": "f6T71hVBLQfn",
    "outputId": "7261b3b9-9b29-401d-bd71-019c085db01d"
   },
   "outputs": [
    {
     "name": "stdout",
     "output_type": "stream",
     "text": [
      "Fit Tokenizer ...\n",
      "Number of unique words: 111196\n"
     ]
    }
   ],
   "source": [
    "# Préparation des sentences (tokenization)\n",
    "\n",
    "print(\"Fit Tokenizer ...\")\n",
    "tokenizer = Tokenizer()\n",
    "tokenizer.fit_on_texts(sentences)\n",
    "x_sentences = pad_sequences(tokenizer.texts_to_sequences(sentences),\n",
    "                                                     maxlen=maxlen,\n",
    "                                                     padding='post')\n",
    "\n",
    "x_test_sentences = pad_sequences(tokenizer.texts_to_sequences(test_sentences),\n",
    "                                                     maxlen=maxlen,\n",
    "                                                     padding='post')\n",
    "\n",
    "num_words = len(tokenizer.word_index) + 1\n",
    "print(\"Number of unique words: %i\" % num_words)"
   ]
  },
  {
   "cell_type": "code",
   "execution_count": 33,
   "metadata": {
    "colab": {
     "base_uri": "https://localhost:8080/"
    },
    "id": "2eTYKR4oLUSN",
    "outputId": "39e429a7-9347-4a54-c5d8-6405f386b449"
   },
   "outputs": [
    {
     "name": "stdout",
     "output_type": "stream",
     "text": [
      "Create Embedding matrix ...\n",
      "Word embedding rate :  1.0\n",
      "Embedding matrix: (111196, 50)\n"
     ]
    }
   ],
   "source": [
    "# Création de la matrice d'embedding\n",
    "\n",
    "print(\"Create Embedding matrix ...\")\n",
    "#w2v_size = 300\n",
    "word_index = tokenizer.word_index\n",
    "vocab_size = len(word_index) + 1\n",
    "embedding_matrix = np.zeros((vocab_size, w2v_size))\n",
    "i=0\n",
    "j=0\n",
    "\n",
    "for word, idx in word_index.items():\n",
    "    i +=1\n",
    "    if word in w2v_words:\n",
    "        j +=1\n",
    "        embedding_vector = model_vectors[word]\n",
    "        if embedding_vector is not None:\n",
    "            embedding_matrix[idx] = model_vectors[word]\n",
    "\n",
    "word_rate = np.round(j/i,4)\n",
    "print(\"Word embedding rate : \", word_rate)\n",
    "print(\"Embedding matrix: %s\" % str(embedding_matrix.shape))"
   ]
  },
  {
   "cell_type": "code",
   "execution_count": 34,
   "metadata": {
    "colab": {
     "base_uri": "https://localhost:8080/"
    },
    "id": "DCzOtRu3MctA",
    "outputId": "a64ec45f-3b4c-42c6-96c9-37a0b8e0ca7e"
   },
   "outputs": [
    {
     "data": {
      "text/html": [
       "<pre style=\"white-space:pre;overflow-x:auto;line-height:normal;font-family:Menlo,'DejaVu Sans Mono',consolas,'Courier New',monospace\"><span style=\"font-weight: bold\">Model: \"functional_1\"</span>\n",
       "</pre>\n"
      ],
      "text/plain": [
       "\u001b[1mModel: \"functional_1\"\u001b[0m\n"
      ]
     },
     "metadata": {},
     "output_type": "display_data"
    },
    {
     "data": {
      "text/html": [
       "<pre style=\"white-space:pre;overflow-x:auto;line-height:normal;font-family:Menlo,'DejaVu Sans Mono',consolas,'Courier New',monospace\">┏━━━━━━━━━━━━━━━━━━━━━━━━━━━━━━━━━━━━━━┳━━━━━━━━━━━━━━━━━━━━━━━━━━━━━┳━━━━━━━━━━━━━━━━━┓\n",
       "┃<span style=\"font-weight: bold\"> Layer (type)                         </span>┃<span style=\"font-weight: bold\"> Output Shape                </span>┃<span style=\"font-weight: bold\">         Param # </span>┃\n",
       "┡━━━━━━━━━━━━━━━━━━━━━━━━━━━━━━━━━━━━━━╇━━━━━━━━━━━━━━━━━━━━━━━━━━━━━╇━━━━━━━━━━━━━━━━━┩\n",
       "│ input_layer_1 (<span style=\"color: #0087ff; text-decoration-color: #0087ff\">InputLayer</span>)           │ (<span style=\"color: #00d7ff; text-decoration-color: #00d7ff\">None</span>, <span style=\"color: #00af00; text-decoration-color: #00af00\">24</span>)                  │               <span style=\"color: #00af00; text-decoration-color: #00af00\">0</span> │\n",
       "├──────────────────────────────────────┼─────────────────────────────┼─────────────────┤\n",
       "│ embedding (<span style=\"color: #0087ff; text-decoration-color: #0087ff\">Embedding</span>)                │ (<span style=\"color: #00d7ff; text-decoration-color: #00d7ff\">None</span>, <span style=\"color: #00af00; text-decoration-color: #00af00\">24</span>, <span style=\"color: #00af00; text-decoration-color: #00af00\">50</span>)              │       <span style=\"color: #00af00; text-decoration-color: #00af00\">5,559,800</span> │\n",
       "├──────────────────────────────────────┼─────────────────────────────┼─────────────────┤\n",
       "│ global_average_pooling1d             │ (<span style=\"color: #00d7ff; text-decoration-color: #00d7ff\">None</span>, <span style=\"color: #00af00; text-decoration-color: #00af00\">50</span>)                  │               <span style=\"color: #00af00; text-decoration-color: #00af00\">0</span> │\n",
       "│ (<span style=\"color: #0087ff; text-decoration-color: #0087ff\">GlobalAveragePooling1D</span>)             │                             │                 │\n",
       "└──────────────────────────────────────┴─────────────────────────────┴─────────────────┘\n",
       "</pre>\n"
      ],
      "text/plain": [
       "┏━━━━━━━━━━━━━━━━━━━━━━━━━━━━━━━━━━━━━━┳━━━━━━━━━━━━━━━━━━━━━━━━━━━━━┳━━━━━━━━━━━━━━━━━┓\n",
       "┃\u001b[1m \u001b[0m\u001b[1mLayer (type)                        \u001b[0m\u001b[1m \u001b[0m┃\u001b[1m \u001b[0m\u001b[1mOutput Shape               \u001b[0m\u001b[1m \u001b[0m┃\u001b[1m \u001b[0m\u001b[1m        Param #\u001b[0m\u001b[1m \u001b[0m┃\n",
       "┡━━━━━━━━━━━━━━━━━━━━━━━━━━━━━━━━━━━━━━╇━━━━━━━━━━━━━━━━━━━━━━━━━━━━━╇━━━━━━━━━━━━━━━━━┩\n",
       "│ input_layer_1 (\u001b[38;5;33mInputLayer\u001b[0m)           │ (\u001b[38;5;45mNone\u001b[0m, \u001b[38;5;34m24\u001b[0m)                  │               \u001b[38;5;34m0\u001b[0m │\n",
       "├──────────────────────────────────────┼─────────────────────────────┼─────────────────┤\n",
       "│ embedding (\u001b[38;5;33mEmbedding\u001b[0m)                │ (\u001b[38;5;45mNone\u001b[0m, \u001b[38;5;34m24\u001b[0m, \u001b[38;5;34m50\u001b[0m)              │       \u001b[38;5;34m5,559,800\u001b[0m │\n",
       "├──────────────────────────────────────┼─────────────────────────────┼─────────────────┤\n",
       "│ global_average_pooling1d             │ (\u001b[38;5;45mNone\u001b[0m, \u001b[38;5;34m50\u001b[0m)                  │               \u001b[38;5;34m0\u001b[0m │\n",
       "│ (\u001b[38;5;33mGlobalAveragePooling1D\u001b[0m)             │                             │                 │\n",
       "└──────────────────────────────────────┴─────────────────────────────┴─────────────────┘\n"
      ]
     },
     "metadata": {},
     "output_type": "display_data"
    },
    {
     "data": {
      "text/html": [
       "<pre style=\"white-space:pre;overflow-x:auto;line-height:normal;font-family:Menlo,'DejaVu Sans Mono',consolas,'Courier New',monospace\"><span style=\"font-weight: bold\"> Total params: </span><span style=\"color: #00af00; text-decoration-color: #00af00\">5,559,800</span> (21.21 MB)\n",
       "</pre>\n"
      ],
      "text/plain": [
       "\u001b[1m Total params: \u001b[0m\u001b[38;5;34m5,559,800\u001b[0m (21.21 MB)\n"
      ]
     },
     "metadata": {},
     "output_type": "display_data"
    },
    {
     "data": {
      "text/html": [
       "<pre style=\"white-space:pre;overflow-x:auto;line-height:normal;font-family:Menlo,'DejaVu Sans Mono',consolas,'Courier New',monospace\"><span style=\"font-weight: bold\"> Trainable params: </span><span style=\"color: #00af00; text-decoration-color: #00af00\">5,559,800</span> (21.21 MB)\n",
       "</pre>\n"
      ],
      "text/plain": [
       "\u001b[1m Trainable params: \u001b[0m\u001b[38;5;34m5,559,800\u001b[0m (21.21 MB)\n"
      ]
     },
     "metadata": {},
     "output_type": "display_data"
    },
    {
     "data": {
      "text/html": [
       "<pre style=\"white-space:pre;overflow-x:auto;line-height:normal;font-family:Menlo,'DejaVu Sans Mono',consolas,'Courier New',monospace\"><span style=\"font-weight: bold\"> Non-trainable params: </span><span style=\"color: #00af00; text-decoration-color: #00af00\">0</span> (0.00 B)\n",
       "</pre>\n"
      ],
      "text/plain": [
       "\u001b[1m Non-trainable params: \u001b[0m\u001b[38;5;34m0\u001b[0m (0.00 B)\n"
      ]
     },
     "metadata": {},
     "output_type": "display_data"
    }
   ],
   "source": [
    "# Création du modèle\n",
    "\n",
    "input=Input(shape=(len(x_sentences),maxlen),dtype='float64')\n",
    "word_input=Input(shape=(maxlen,),dtype='float64')\n",
    "word_embedding=Embedding(input_dim=vocab_size,\n",
    "                         output_dim=w2v_size,\n",
    "                         weights = [embedding_matrix],\n",
    "                         #input_length=maxlen\n",
    "                        )(word_input)\n",
    "word_vec=GlobalAveragePooling1D()(word_embedding)\n",
    "embed_model = Model([word_input],word_vec)\n",
    "\n",
    "embed_model.summary()"
   ]
  },
  {
   "cell_type": "code",
   "execution_count": 35,
   "metadata": {
    "colab": {
     "base_uri": "https://localhost:8080/"
    },
    "id": "_oLAK_Q7PArx",
    "outputId": "f5e9332e-fccd-404b-b545-4699f477fd58"
   },
   "outputs": [
    {
     "name": "stdout",
     "output_type": "stream",
     "text": [
      "\u001b[1m750/750\u001b[0m \u001b[32m━━━━━━━━━━━━━━━━━━━━\u001b[0m\u001b[37m\u001b[0m \u001b[1m1s\u001b[0m 730us/step\n"
     ]
    },
    {
     "data": {
      "text/plain": [
       "(23996, 50)"
      ]
     },
     "execution_count": 35,
     "metadata": {},
     "output_type": "execute_result"
    }
   ],
   "source": [
    "train_embeddings = embed_model.predict(x_sentences)\n",
    "train_embeddings.shape"
   ]
  },
  {
   "cell_type": "code",
   "execution_count": 36,
   "metadata": {},
   "outputs": [
    {
     "name": "stdout",
     "output_type": "stream",
     "text": [
      "\u001b[1m188/188\u001b[0m \u001b[32m━━━━━━━━━━━━━━━━━━━━\u001b[0m\u001b[37m\u001b[0m \u001b[1m0s\u001b[0m 727us/step\n"
     ]
    },
    {
     "data": {
      "text/plain": [
       "(5999, 50)"
      ]
     },
     "execution_count": 36,
     "metadata": {},
     "output_type": "execute_result"
    }
   ],
   "source": [
    "test_embeddings = embed_model.predict(x_test_sentences)\n",
    "test_embeddings.shape"
   ]
  },
  {
   "cell_type": "code",
   "execution_count": 37,
   "metadata": {
    "colab": {
     "base_uri": "https://localhost:8080/"
    },
    "id": "nyCbsdXDPFgr",
    "outputId": "52e17dc5-96c1-408b-d41b-491066c56bf8"
   },
   "outputs": [
    {
     "data": {
      "text/plain": [
       "array([[ 0.1140421 , -0.39403117,  0.5872348 , ...,  0.9071424 ,\n",
       "         1.6167808 , -1.2295543 ],\n",
       "       [ 0.12237797, -0.47442147, -0.06251165, ..., -0.3309948 ,\n",
       "         0.6679938 ,  0.54983264],\n",
       "       [ 0.089771  , -0.25212744, -1.8279182 , ...,  0.488892  ,\n",
       "         0.56804585, -2.1829014 ],\n",
       "       ...,\n",
       "       [ 0.5526301 , -0.04947426,  0.31364715, ...,  1.4788002 ,\n",
       "         2.0996838 , -1.1849009 ],\n",
       "       [ 0.9027381 , -0.8710565 , -1.6975183 , ..., -1.2362717 ,\n",
       "         1.1165684 , -0.8819213 ],\n",
       "       [ 0.22678019, -0.81143975, -0.8657817 , ...,  1.3274037 ,\n",
       "         1.5043063 , -0.8877192 ]], dtype=float32)"
      ]
     },
     "execution_count": 37,
     "metadata": {},
     "output_type": "execute_result"
    }
   ],
   "source": [
    "train_embeddings"
   ]
  },
  {
   "cell_type": "code",
   "execution_count": 38,
   "metadata": {
    "colab": {
     "base_uri": "https://localhost:8080/",
     "height": 256
    },
    "id": "Aou7yMytPH47",
    "outputId": "3552ba4c-f247-4d25-956e-569b884eba4c"
   },
   "outputs": [
    {
     "data": {
      "text/html": [
       "<div>\n",
       "<style scoped>\n",
       "    .dataframe tbody tr th:only-of-type {\n",
       "        vertical-align: middle;\n",
       "    }\n",
       "\n",
       "    .dataframe tbody tr th {\n",
       "        vertical-align: top;\n",
       "    }\n",
       "\n",
       "    .dataframe thead th {\n",
       "        text-align: right;\n",
       "    }\n",
       "</style>\n",
       "<table border=\"1\" class=\"dataframe\">\n",
       "  <thead>\n",
       "    <tr style=\"text-align: right;\">\n",
       "      <th></th>\n",
       "      <th>0</th>\n",
       "      <th>1</th>\n",
       "      <th>2</th>\n",
       "      <th>3</th>\n",
       "      <th>4</th>\n",
       "      <th>5</th>\n",
       "      <th>6</th>\n",
       "      <th>7</th>\n",
       "      <th>8</th>\n",
       "      <th>9</th>\n",
       "      <th>...</th>\n",
       "      <th>40</th>\n",
       "      <th>41</th>\n",
       "      <th>42</th>\n",
       "      <th>43</th>\n",
       "      <th>44</th>\n",
       "      <th>45</th>\n",
       "      <th>46</th>\n",
       "      <th>47</th>\n",
       "      <th>48</th>\n",
       "      <th>49</th>\n",
       "    </tr>\n",
       "  </thead>\n",
       "  <tbody>\n",
       "    <tr>\n",
       "      <th>0</th>\n",
       "      <td>0.114042</td>\n",
       "      <td>-0.394031</td>\n",
       "      <td>0.587235</td>\n",
       "      <td>0.814410</td>\n",
       "      <td>-0.117351</td>\n",
       "      <td>-1.685814</td>\n",
       "      <td>-1.563842</td>\n",
       "      <td>0.678629</td>\n",
       "      <td>-0.661164</td>\n",
       "      <td>0.664316</td>\n",
       "      <td>...</td>\n",
       "      <td>0.484204</td>\n",
       "      <td>-2.284003</td>\n",
       "      <td>-0.777321</td>\n",
       "      <td>-0.461396</td>\n",
       "      <td>-0.074590</td>\n",
       "      <td>0.566415</td>\n",
       "      <td>-0.352418</td>\n",
       "      <td>0.907142</td>\n",
       "      <td>1.616781</td>\n",
       "      <td>-1.229554</td>\n",
       "    </tr>\n",
       "    <tr>\n",
       "      <th>1</th>\n",
       "      <td>0.122378</td>\n",
       "      <td>-0.474421</td>\n",
       "      <td>-0.062512</td>\n",
       "      <td>2.060085</td>\n",
       "      <td>1.446805</td>\n",
       "      <td>-1.837831</td>\n",
       "      <td>-1.082546</td>\n",
       "      <td>-0.069560</td>\n",
       "      <td>0.788230</td>\n",
       "      <td>-0.592008</td>\n",
       "      <td>...</td>\n",
       "      <td>0.366805</td>\n",
       "      <td>-1.643174</td>\n",
       "      <td>-3.080921</td>\n",
       "      <td>-1.927952</td>\n",
       "      <td>0.982656</td>\n",
       "      <td>1.993173</td>\n",
       "      <td>-0.624728</td>\n",
       "      <td>-0.330995</td>\n",
       "      <td>0.667994</td>\n",
       "      <td>0.549833</td>\n",
       "    </tr>\n",
       "    <tr>\n",
       "      <th>2</th>\n",
       "      <td>0.089771</td>\n",
       "      <td>-0.252127</td>\n",
       "      <td>-1.827918</td>\n",
       "      <td>2.622149</td>\n",
       "      <td>0.179244</td>\n",
       "      <td>0.342307</td>\n",
       "      <td>-1.821389</td>\n",
       "      <td>1.825489</td>\n",
       "      <td>1.394345</td>\n",
       "      <td>-0.443122</td>\n",
       "      <td>...</td>\n",
       "      <td>0.633440</td>\n",
       "      <td>-0.897456</td>\n",
       "      <td>-2.108846</td>\n",
       "      <td>-0.594904</td>\n",
       "      <td>0.551360</td>\n",
       "      <td>1.837013</td>\n",
       "      <td>-2.287833</td>\n",
       "      <td>0.488892</td>\n",
       "      <td>0.568046</td>\n",
       "      <td>-2.182901</td>\n",
       "    </tr>\n",
       "    <tr>\n",
       "      <th>3</th>\n",
       "      <td>0.111428</td>\n",
       "      <td>-1.276255</td>\n",
       "      <td>-0.389043</td>\n",
       "      <td>0.881566</td>\n",
       "      <td>-0.141477</td>\n",
       "      <td>-0.615663</td>\n",
       "      <td>-3.589497</td>\n",
       "      <td>0.479280</td>\n",
       "      <td>1.690401</td>\n",
       "      <td>-0.142605</td>\n",
       "      <td>...</td>\n",
       "      <td>1.229526</td>\n",
       "      <td>-2.600318</td>\n",
       "      <td>-1.969574</td>\n",
       "      <td>0.356848</td>\n",
       "      <td>1.618854</td>\n",
       "      <td>0.644578</td>\n",
       "      <td>-0.624593</td>\n",
       "      <td>1.025519</td>\n",
       "      <td>1.134042</td>\n",
       "      <td>-1.747575</td>\n",
       "    </tr>\n",
       "    <tr>\n",
       "      <th>4</th>\n",
       "      <td>0.145268</td>\n",
       "      <td>-0.316173</td>\n",
       "      <td>0.115394</td>\n",
       "      <td>0.330967</td>\n",
       "      <td>0.254206</td>\n",
       "      <td>-0.952574</td>\n",
       "      <td>-1.442977</td>\n",
       "      <td>0.101830</td>\n",
       "      <td>0.481890</td>\n",
       "      <td>1.133722</td>\n",
       "      <td>...</td>\n",
       "      <td>0.976576</td>\n",
       "      <td>-1.210446</td>\n",
       "      <td>-0.495626</td>\n",
       "      <td>-0.160657</td>\n",
       "      <td>1.964040</td>\n",
       "      <td>-0.456732</td>\n",
       "      <td>-1.426386</td>\n",
       "      <td>0.839369</td>\n",
       "      <td>0.899495</td>\n",
       "      <td>-0.167490</td>\n",
       "    </tr>\n",
       "  </tbody>\n",
       "</table>\n",
       "<p>5 rows × 50 columns</p>\n",
       "</div>"
      ],
      "text/plain": [
       "         0         1         2         3         4         5         6   \\\n",
       "0  0.114042 -0.394031  0.587235  0.814410 -0.117351 -1.685814 -1.563842   \n",
       "1  0.122378 -0.474421 -0.062512  2.060085  1.446805 -1.837831 -1.082546   \n",
       "2  0.089771 -0.252127 -1.827918  2.622149  0.179244  0.342307 -1.821389   \n",
       "3  0.111428 -1.276255 -0.389043  0.881566 -0.141477 -0.615663 -3.589497   \n",
       "4  0.145268 -0.316173  0.115394  0.330967  0.254206 -0.952574 -1.442977   \n",
       "\n",
       "         7         8         9   ...        40        41        42        43  \\\n",
       "0  0.678629 -0.661164  0.664316  ...  0.484204 -2.284003 -0.777321 -0.461396   \n",
       "1 -0.069560  0.788230 -0.592008  ...  0.366805 -1.643174 -3.080921 -1.927952   \n",
       "2  1.825489  1.394345 -0.443122  ...  0.633440 -0.897456 -2.108846 -0.594904   \n",
       "3  0.479280  1.690401 -0.142605  ...  1.229526 -2.600318 -1.969574  0.356848   \n",
       "4  0.101830  0.481890  1.133722  ...  0.976576 -1.210446 -0.495626 -0.160657   \n",
       "\n",
       "         44        45        46        47        48        49  \n",
       "0 -0.074590  0.566415 -0.352418  0.907142  1.616781 -1.229554  \n",
       "1  0.982656  1.993173 -0.624728 -0.330995  0.667994  0.549833  \n",
       "2  0.551360  1.837013 -2.287833  0.488892  0.568046 -2.182901  \n",
       "3  1.618854  0.644578 -0.624593  1.025519  1.134042 -1.747575  \n",
       "4  1.964040 -0.456732 -1.426386  0.839369  0.899495 -0.167490  \n",
       "\n",
       "[5 rows x 50 columns]"
      ]
     },
     "execution_count": 38,
     "metadata": {},
     "output_type": "execute_result"
    }
   ],
   "source": [
    "df_train_embeddings = pd.DataFrame(train_embeddings)\n",
    "df_train_embeddings.head()"
   ]
  },
  {
   "cell_type": "code",
   "execution_count": 39,
   "metadata": {},
   "outputs": [
    {
     "data": {
      "text/html": [
       "<div>\n",
       "<style scoped>\n",
       "    .dataframe tbody tr th:only-of-type {\n",
       "        vertical-align: middle;\n",
       "    }\n",
       "\n",
       "    .dataframe tbody tr th {\n",
       "        vertical-align: top;\n",
       "    }\n",
       "\n",
       "    .dataframe thead th {\n",
       "        text-align: right;\n",
       "    }\n",
       "</style>\n",
       "<table border=\"1\" class=\"dataframe\">\n",
       "  <thead>\n",
       "    <tr style=\"text-align: right;\">\n",
       "      <th></th>\n",
       "      <th>0</th>\n",
       "      <th>1</th>\n",
       "      <th>2</th>\n",
       "      <th>3</th>\n",
       "      <th>4</th>\n",
       "      <th>5</th>\n",
       "      <th>6</th>\n",
       "      <th>7</th>\n",
       "      <th>8</th>\n",
       "      <th>9</th>\n",
       "      <th>...</th>\n",
       "      <th>40</th>\n",
       "      <th>41</th>\n",
       "      <th>42</th>\n",
       "      <th>43</th>\n",
       "      <th>44</th>\n",
       "      <th>45</th>\n",
       "      <th>46</th>\n",
       "      <th>47</th>\n",
       "      <th>48</th>\n",
       "      <th>49</th>\n",
       "    </tr>\n",
       "  </thead>\n",
       "  <tbody>\n",
       "    <tr>\n",
       "      <th>0</th>\n",
       "      <td>0.847737</td>\n",
       "      <td>-1.282928</td>\n",
       "      <td>-1.555933</td>\n",
       "      <td>1.916388</td>\n",
       "      <td>0.817142</td>\n",
       "      <td>-1.273617</td>\n",
       "      <td>-2.387031</td>\n",
       "      <td>0.333078</td>\n",
       "      <td>0.760162</td>\n",
       "      <td>-1.405179</td>\n",
       "      <td>...</td>\n",
       "      <td>0.289455</td>\n",
       "      <td>-0.829271</td>\n",
       "      <td>-2.065385</td>\n",
       "      <td>-0.831378</td>\n",
       "      <td>0.422644</td>\n",
       "      <td>1.731023</td>\n",
       "      <td>-0.746540</td>\n",
       "      <td>-0.531402</td>\n",
       "      <td>0.094650</td>\n",
       "      <td>-0.688930</td>\n",
       "    </tr>\n",
       "    <tr>\n",
       "      <th>1</th>\n",
       "      <td>0.085241</td>\n",
       "      <td>-0.322676</td>\n",
       "      <td>-0.652329</td>\n",
       "      <td>0.563520</td>\n",
       "      <td>2.165011</td>\n",
       "      <td>-0.709176</td>\n",
       "      <td>-1.848245</td>\n",
       "      <td>0.651135</td>\n",
       "      <td>0.198485</td>\n",
       "      <td>-1.056880</td>\n",
       "      <td>...</td>\n",
       "      <td>0.421884</td>\n",
       "      <td>-0.565349</td>\n",
       "      <td>-2.027064</td>\n",
       "      <td>0.152113</td>\n",
       "      <td>1.059368</td>\n",
       "      <td>2.728258</td>\n",
       "      <td>-0.225427</td>\n",
       "      <td>0.577174</td>\n",
       "      <td>0.655530</td>\n",
       "      <td>-0.458227</td>\n",
       "    </tr>\n",
       "    <tr>\n",
       "      <th>2</th>\n",
       "      <td>1.131607</td>\n",
       "      <td>-0.593968</td>\n",
       "      <td>-0.178800</td>\n",
       "      <td>0.087707</td>\n",
       "      <td>0.988353</td>\n",
       "      <td>-0.663312</td>\n",
       "      <td>-1.602113</td>\n",
       "      <td>0.703606</td>\n",
       "      <td>1.020411</td>\n",
       "      <td>-1.417235</td>\n",
       "      <td>...</td>\n",
       "      <td>0.811856</td>\n",
       "      <td>-1.119537</td>\n",
       "      <td>-1.473914</td>\n",
       "      <td>0.410407</td>\n",
       "      <td>0.075127</td>\n",
       "      <td>1.580735</td>\n",
       "      <td>-1.260311</td>\n",
       "      <td>0.618556</td>\n",
       "      <td>2.310146</td>\n",
       "      <td>-1.962190</td>\n",
       "    </tr>\n",
       "    <tr>\n",
       "      <th>3</th>\n",
       "      <td>1.106638</td>\n",
       "      <td>-0.576428</td>\n",
       "      <td>0.166837</td>\n",
       "      <td>1.643989</td>\n",
       "      <td>0.437103</td>\n",
       "      <td>-1.053232</td>\n",
       "      <td>-0.339466</td>\n",
       "      <td>-0.028403</td>\n",
       "      <td>1.235976</td>\n",
       "      <td>-0.144499</td>\n",
       "      <td>...</td>\n",
       "      <td>1.431486</td>\n",
       "      <td>-0.806925</td>\n",
       "      <td>-1.810256</td>\n",
       "      <td>-1.725779</td>\n",
       "      <td>0.211602</td>\n",
       "      <td>2.951921</td>\n",
       "      <td>-0.178748</td>\n",
       "      <td>-0.661879</td>\n",
       "      <td>-0.614471</td>\n",
       "      <td>-0.930609</td>\n",
       "    </tr>\n",
       "    <tr>\n",
       "      <th>4</th>\n",
       "      <td>0.438414</td>\n",
       "      <td>-1.400278</td>\n",
       "      <td>-0.194001</td>\n",
       "      <td>1.922495</td>\n",
       "      <td>0.043781</td>\n",
       "      <td>-1.127097</td>\n",
       "      <td>-1.408547</td>\n",
       "      <td>0.009329</td>\n",
       "      <td>1.685420</td>\n",
       "      <td>-0.597567</td>\n",
       "      <td>...</td>\n",
       "      <td>-0.665587</td>\n",
       "      <td>-0.317388</td>\n",
       "      <td>-0.751319</td>\n",
       "      <td>-0.616493</td>\n",
       "      <td>1.471976</td>\n",
       "      <td>0.789378</td>\n",
       "      <td>-0.337883</td>\n",
       "      <td>0.058628</td>\n",
       "      <td>0.661465</td>\n",
       "      <td>0.228465</td>\n",
       "    </tr>\n",
       "  </tbody>\n",
       "</table>\n",
       "<p>5 rows × 50 columns</p>\n",
       "</div>"
      ],
      "text/plain": [
       "         0         1         2         3         4         5         6   \\\n",
       "0  0.847737 -1.282928 -1.555933  1.916388  0.817142 -1.273617 -2.387031   \n",
       "1  0.085241 -0.322676 -0.652329  0.563520  2.165011 -0.709176 -1.848245   \n",
       "2  1.131607 -0.593968 -0.178800  0.087707  0.988353 -0.663312 -1.602113   \n",
       "3  1.106638 -0.576428  0.166837  1.643989  0.437103 -1.053232 -0.339466   \n",
       "4  0.438414 -1.400278 -0.194001  1.922495  0.043781 -1.127097 -1.408547   \n",
       "\n",
       "         7         8         9   ...        40        41        42        43  \\\n",
       "0  0.333078  0.760162 -1.405179  ...  0.289455 -0.829271 -2.065385 -0.831378   \n",
       "1  0.651135  0.198485 -1.056880  ...  0.421884 -0.565349 -2.027064  0.152113   \n",
       "2  0.703606  1.020411 -1.417235  ...  0.811856 -1.119537 -1.473914  0.410407   \n",
       "3 -0.028403  1.235976 -0.144499  ...  1.431486 -0.806925 -1.810256 -1.725779   \n",
       "4  0.009329  1.685420 -0.597567  ... -0.665587 -0.317388 -0.751319 -0.616493   \n",
       "\n",
       "         44        45        46        47        48        49  \n",
       "0  0.422644  1.731023 -0.746540 -0.531402  0.094650 -0.688930  \n",
       "1  1.059368  2.728258 -0.225427  0.577174  0.655530 -0.458227  \n",
       "2  0.075127  1.580735 -1.260311  0.618556  2.310146 -1.962190  \n",
       "3  0.211602  2.951921 -0.178748 -0.661879 -0.614471 -0.930609  \n",
       "4  1.471976  0.789378 -0.337883  0.058628  0.661465  0.228465  \n",
       "\n",
       "[5 rows x 50 columns]"
      ]
     },
     "execution_count": 39,
     "metadata": {},
     "output_type": "execute_result"
    }
   ],
   "source": [
    "df_test_embeddings = pd.DataFrame(test_embeddings)\n",
    "df_test_embeddings.head()"
   ]
  },
  {
   "cell_type": "code",
   "execution_count": 40,
   "metadata": {},
   "outputs": [
    {
     "data": {
      "text/plain": [
       "Index(['Title', 'Body', 'Tags', 'lemmatized_corpus', 'lemmatized_tags',\n",
       "       'stemmed_corpus', 'stemmed_tags', 'Text_complet', 'sentence_bow',\n",
       "       'sentence_bow_lem'],\n",
       "      dtype='object')"
      ]
     },
     "execution_count": 40,
     "metadata": {},
     "output_type": "execute_result"
    }
   ],
   "source": [
    "df.columns"
   ]
  },
  {
   "cell_type": "code",
   "execution_count": 41,
   "metadata": {
    "id": "0wAseXLiWVTP"
   },
   "outputs": [
    {
     "data": {
      "text/plain": [
       "29166    [python, python, panda, machine, learning, sim...\n",
       "20794    [python, amazon, service, virtualenv, tesserac...\n",
       "251      [javascript, node, firebase, google, cloud, fu...\n",
       "21780       [javascript, scope, export, constant, default]\n",
       "618      [python, serialization, flask, flask, sqlalche...\n",
       "Name: lemmatized_tags, dtype: object"
      ]
     },
     "execution_count": 41,
     "metadata": {},
     "output_type": "execute_result"
    }
   ],
   "source": [
    "y_train.head()"
   ]
  },
  {
   "cell_type": "code",
   "execution_count": 42,
   "metadata": {
    "colab": {
     "base_uri": "https://localhost:8080/"
    },
    "id": "TTPQ5aTOz8RS",
    "outputId": "f8bb8ad1-275d-43d2-bde2-09a28d068c34"
   },
   "outputs": [
    {
     "name": "stdout",
     "output_type": "stream",
     "text": [
      "L'embedding a généré 50 dimensions, il nous faut les réduire\n"
     ]
    }
   ],
   "source": [
    "nb_dim = df_train_embeddings.shape[1]\n",
    "print(f\"L'embedding a généré {nb_dim} dimensions, il nous faut les réduire\")"
   ]
  },
  {
   "cell_type": "markdown",
   "metadata": {
    "id": "zkRdg7ds0WCe"
   },
   "source": [
    "### Réduction de dimension - ACP"
   ]
  },
  {
   "cell_type": "code",
   "execution_count": 43,
   "metadata": {},
   "outputs": [
    {
     "data": {
      "text/plain": [
       "(23996, 50)"
      ]
     },
     "execution_count": 43,
     "metadata": {},
     "output_type": "execute_result"
    }
   ],
   "source": [
    "df_train_embeddings.shape"
   ]
  },
  {
   "cell_type": "code",
   "execution_count": 44,
   "metadata": {},
   "outputs": [
    {
     "data": {
      "text/plain": [
       "(5999, 50)"
      ]
     },
     "execution_count": 44,
     "metadata": {},
     "output_type": "execute_result"
    }
   ],
   "source": [
    "df_test_embeddings.shape"
   ]
  },
  {
   "cell_type": "code",
   "execution_count": 45,
   "metadata": {},
   "outputs": [],
   "source": [
    "X_train = df_train_embeddings"
   ]
  },
  {
   "cell_type": "code",
   "execution_count": 46,
   "metadata": {},
   "outputs": [
    {
     "data": {
      "text/html": [
       "<div>\n",
       "<style scoped>\n",
       "    .dataframe tbody tr th:only-of-type {\n",
       "        vertical-align: middle;\n",
       "    }\n",
       "\n",
       "    .dataframe tbody tr th {\n",
       "        vertical-align: top;\n",
       "    }\n",
       "\n",
       "    .dataframe thead th {\n",
       "        text-align: right;\n",
       "    }\n",
       "</style>\n",
       "<table border=\"1\" class=\"dataframe\">\n",
       "  <thead>\n",
       "    <tr style=\"text-align: right;\">\n",
       "      <th></th>\n",
       "      <th>0</th>\n",
       "      <th>1</th>\n",
       "      <th>2</th>\n",
       "      <th>3</th>\n",
       "      <th>4</th>\n",
       "      <th>5</th>\n",
       "      <th>6</th>\n",
       "      <th>7</th>\n",
       "      <th>8</th>\n",
       "      <th>9</th>\n",
       "      <th>...</th>\n",
       "      <th>40</th>\n",
       "      <th>41</th>\n",
       "      <th>42</th>\n",
       "      <th>43</th>\n",
       "      <th>44</th>\n",
       "      <th>45</th>\n",
       "      <th>46</th>\n",
       "      <th>47</th>\n",
       "      <th>48</th>\n",
       "      <th>49</th>\n",
       "    </tr>\n",
       "  </thead>\n",
       "  <tbody>\n",
       "    <tr>\n",
       "      <th>0</th>\n",
       "      <td>0.114042</td>\n",
       "      <td>-0.394031</td>\n",
       "      <td>0.587235</td>\n",
       "      <td>0.814410</td>\n",
       "      <td>-0.117351</td>\n",
       "      <td>-1.685814</td>\n",
       "      <td>-1.563842</td>\n",
       "      <td>0.678629</td>\n",
       "      <td>-0.661164</td>\n",
       "      <td>0.664316</td>\n",
       "      <td>...</td>\n",
       "      <td>0.484204</td>\n",
       "      <td>-2.284003</td>\n",
       "      <td>-0.777321</td>\n",
       "      <td>-0.461396</td>\n",
       "      <td>-0.074590</td>\n",
       "      <td>0.566415</td>\n",
       "      <td>-0.352418</td>\n",
       "      <td>0.907142</td>\n",
       "      <td>1.616781</td>\n",
       "      <td>-1.229554</td>\n",
       "    </tr>\n",
       "    <tr>\n",
       "      <th>1</th>\n",
       "      <td>0.122378</td>\n",
       "      <td>-0.474421</td>\n",
       "      <td>-0.062512</td>\n",
       "      <td>2.060085</td>\n",
       "      <td>1.446805</td>\n",
       "      <td>-1.837831</td>\n",
       "      <td>-1.082546</td>\n",
       "      <td>-0.069560</td>\n",
       "      <td>0.788230</td>\n",
       "      <td>-0.592008</td>\n",
       "      <td>...</td>\n",
       "      <td>0.366805</td>\n",
       "      <td>-1.643174</td>\n",
       "      <td>-3.080921</td>\n",
       "      <td>-1.927952</td>\n",
       "      <td>0.982656</td>\n",
       "      <td>1.993173</td>\n",
       "      <td>-0.624728</td>\n",
       "      <td>-0.330995</td>\n",
       "      <td>0.667994</td>\n",
       "      <td>0.549833</td>\n",
       "    </tr>\n",
       "    <tr>\n",
       "      <th>2</th>\n",
       "      <td>0.089771</td>\n",
       "      <td>-0.252127</td>\n",
       "      <td>-1.827918</td>\n",
       "      <td>2.622149</td>\n",
       "      <td>0.179244</td>\n",
       "      <td>0.342307</td>\n",
       "      <td>-1.821389</td>\n",
       "      <td>1.825489</td>\n",
       "      <td>1.394345</td>\n",
       "      <td>-0.443122</td>\n",
       "      <td>...</td>\n",
       "      <td>0.633440</td>\n",
       "      <td>-0.897456</td>\n",
       "      <td>-2.108846</td>\n",
       "      <td>-0.594904</td>\n",
       "      <td>0.551360</td>\n",
       "      <td>1.837013</td>\n",
       "      <td>-2.287833</td>\n",
       "      <td>0.488892</td>\n",
       "      <td>0.568046</td>\n",
       "      <td>-2.182901</td>\n",
       "    </tr>\n",
       "    <tr>\n",
       "      <th>3</th>\n",
       "      <td>0.111428</td>\n",
       "      <td>-1.276255</td>\n",
       "      <td>-0.389043</td>\n",
       "      <td>0.881566</td>\n",
       "      <td>-0.141477</td>\n",
       "      <td>-0.615663</td>\n",
       "      <td>-3.589497</td>\n",
       "      <td>0.479280</td>\n",
       "      <td>1.690401</td>\n",
       "      <td>-0.142605</td>\n",
       "      <td>...</td>\n",
       "      <td>1.229526</td>\n",
       "      <td>-2.600318</td>\n",
       "      <td>-1.969574</td>\n",
       "      <td>0.356848</td>\n",
       "      <td>1.618854</td>\n",
       "      <td>0.644578</td>\n",
       "      <td>-0.624593</td>\n",
       "      <td>1.025519</td>\n",
       "      <td>1.134042</td>\n",
       "      <td>-1.747575</td>\n",
       "    </tr>\n",
       "    <tr>\n",
       "      <th>4</th>\n",
       "      <td>0.145268</td>\n",
       "      <td>-0.316173</td>\n",
       "      <td>0.115394</td>\n",
       "      <td>0.330967</td>\n",
       "      <td>0.254206</td>\n",
       "      <td>-0.952574</td>\n",
       "      <td>-1.442977</td>\n",
       "      <td>0.101830</td>\n",
       "      <td>0.481890</td>\n",
       "      <td>1.133722</td>\n",
       "      <td>...</td>\n",
       "      <td>0.976576</td>\n",
       "      <td>-1.210446</td>\n",
       "      <td>-0.495626</td>\n",
       "      <td>-0.160657</td>\n",
       "      <td>1.964040</td>\n",
       "      <td>-0.456732</td>\n",
       "      <td>-1.426386</td>\n",
       "      <td>0.839369</td>\n",
       "      <td>0.899495</td>\n",
       "      <td>-0.167490</td>\n",
       "    </tr>\n",
       "  </tbody>\n",
       "</table>\n",
       "<p>5 rows × 50 columns</p>\n",
       "</div>"
      ],
      "text/plain": [
       "         0         1         2         3         4         5         6   \\\n",
       "0  0.114042 -0.394031  0.587235  0.814410 -0.117351 -1.685814 -1.563842   \n",
       "1  0.122378 -0.474421 -0.062512  2.060085  1.446805 -1.837831 -1.082546   \n",
       "2  0.089771 -0.252127 -1.827918  2.622149  0.179244  0.342307 -1.821389   \n",
       "3  0.111428 -1.276255 -0.389043  0.881566 -0.141477 -0.615663 -3.589497   \n",
       "4  0.145268 -0.316173  0.115394  0.330967  0.254206 -0.952574 -1.442977   \n",
       "\n",
       "         7         8         9   ...        40        41        42        43  \\\n",
       "0  0.678629 -0.661164  0.664316  ...  0.484204 -2.284003 -0.777321 -0.461396   \n",
       "1 -0.069560  0.788230 -0.592008  ...  0.366805 -1.643174 -3.080921 -1.927952   \n",
       "2  1.825489  1.394345 -0.443122  ...  0.633440 -0.897456 -2.108846 -0.594904   \n",
       "3  0.479280  1.690401 -0.142605  ...  1.229526 -2.600318 -1.969574  0.356848   \n",
       "4  0.101830  0.481890  1.133722  ...  0.976576 -1.210446 -0.495626 -0.160657   \n",
       "\n",
       "         44        45        46        47        48        49  \n",
       "0 -0.074590  0.566415 -0.352418  0.907142  1.616781 -1.229554  \n",
       "1  0.982656  1.993173 -0.624728 -0.330995  0.667994  0.549833  \n",
       "2  0.551360  1.837013 -2.287833  0.488892  0.568046 -2.182901  \n",
       "3  1.618854  0.644578 -0.624593  1.025519  1.134042 -1.747575  \n",
       "4  1.964040 -0.456732 -1.426386  0.839369  0.899495 -0.167490  \n",
       "\n",
       "[5 rows x 50 columns]"
      ]
     },
     "execution_count": 46,
     "metadata": {},
     "output_type": "execute_result"
    }
   ],
   "source": [
    "X_train.head()"
   ]
  },
  {
   "cell_type": "code",
   "execution_count": 47,
   "metadata": {},
   "outputs": [],
   "source": [
    "X_test = df_test_embeddings"
   ]
  },
  {
   "cell_type": "code",
   "execution_count": 48,
   "metadata": {
    "id": "qD83QjPa0RGu"
   },
   "outputs": [],
   "source": [
    "from sklearn.preprocessing import StandardScaler\n",
    "# Standardize\n",
    "scaler = StandardScaler()\n",
    "X_train_scaled = scaler.fit_transform(X_train)\n",
    "X_test_scaled = scaler.fit_transform(X_test)"
   ]
  },
  {
   "cell_type": "code",
   "execution_count": 49,
   "metadata": {
    "colab": {
     "base_uri": "https://localhost:8080/",
     "height": 472
    },
    "id": "Z_P9s6gi0iau",
    "outputId": "f8d914a2-65a5-403d-c0ad-11331009cea6"
   },
   "outputs": [
    {
     "data": {
      "image/png": "[encoded data removed]",
      "text/plain": [
       "<Figure size 640x480 with 1 Axes>"
      ]
     },
     "metadata": {},
     "output_type": "display_data"
    }
   ],
   "source": [
    "from sklearn.decomposition import PCA\n",
    "pca = PCA(random_state=42)\n",
    "pca.fit(X_train_scaled)\n",
    "\n",
    "def display_scree_plot(pca):\n",
    "    scree = pca.explained_variance_ratio_*100\n",
    "    plt.bar(np.arange(len(scree))+1, scree)\n",
    "    plt.plot(np.arange(len(scree))+1, scree.cumsum(),c=\"red\",marker='o')\n",
    "    plt.xlabel(\"rang de l'axe d'inertie\")\n",
    "    plt.ylabel(\"pourcentage d'inertie\")\n",
    "    plt.title(\"Eboulis des valeurs propres\")\n",
    "    plt.show(block=False)\n",
    "\n",
    "display_scree_plot(pca)"
   ]
  },
  {
   "cell_type": "code",
   "execution_count": 50,
   "metadata": {
    "colab": {
     "base_uri": "https://localhost:8080/"
    },
    "id": "3L0-cKl_0tpb",
    "outputId": "2a25f060-97dc-480e-bb4a-40d8d0883a55"
   },
   "outputs": [
    {
     "name": "stdout",
     "output_type": "stream",
     "text": [
      "Nombre de composantes principales avec 80.0% de la variance expliquée : 20\n",
      "Nous avons gardé 40.0% des dimensions\n"
     ]
    }
   ],
   "source": [
    "var = 0.80\n",
    "\n",
    "pca = PCA(n_components=var, random_state=42)\n",
    "pca.fit(X_train_scaled)\n",
    "X_train_transformed = pca.transform(X_train_scaled)\n",
    "X_test_transformed = pca.transform(X_test_scaled)\n",
    "print(f\"Nombre de composantes principales avec {var*100}% de la variance expliquée : {pca.components_.shape[0]}\")\n",
    "print(f\"Nous avons gardé {round((pca.components_.shape[0]/nb_dim)*100,0)}% des dimensions\")"
   ]
  },
  {
   "cell_type": "markdown",
   "metadata": {
    "id": "ZARuNegb061U"
   },
   "source": [
    "### Vectorisation des tags"
   ]
  },
  {
   "cell_type": "code",
   "execution_count": 51,
   "metadata": {
    "colab": {
     "base_uri": "https://localhost:8080/",
     "height": 245
    },
    "id": "2TIKhD0x00mc",
    "outputId": "d5e7b0ba-2153-49b6-afd0-87f22abbe24e"
   },
   "outputs": [
    {
     "name": "stdout",
     "output_type": "stream",
     "text": [
      "Affichage des classes du modèle de vectorisation :\n",
      "------------------------------------------------------------\n"
     ]
    },
    {
     "name": "stderr",
     "output_type": "stream",
     "text": [
      "C:\\Users\\A475388\\AppData\\Local\\anaconda3\\Lib\\site-packages\\sklearn\\preprocessing\\_label.py:895: UserWarning: unknown class(es) ['aadhaar', 'aapt', 'abaddressbook', 'abort', 'absolute', 'abstract', 'abstraction', 'acceleration', 'accelerometer', 'accent', 'accept', 'acceptance', 'access', 'accessibility', 'accessor', 'accessory', 'accessorytype', 'accompanist', 'accordion', 'account', 'accounting', 'accuracy', 'aceoledb', 'acid', 'acrobat', 'action', 'actionbar', 'actionbaractivity', 'actionbardrawertoggle', 'actioncable', 'actioncontroller', 'actionfilterattribute', 'actionlistener', 'actionmailer', 'actionmode', 'actionscript', 'actionview', 'activation', 'active', 'activeadmin', 'activejdbc', 'activejob', 'activemq', 'activerecord', 'activestorage', 'activiti', 'activity', 'activitynotfoundexception', 'actix', 'actor', 'actuator', 'acyclic', 'adaboost', 'adal', 'adam', 'adapter', 'adaptive', 'adblock', 'addeventlistener', 'addin', 'addins', 'addition', 'addon', 'addons', 'address', 'addressbook', 'addressbookui', 'addsubview', 'addtarget', 'adfs', 'adhoc', 'admin', 'adminer', 'administration', 'administrator', 'admob', 'adobe', 'adonis', 'adoptopenjdk', 'adsense', 'advanced', 'adversarial', 'advertising', 'aero', 'aesthetic', 'affinity', 'affix', 'afnetworking', 'agent', 'aggregate', 'aggregation', 'agnostic', 'aidl', 'aiohttp', 'airbnb', 'airbrake', 'airflow', 'airlock', 'ajax', 'ajaxform', 'akka', 'alamofire', 'alamofireimage', 'alarm', 'alarmmanager', 'alembic', 'alert', 'alertdialog', 'alexa', 'alfresco', 'algebra', 'algebraic', 'algolia', 'algorithm', 'algorithmic', 'alias', 'alibaba', 'align', 'alignment', 'alive', 'allauth', 'alljoyn', 'allocation', 'allure', 'aloha', 'alpacajs', 'alpha', 'alphabet', 'alphabetical', 'alphablending', 'alpine', 'alsa', 'altair', 'altbeacon', 'alter', 'ambari', 'ambiguous', 'ampersand', 'amplify', 'amplifyjs', 'amplitude', 'ampps', 'amqp', 'anaconda', 'analysis', 'analytic', 'analytics', 'analyzer', 'anchor', 'andengine', 'androiddesignsupport', 'androidhttpclient', 'androidsvg', 'androidx', 'angle', 'angularfire', 'animate', 'animated', 'animatedlist', 'animatewithduration', 'animation', 'annotate', 'annotation', 'anonymity', 'anonymous', 'anova', 'ansi', 'ansible', 'answering', 'antd', 'anti', 'antiforgerytoken', 'antivirus', 'antlr', 'anycancellable', 'anywhere', 'apdu', 'apex', 'apexcharts', 'apfs', 'apiary', 'apicontroller', 'apis', 'apiserver', 'apksigner', 'apollo', 'apparmor', 'appauth', 'appbar', 'appbarlayout', 'appcelerator', 'appcode', 'appcompat', 'appcompatactivity', 'appcompatdialog', 'appdelegate', 'appdomain', 'append', 'appendchild', 'appframework', 'appgallery', 'appicon', 'appium', 'appkit', 'apple', 'applescript', 'applet', 'application', 'applicationcontext', 'applicationpoolidentity', 'applinks', 'apply', 'approval', 'apprtc', 'apps', 'appservice', 'appsettings', 'appstore', 'appsync', 'appveyor', 'appwidget', 'appx', 'apscheduler', 'arabic', 'arcgis', 'architecture', 'archive', 'archlinux', 'arcore', 'arcpy', 'arduino', 'area', 'arel', 'arff', 'argb', 'argmax', 'argparse', 'args', 'argument', 'argv', 'aria', 'arithmetic', 'arkit', 'arrayadapter', 'arraybuffer', 'arraylist', 'arrow', 'arscnview', 'artifact', 'artifactory', 'artificial', 'artisan', 'aruco', 'ascii', 'asgi', 'asmx', 'aspbutton', 'aspect', 'aspectj', 'aspnet', 'aspnetboilerplate', 'aspnetcore', 'aspose', 'assembler', 'assembly', 'assert', 'assertion', 'assertj', 'assertraises', 'asset', 'assign', 'assignment', 'assist', 'assistant', 'associated', 'association', 'associative', 'assured', 'asterisk', 'async', 'asynccallback', 'asynchronous', 'asynchttpclient', 'asyncio', 'asyncpg', 'asyncstorage', 'asynctask', 'asynctest', 'atan', 'athena', 'atlas', 'atlassian', 'atom', 'atomic', 'atomicinteger', 'attachment', 'attack', 'attention', 'attribute', 'attributeerror', 'attributerouting', 'attrs', 'audio', 'audiocontext', 'audiorecord', 'audiotrack', 'audit', 'augmentation', 'augmented', 'aurelia', 'aurora', 'auth', 'authentication', 'authenticator', 'authority', 'authorization', 'authorize', 'auto', 'autocloseable', 'autocommit', 'autocomplete', 'autoconfiguration', 'autocorrect', 'autocrlf', 'autodoc', 'autoencoder', 'autofac', 'autofill', 'autofixture', 'autofocus', 'autograd', 'autoit', 'autolayout', 'autoload', 'autoloader', 'automapper', 'automated', 'automatic', 'automation', 'automaton', 'autopep', 'autoplay', 'autoprefixer', 'autoresize', 'autorotate', 'autoscaling', 'autoscroll', 'autosize', 'autostart', 'autotools', 'autowired', 'avahi', 'availability', 'avassetexportsession', 'avatar', 'avaudioengine', 'avaudiofile', 'avaudiopcmbuffer', 'avaudioplayer', 'avaudioplayernode', 'avaudiorecorder', 'avaudiosession', 'avcapturesession', 'average', 'avfoundation', 'avkit', 'avplayer', 'avplayeritem', 'avplayerviewcontroller', 'avro', 'avurlasset', 'avvideocomposition', 'await', 'awesome', 'awss', 'ax', 'axios', 'axis', 'azureservicebus', 'baasbox', 'babel', 'babeljs', 'back', 'backbarbuttonitem', 'backbone', 'backend', 'background', 'backpack', 'backpropagation', 'backslash', 'backspace', 'backstack', 'backtracking', 'backup', 'backwards', 'bacon', 'bacpac', 'badge', 'balancer', 'balancing', 'balde', 'banana', 'bandwidth', 'banner', 'barcode', 'base', 'baseadapter', 'based', 'basehttpserver', 'basemap', 'bash', 'basic', 'batch', 'batching', 'battery', 'batterymanager', 'bayesian', 'bazel', 'bcrypt', 'beacon', 'beagleboneblack', 'beam', 'beamer', 'bean', 'beancreationexception', 'beanstalk', 'beanstalkd', 'bearer', 'beautifulsoup', 'becomefirstresponder', 'beeline', 'behave', 'behavior', 'behaviorsubject', 'behind', 'belongs', 'benchmarking', 'bert', 'beta', 'bezier', 'bias', 'bid', 'bidirectional', 'bigdata', 'bigdecimal', 'bigint', 'biginteger', 'bigquery', 'bigtable', 'billing', 'bimap', 'binance', 'binary', 'binaryfiles', 'bind', 'binder', 'binding', 'binning', 'bintray', 'bioinformatics', 'biometric', 'biometrics', 'biopython', 'bios', 'bipartite', 'bird', 'birt', 'bitbake', 'bitbucket', 'bitcode', 'bitcoind', 'bitmap', 'bitmapfactory', 'bitmapimage', 'bitmask', 'bitwise', 'black', 'blacklist', 'blade', 'blank', 'blas', 'blaze', 'blazor', 'blend', 'blender', 'blending', 'bleu', 'blink', 'blit', 'blob', 'blobstorage', 'bloburls', 'bloc', 'block', 'blockchain', 'blocker', 'blocking', 'blockingqueue', 'blog', 'bloodhound', 'blue', 'bluebird', 'blueimp', 'bluemix', 'blueprint', 'bluetooth', 'bluez', 'blur', 'blurry', 'board', 'body', 'bogus', 'boilerplate', 'bokeh', 'bolt', 'boltdb', 'bonecp', 'bonjour', 'boolean', 'boost', 'boosting', 'bootloader', 'bootstrapping', 'bootswatch', 'border', 'boringssl', 'bot', 'botframework', 'boto', 'botocore', 'bottle', 'bottom', 'bottomappbar', 'bottombar', 'bottomnav', 'bottomnavigation', 'bottomnavigationview', 'bottomsheetdialog', 'bounce', 'bouncycastle', 'bound', 'boundary', 'bounding', 'bower', 'boxing', 'boxplot', 'bpmn', 'bracket', 'brain', 'braintree', 'branch', 'brave', 'breadcrumb', 'breadth', 'break', 'breakpoint', 'breakpoints', 'brew', 'bridge', 'bridging', 'brightness', 'broadcast', 'broadcasting', 'broadcastreceiver', 'broken', 'broker', 'browser', 'browserify', 'browserstack', 'bson', 'bubbling', 'bucket', 'buddy', 'buddypress', 'buffer', 'bufferedimage', 'bufferedreader', 'bufferedwriter', 'buffering', 'build', 'buildconfig', 'builder', 'building', 'buildkit', 'buildout', 'buildozer', 'buildpack', 'buildpath', 'built', 'bulk', 'bulkinsert', 'bulkupdate', 'bull', 'bulma', 'bumblebee', 'bundle', 'bundler', 'bundling', 'business', 'buster', 'busybox', 'butterknife', 'button', 'bxslider', 'byte', 'bytea', 'bytearray', 'bytebuffer', 'bytecode', 'bytesio', 'bytestream', 'bzip', 'cabal', 'cache', 'caching', 'cadvisor', 'caffe', 'cagradientlayer', 'cairo', 'cakephp', 'calabash', 'calayer', 'calc', 'calculated', 'calculator', 'calculus', 'calendar', 'calendarview', 'caliburn', 'call', 'callable', 'callback', 'callbackurl', 'calling', 'callkit', 'camel', 'camelcasing', 'camera', 'camerax', 'cancan', 'cancellation', 'cancellationtokensource', 'cancelling', 'candidate', 'candlestick', 'canny', 'canopy', 'canvas', 'canvaskit', 'capability', 'capacitor', 'capistrano', 'capitalization', 'capitalize', 'captcha', 'caption', 'captivenetwork', 'capture', 'capturing', 'capybara', 'carbon', 'card', 'cardboard', 'cardlayout', 'cardview', 'caret', 'cargo', 'carousel', 'carriage', 'carrier', 'cart', 'cartesian', 'carthage', 'cartopy', 'casbah', 'cascade', 'case', 'cashapelayer', 'cask', 'casperjs', 'cassandra', 'cast', 'casting', 'castle', 'catalina', 'catalog', 'catalyst', 'catch', 'categorical', 'category', 'catplot', 'catransform', 'cbperipheral', 'ccavenue', 'cefsharp', 'ceil', 'celery', 'celerybeat', 'celeryd', 'cell', 'cellular', 'center', 'centering', 'centos', 'central', 'centroid', 'cert', 'certbot', 'certifi', 'certificate', 'certutil', 'cfbundleidentifier', 'cffi', 'cfnetwork', 'cgaffinetransform', 'cgbitmapcontext', 'cgcontext', 'cgfloat', 'cgimage', 'cglib', 'cgpoint', 'cgroups', 'cgsize', 'chai', 'chain', 'chained', 'chaining', 'chakra', 'chakram', 'change', 'changedetection', 'changeset', 'channel', 'char', 'character', 'chardet', 'charles', 'chart', 'chartboost', 'chartist', 'chat', 'chatbot', 'chatgpt', 'check', 'checkbox', 'checked', 'checkjs', 'checkmarx', 'checkpoint', 'checkpointing', 'checkstyle', 'checksum', 'cheerio', 'cheetah', 'chess', 'child', 'childviewcontroller', 'childviews', 'chip', 'chipmunk', 'chmod', 'chocolatey', 'chokidar', 'chooser', 'chosen', 'chown', 'chrome', 'chromebook', 'chromecast', 'chromedriver', 'chromium', 'chunk', 'chunked', 'chunking', 'cicd', 'cifilter', 'cifs', 'ciimage', 'cinnamon', 'circleci', 'circos', 'circular', 'claim', 'clam', 'clamp', 'clang', 'class', 'classcastexception', 'classic', 'classification', 'classloader', 'classname', 'classnotfoundexception', 'classpath', 'classrunner', 'clause', 'clcircleregion', 'clean', 'cleaning', 'cleanup', 'clear', 'cleartext', 'clgeocoder', 'click', 'clickable', 'clickjacking', 'client', 'clientwebsocket', 'climate', 'clion', 'clip', 'clipboard', 'clipboarddata', 'cllocation', 'cllocationcoordinate', 'cllocationdistance', 'cllocationmanager', 'clob', 'clock', 'clojure', 'clone', 'close', 'closedxml', 'closure', 'cloudbees', 'cloudera', 'cloudflare', 'cloudformation', 'cloudfoundry', 'cloudfront', 'cloudinary', 'cloudwatch', 'cloudwatchlogs', 'clplacemark', 'cluster', 'clustering', 'cmake', 'cmdlet', 'cname', 'coalesce', 'cobertura', 'cockroachdb', 'coco', 'cocoa', 'cocoaasyncsocket', 'cocoapods', 'codable', 'codahale', 'code', 'codeanalysis', 'codeartifact', 'codeblocks', 'codebuild', 'codec', 'codeception', 'codecov', 'codecs', 'coded', 'codegen', 'codeigniter', 'codelite', 'codemirror', 'codepages', 'codepipeline', 'codeship', 'codesign', 'coding', 'coercion', 'coffeescript', 'cognito', 'coil', 'colaboratory', 'cold', 'collaboration', 'collaborative', 'collapsable', 'collapsingtoolbarlayout', 'collation', 'collect', 'collection', 'collectionview', 'collector', 'collectstatic', 'collision', 'collocation', 'color', 'colorbar', 'colorbox', 'coloring', 'colormap', 'column', 'combination', 'combine', 'combining', 'combobox', 'cometd', 'command', 'comment', 'commerce', 'commit', 'common', 'commoncrypto', 'commonjs', 'commonschunkplugin', 'communication', 'community', 'compact', 'comparable', 'comparator', 'compare', 'comparison', 'compass', 'compat', 'compatibility', 'compilation', 'compile', 'compiler', 'compiling', 'complement', 'completable', 'completion', 'completionhandler', 'complex', 'complexity', 'component', 'composable', 'compose', 'composer', 'composite', 'composition', 'compound', 'comprehension', 'compress', 'compression', 'compute', 'computed', 'computer', 'computing', 'concatenation', 'concept', 'concern', 'concurrency', 'concurrent', 'concurrenthashmap', 'conda', 'condition', 'conditional', 'conemu', 'conf', 'confidence', 'config', 'configparser', 'configuration', 'configure', 'confirm', 'confirmation', 'conflict', 'conflicting', 'confluent', 'conftest', 'confusion', 'congestion', 'conio', 'connect', 'connected', 'connection', 'connectivity', 'connectivitymanager', 'connector', 'connexion', 'console', 'constant', 'constexpr', 'constraint', 'constraintlayout', 'construct', 'construction', 'constructor', 'consul', 'consumer', 'contact', 'contactless', 'contactpicker', 'contain', 'contained', 'container', 'containerd', 'contains', 'content', 'contenteditable', 'contentful', 'contentprovider', 'contentresolver', 'contentsize', 'context', 'contextify', 'contextmanager', 'contextmenu', 'contextpath', 'continuation', 'continuous', 'contour', 'contourf', 'contract', 'contrib', 'control', 'controlled', 'controller', 'controlpanel', 'controlsfx', 'controlvalueaccessor', 'conv', 'convention', 'conversion', 'convert', 'converter', 'convolution', 'cookie', 'cookiejar', 'cookiemanager', 'cookiestore', 'cooky', 'coordinate', 'coordinator', 'coordinatorlayout', 'copy', 'copying', 'corda', 'cordova', 'coreclr', 'coredump', 'coreml', 'coreos', 'corespotlight', 'corner', 'cornerradius', 'coroutine', 'coroutines', 'coroutinescope', 'corpus', 'correlation', 'corrupt', 'cors', 'cortana', 'cosine', 'cosmos', 'cosmosdb', 'cost', 'costura', 'couchdb', 'count', 'countdown', 'countdowntimer', 'counter', 'countif', 'counting', 'countplot', 'country', 'countvectorizer', 'coupon', 'covalent', 'covariance', 'cover', 'coverage', 'cpanel', 'cpplint', 'cprofile', 'cpython', 'cqlsh', 'cqrs', 'crash', 'crashlytics', 'crawler', 'create', 'created', 'createjs', 'createobjecturl', 'creator', 'credential', 'crispy', 'criteriaquery', 'criterion', 'critical', 'cron', 'cronexpression', 'cronjob', 'crop', 'cross', 'crosstab', 'crosswalk', 'crud', 'crypto', 'cryptography', 'cryptojs', 'cryptoswift', 'crystal', 'csharp', 'csproj', 'csrf', 'cssom', 'ctest', 'ctypes', 'cube', 'cubic', 'cucumber', 'cuda', 'cudnn', 'cumsum', 'cumulative', 'curator', 'curl', 'currency', 'currentlocation', 'currentvaluesubject', 'curse', 'cursor', 'cursoradapter', 'cursorloader', 'curve', 'custom', 'customization', 'customizing', 'customstringconvertible', 'customtkinter', 'customtool', 'customvalidator', 'cutout', 'cvpixelbuffer', 'cvxopt', 'cvxpy', 'cyanogenmod', 'cycle', 'cyclic', 'cygwin', 'cypher', 'cypress', 'cython', 'dacpac', 'daemon', 'dagger', 'dalvik', 'daphne', 'dapper', 'dark', 'darkmode', 'darknet', 'dart', 'dash', 'dashboard', 'dask', 'databind', 'databinding', 'databricks', 'dataclasses', 'datacontext', 'datadog', 'dataflow', 'dataformat', 'datagrid', 'datagridview', 'datainputstream', 'dataloader', 'datamapper', 'datamodel', 'dataproc', 'dataset', 'datasets', 'datasource', 'datastax', 'datastore', 'datatable', 'datatables', 'datatools', 'date', 'dateadd', 'datecreated', 'datefilter', 'dateformatter', 'datejs', 'datepicker', 'datetime', 'datetimeformatter', 'datetimeindex', 'datetimeoffset', 'datetimepicker', 'dateutil', 'day', 'dayofweek', 'dbconnection', 'dbcontext', 'dbcp', 'dbeaver', 'dbfunctions', 'dbghelp', 'dblink', 'dbmigrate', 'dbms', 'dbscan', 'dbset', 'dbsetup', 'dbunit', 'dbus', 'dbutils', 'dcos', 'ddms', 'dead', 'deadlock', 'debezium', 'debian', 'debouncing', 'debug', 'debugger', 'debuggervisualizer', 'debugging', 'decimal', 'decimalformat', 'decision', 'declaration', 'declare', 'declspec', 'decodable', 'decode', 'decoder', 'decoding', 'decompiler', 'decompiling', 'decomposition', 'deconvolution', 'decoration', 'decorator', 'decouple', 'decoupling', 'decrement', 'deep', 'deepl', 'deeplink', 'default', 'defaultdict', 'defender', 'deferred', 'defined', 'defineproperty', 'definitelytyped', 'definition', 'deinit', 'delaunay', 'delay', 'delayed', 'delayedvariableexpansion', 'delegate', 'delegation', 'delete', 'delimiter', 'delivery', 'delphi', 'delta', 'dendrogram', 'denied', 'deno', 'density', 'deobfuscation', 'dependency', 'depends', 'deploy', 'deployment', 'deprecated', 'deprecation', 'depth', 'deque', 'descent', 'descriptor', 'deserialization', 'design', 'designated', 'designer', 'desktop', 'destroy', 'destructor', 'destructuring', 'detail', 'detailview', 'detect', 'detection', 'detector', 'deterministic', 'devcon', 'developer', 'development', 'devenv', 'deviation', 'device', 'devicecheck', 'deviceid', 'devicemotion', 'devicetoken', 'devise', 'devops', 'devpi', 'devtools', 'dexopt', 'diacritic', 'diagnostics', 'diagram', 'dialer', 'dialog', 'dialogfragment', 'diamond', 'dict', 'dictionary', 'didset', 'difference', 'different', 'differential', 'digest', 'digit', 'digital', 'dimension', 'dimensionality', 'direct', 'directed', 'direction', 'directive', 'directory', 'directshow', 'directx', 'disable', 'disabled', 'disaster', 'disconnect', 'discord', 'discourse', 'discovery', 'discrete', 'discretization', 'disk', 'diskcache', 'diskspace', 'dismiss', 'dispatch', 'display', 'displayattribute', 'disposition', 'dist', 'distance', 'distinct', 'distribute', 'distributed', 'distribution', 'distutils', 'divide', 'divider', 'division', 'djangoappengine', 'dlib', 'dllimport', 'dlopen', 'dnvm', 'doc', 'dockerfile', 'dockerhub', 'docsplit', 'docstring', 'docsy', 'doctor', 'doctrine', 'document', 'documentation', 'documentfile', 'docx', 'dollar', 'domain', 'domexception', 'domparser', 'dompdf', 'dompurify', 'donut', 'dotenv', 'dotnet', 'dotpeek', 'double', 'downcast', 'downgrade', 'download', 'downsampling', 'doxygen', 'doze', 'dozer', 'dplyr', 'drag', 'draggable', 'dragula', 'draw', 'drawable', 'drawables', 'drawer', 'drawerlayout', 'drawertoggle', 'drawimage', 'drawing', 'drawrect', 'drawrectangle', 'dream', 'dreamhost', 'drilldown', 'drive', 'driven', 'driver', 'driving', 'drop', 'dropbox', 'dropdown', 'dropdownbox', 'dropdownbutton', 'dropdownlistfor', 'dropdowns', 'dropout', 'dropshadow', 'dropwizard', 'dropzone', 'drupal', 'drush', 'dryscrape', 'dsym', 'dtouch', 'dtype', 'dual', 'duck', 'dummy', 'dump', 'dumpdata', 'duplicate', 'duration', 'dvcs', 'dwarf', 'dyld', 'dylib', 'dynamic', 'dynamodb', 'eager', 'early', 'earthpy', 'easy', 'easymock', 'ebean', 'ecdsa', 'echarts', 'echo', 'eclemma', 'eclipse', 'eclipselink', 'ecma', 'ecmascript', 'econnreset', 'edge', 'edison', 'edit', 'editable', 'editing', 'edition', 'editor', 'editorjs', 'edittext', 'edmx', 'effect', 'efficiency', 'efficient', 'ehcache', 'eigenvalue', 'einsum', 'eksctl', 'elastic', 'elasticache', 'elasticpool', 'elasticsearch', 'elcapitan', 'electron', 'electronic', 'element', 'elementref', 'elementtree', 'elementwise', 'elevation', 'elision', 'elixir', 'ellipsis', 'eloquent', 'email', 'embed', 'embedded', 'embedder', 'embedding', 'ember', 'emit', 'emitter', 'emmet', 'emoji', 'emoticon', 'emotion', 'empty', 'emscripten', 'emulation', 'emulator', 'encapsulation', 'enchant', 'encodable', 'encode', 'encoder', 'encoders', 'encoding', 'encrypt', 'encryption', 'enctype', 'end', 'endianness', 'ending', 'endlessscroll', 'endorsed', 'endpoint', 'enforcer', 'engine', 'engineering', 'enter', 'enterprise', 'entitlement', 'entity', 'entitymanager', 'entropy', 'entry', 'entrypoint', 'enumerate', 'enumerated', 'enumeration', 'enums', 'enumset', 'envdte', 'envers', 'environment', 'enzyme', 'eonasdan', 'epipe', 'epoch', 'epoll', 'epollet', 'equality', 'equalization', 'equation', 'equinox', 'erasure', 'erlang', 'erpnext', 'errno', 'error', 'errorhandler', 'esapi', 'esbuild', 'escape', 'escaping', 'eslint', 'eslintignore', 'eslintrc', 'espresso', 'esprima', 'esri', 'essential', 'estimator', 'etag', 'etcd', 'ether', 'ethereum', 'ethernet', 'euclidean', 'eureka', 'eval', 'evaluation', 'event', 'eventbus', 'eventemitter', 'eventgrid', 'eventhub', 'eventkit', 'eventlet', 'eventmachine', 'eventsource', 'eventtrigger', 'evernote', 'evolutionary', 'excel', 'exceljs', 'except', 'exception', 'exchange', 'exchangelib', 'exchangewebservices', 'exclusion', 'exec', 'execjs', 'executable', 'execute', 'executemany', 'execution', 'executor', 'executorservice', 'execvp', 'exif', 'exist', 'exists', 'exit', 'exoplayer', 'expand', 'expandablelistview', 'expansion', 'expect', 'expected', 'experience', 'expert', 'explicit', 'explode', 'exploit', 'explorer', 'expo', 'export', 'exporter', 'exposeddropdown', 'express', 'expression', 'extend', 'extended', 'extends', 'extension', 'external', 'extjs', 'extra', 'extract', 'extraction', 'extrapolation', 'fabric', 'fabricjs', 'facade', 'face', 'facebook', 'facet', 'factor', 'factorial', 'factorization', 'factory', 'fade', 'fadein', 'fadeout', 'fading', 'failed', 'failover', 'failsafe', 'fake', 'faker', 'fallback', 'false', 'family', 'fancyimpute', 'faraday', 'fargate', 'farsi', 'fast', 'fastapi', 'fastboot', 'fastcgi', 'fasterxml', 'fastify', 'fastjson', 'fastlane', 'fastparquet', 'fastscroll', 'fasttext', 'fatal', 'fatjar', 'fault', 'faulthandler', 'favicon', 'fbsdk', 'feathersjs', 'feature', 'federation', 'fedora', 'feedback', 'feign', 'felix', 'fetch', 'ffmpeg', 'fgets', 'fiber', 'fibonacci', 'fiddle', 'fiddler', 'field', 'fieldlist', 'fieldset', 'fifo', 'figure', 'file', 'fileapi', 'filefield', 'filehandler', 'fileinputstream', 'filename', 'filenotfoundexception', 'fileoutputstream', 'filepath', 'fileprovider', 'filereader', 'filesize', 'fileslurp', 'filesystem', 'filesystems', 'filesystemwatcher', 'filetree', 'fileutils', 'filewriter', 'filezilla', 'fill', 'fillna', 'filter', 'filtering', 'final', 'finalization', 'finalize', 'finalizer', 'finally', 'finance', 'find', 'findbugs', 'findelement', 'findviewbyid', 'fine', 'fingerprint', 'fingerprinting', 'finish', 'finite', 'fiona', 'fire', 'firebaseui', 'firebreath', 'firebug', 'firefox', 'firefoxdriver', 'firehose', 'firestore', 'firewall', 'firewalld', 'first', 'fitbounds', 'fitting', 'fitvids', 'fixed', 'fixture', 'flac', 'flag', 'flake', 'flannel', 'flappy', 'flash', 'flashlight', 'flask', 'flatbuffers', 'flatlist', 'flatmap', 'flatten', 'flavordimension', 'flavored', 'flawed', 'flex', 'flexbox', 'flexible', 'flicker', 'flickity', 'flickr', 'flink', 'floating', 'floor', 'flot', 'flow', 'flowlayout', 'flowtype', 'fluent', 'fluentvalidation', 'fluid', 'flume', 'flurl', 'flush', 'flux', 'flyway', 'fmod', 'focus', 'focusmanager', 'focusout', 'fody', 'fold', 'folding', 'folium', 'font', 'fontawesome', 'footer', 'forcats', 'foreach', 'forecasting', 'foreground', 'foregroundnotification', 'foreign', 'foreman', 'forest', 'forever', 'forge', 'forget', 'forgot', 'fork', 'forkjoinpool', 'form', 'formarray', 'format', 'formatter', 'formatting', 'formbuilder', 'formcollection', 'formgroups', 'formidable', 'formik', 'formsauthentication', 'formsy', 'formtastic', 'formula', 'fortify', 'fortran', 'forward', 'forwarded', 'forwarding', 'forwardref', 'fosrestbundle', 'found', 'foundation', 'foundry', 'foursquare', 'fpdf', 'fpdi', 'fractal', 'fraction', 'fragment', 'fragmentactivity', 'fragmentmanager', 'fragmentpageradapter', 'fragmentstatepageradapter', 'frame', 'framebuffer', 'framelayout', 'framer', 'frappe', 'free', 'freebsd', 'freemarker', 'freetds', 'freetype', 'freeze', 'frequency', 'fresco', 'friend', 'frontend', 'froogaloop', 'fsevents', 'ftdi', 'ftplib', 'fuelux', 'full', 'fullcalendar', 'fullpage', 'fullscreen', 'func', 'function', 'functional', 'functools', 'functor', 'fuse', 'fusedlocation', 'fusedlocationproviderapi', 'fusioncharts', 'future', 'futurebuilder', 'futuretask', 'fuzzy', 'fuzzywuzzy', 'fwrite', 'fxcop', 'fxml', 'fxmlloader', 'gacutil', 'gain', 'galaxy', 'galleriffic', 'gallery', 'game', 'gamma', 'ganache', 'garbage', 'gatekeeper', 'gateway', 'gatsby', 'gatt', 'gaussian', 'gawk', 'gcdasyncudpsocket', 'gcloud', 'gcov', 'gcsfuse', 'gdal', 'geckodriver', 'gemfile', 'genealogy', 'generate', 'generation', 'generative', 'generator', 'generic', 'genetic', 'genetics', 'gensim', 'genymotion', 'geocode', 'geocoder', 'geocoding', 'geodjango', 'geofence', 'geofencing', 'geofire', 'geojson', 'geolocation', 'geometry', 'geopandas', 'geos', 'geospatial', 'geotiff', 'gerrit', 'gesture', 'gesturedetector', 'getattribute', 'getboundingclientrect', 'getch', 'getcomputedstyle', 'getcontent', 'getdate', 'getelementbyid', 'getenv', 'getjson', 'getproperty', 'getselection', 'getter', 'gettext', 'getusermedia', 'getx', 'gevent', 'gfortran', 'ggally', 'gganimate', 'ggmap', 'ggplot', 'ghci', 'ghostdriver', 'ghostscript', 'girafee', 'gitattributes', 'gitbucket', 'githooks', 'github', 'gitignore', 'gitlab', 'gitpython', 'glad', 'glass', 'glassfish', 'glcm', 'glfw', 'glib', 'glibc', 'glide', 'glob', 'global', 'globalization', 'glove', 'glue', 'gluon', 'glut', 'glyphicons', 'gmail', 'gmsmapview', 'gnome', 'gnupg', 'goal', 'godaddy', 'googleauthr', 'googlebot', 'googleio', 'googlemock', 'googletest', 'goose', 'goproxy', 'gorilla', 'gorm', 'gorouter', 'goroutine', 'gpgpu', 'gpio', 'graalvm', 'grab', 'gradient', 'gradienttape', 'gradlew', 'grafana', 'grail', 'gram', 'grand', 'grandchild', 'grant', 'grape', 'graph', 'graphcool', 'graphene', 'graphframes', 'graphic', 'graphicsmagick', 'graphlab', 'graphql', 'graphviz', 'grav', 'gravatar', 'gravity', 'grayscale', 'greasemonkey', 'greatest', 'green', 'greengrass', 'greenlets', 'greenrobot', 'gremlin', 'grep', 'grid', 'gridlayout', 'gridlayoutmanager', 'gridlines', 'gridsearchcv', 'gridview', 'grizzly', 'groovy', 'group', 'groupby', 'grouped', 'grouping', 'grpc', 'grunt', 'gruntfile', 'gruntjs', 'gsap', 'gson', 'gspread', 'gssapi', 'gstreamer', 'gsutil', 'gtag', 'gtmetrix', 'guard', 'guava', 'guice', 'guid', 'guide', 'guideline', 'gulp', 'gumby', 'gunicorn', 'gurobi', 'guzzle', 'gvfs', 'gyroscope', 'gzip', 'hacker', 'hadoop', 'half', 'hamburger', 'hamcrest', 'haml', 'hamming', 'handlebar', 'handler', 'handling', 'handshake', 'handsontable', 'hangfire', 'hapi', 'haproxy', 'haptic', 'hard', 'hardware', 'harmony', 'hash', 'hashable', 'hashbang', 'hashbytes', 'hashcode', 'hashlib', 'hashmap', 'hashset', 'hashtable', 'hashtag', 'haskell', 'hasownproperty', 'hateoas', 'haversine', 'haxm', 'hazelcast', 'hbase', 'hbitmap', 'hbox', 'hdfs', 'head', 'header', 'headerdoc', 'heading', 'headless', 'health', 'healthkit', 'heap', 'heapq', 'heartbleed', 'heatmap', 'heic', 'height', 'helm', 'helmet', 'helper', 'heroku', 'heuristic', 'hevc', 'hhvm', 'hibernate', 'hibernateexception', 'hidden', 'hide', 'hidpi', 'hierarchical', 'hierarchy', 'high', 'highcharts', 'highdpi', 'higher', 'highlight', 'highlighting', 'highmaps', 'hikaricp', 'hilt', 'hint', 'hinting', 'histogram', 'history', 'histplot', 'hive', 'hivecontext', 'hiveql', 'hmac', 'hmacsha', 'hmisc', 'hockeyapp', 'hoisting', 'hole', 'holoviews', 'holtwinters', 'home', 'homebrew', 'homescreen', 'homestead', 'hook', 'horizon', 'horizontal', 'hortonworks', 'host', 'hosted', 'hosting', 'hostname', 'hotdeploy', 'hotjar', 'hotkeys', 'hotspot', 'hotswap', 'hottowel', 'hotwire', 'hough', 'hour', 'house', 'hover', 'href', 'hsqldb', 'hstack', 'hstore', 'hsts', 'htaccess', 'htmlcollection', 'htmlelements', 'htmlunit', 'httparty', 'httpclient', 'httpclientfactory', 'httpcomponents', 'httpcontext', 'httpcookie', 'httpd', 'httpentity', 'httpexception', 'httphandler', 'httplib', 'httponly', 'httprequest', 'httpresponse', 'httpserver', 'httpservice', 'httpsession', 'httpsurlconnection', 'httpurlconnection', 'httpwebrequest', 'httpwebresponse', 'huawei', 'hudson', 'huey', 'huge', 'huggingface', 'hummingbird', 'husky', 'hybrid', 'hybridauth', 'hydrogen', 'hyper', 'hyperledger', 'hyperlink', 'hypermedia', 'hyperparameters', 'hypervisor', 'hypixel', 'hypothesis', 'hystrix', 'iaa', 'iasyncenumerable', 'ibdesignable', 'ibeacon', 'ibinspectable', 'iboutlet', 'ical', 'icalendar', 'icloud', 'icon', 'iconbutton', 'iconv', 'idatareader', 'idea', 'idempotent', 'ident', 'identifier', 'identify', 'identity', 'identityserver', 'idfa', 'idiom', 'idle', 'iedriver', 'ieee', 'ienumerable', 'iexpress', 'ifconfig', 'iformfile', 'iframe', 'ifttt', 'ignore', 'igraph', 'ijulia', 'illegalargumentexception', 'illegalstateexception', 'ilogger', 'ilspy', 'image', 'imagebutton', 'imagedata', 'imagefield', 'imageicon', 'imagekit', 'imagemagick', 'imagemap', 'imagepicker', 'imageview', 'imagick', 'imaging', 'imap', 'imaplib', 'imbalanced', 'imeoptions', 'imessage', 'immediate', 'immutability', 'immutable', 'immutablelist', 'impersonation', 'implem', 'implement', 'implementation', 'implicit', 'import', 'importerror', 'importlib', 'imputation', 'imread', 'imshow', 'inappbrowser', 'inbound', 'include', 'incognito', 'incompatibility', 'increment', 'indentation', 'indesign', 'index', 'indexeddb', 'indexing', 'indexof', 'indexoutofboundsexception', 'indexpath', 'indicator', 'inequality', 'inertiajs', 'inexact', 'inference', 'infinite', 'inflate', 'inflater', 'info', 'information', 'infowindow', 'infrastructure', 'ingres', 'inheritance', 'init', 'initialization', 'initializer', 'initializr', 'inject', 'injectable', 'injection', 'injector', 'inline', 'inner', 'innerhtml', 'innodb', 'inotify', 'inotifywait', 'input', 'inputstream', 'inputstreamreader', 'insensitive', 'insert', 'insertion', 'inside', 'insight', 'insmod', 'insomnia', 'inspect', 'inspector', 'instagram', 'install', 'installation', 'installer', 'instance', 'instanceof', 'instant', 'instantiation', 'instruction', 'instrument', 'instrumentation', 'instrumented', 'integer', 'integral', 'integration', 'integrity', 'intel', 'intelligence', 'intellij', 'intellisense', 'intent', 'intentfilter', 'intentservice', 'interactive', 'interceptor', 'interface', 'internal', 'internals', 'internationalization', 'internet', 'interop', 'interoperability', 'interpolation', 'interposition', 'interpreter', 'interrupt', 'interrupted', 'intersection', 'interval', 'intervention', 'intl', 'intranet', 'intrinsicattributes', 'intuit', 'invalidargumentexception', 'invalidation', 'inverse', 'inversifyjs', 'inversion', 'invisible', 'invite', 'invoice', 'invoke', 'invokedynamic', 'invoking', 'ioctl', 'ioexception', 'iommu', 'ionic', 'iop', 'iostream', 'iotivity', 'ipad', 'ipados', 'ipcrenderer', 'ipdb', 'iperf', 'ipfs', 'iphone', 'ipod', 'iproute', 'iptables', 'ipython', 'ipywidgets', 'iqueryable', 'irkernel', 'ironpython', 'isinstance', 'isnull', 'isodate', 'isolation', 'isometric', 'isomorphic', 'isotope', 'isparta', 'istanbul', 'istio', 'item', 'itemprocessor', 'iterable', 'iteration', 'iterator', 'iteritems', 'iterm', 'itertools', 'itext', 'ivalueconverter', 'jaas', 'jack', 'jackson', 'jacoco', 'jaeger', 'jakarta', 'japplet', 'jarsigner', 'jasmine', 'jasper', 'jasypt', 'javabeans', 'javac', 'javacv', 'javadoc', 'javafx', 'javascriptcore', 'javasound', 'javax', 'jaw', 'jaxb', 'jbehave', 'jboss', 'jbpm', 'jbuilder', 'jbutton', 'jcenter', 'jcheckbox', 'jcifs', 'jclouds', 'jconsole', 'jcrop', 'jdbc', 'jdbctemplate', 'jdbi', 'jdom', 'jedis', 'jekyll', 'jelly', 'jenkins', 'jenv', 'jersey', 'jessie', 'jest', 'jestjs', 'jetbrains', 'jetifier', 'jetpack', 'jetson', 'jetty', 'jframe', 'jgitflow', 'jhipster', 'jill', 'jimp', 'jinja', 'jira', 'jitpack', 'jitsi', 'jitter', 'jlink', 'jmap', 'jmdns', 'jmespath', 'jmeter', 'jmockit', 'jmsserializerbundle', 'jndi', 'jnlp', 'jnotify', 'job', 'jobintentservice', 'joblib', 'jobscheduler', 'jodatime', 'join', 'jointplot', 'joomla', 'jooq', 'jose', 'journal', 'jpanel', 'jpath', 'jpeg', 'jpql', 'jprofiler', 'jqgrid', 'jqplot', 'jqxhr', 'jsch', 'jscript', 'jsdoc', 'jsdom', 'jsessionid', 'jsfiddle', 'jshint', 'jslint', 'jsonb', 'jsonconvert', 'jsonconverter', 'jsondecoder', 'jsonfield', 'jsonlines', 'jsonp', 'jsonparser', 'jsonpath', 'jsonpickle', 'jsonpointer', 'jsonresponse', 'jsonresult', 'jsonschema', 'jsoup', 'jspdf', 'jspm', 'jsse', 'jstl', 'jstree', 'jsvc', 'jszip', 'jtable', 'jtableheader', 'jtds', 'jtree', 'juli', 'junit', 'jupiter', 'jupyter', 'jvisualvm', 'jwilder', 'jxcore', 'jython', 'kafka', 'kaggle', 'kalman', 'kaminari', 'kapt', 'karma', 'katalon', 'katana', 'kbhit', 'kdeplot', 'kdtree', 'keep', 'keeper', 'kenburnsview', 'kendo', 'kepler', 'kera', 'kerberos', 'kernel', 'kernighan', 'kestrel', 'key', 'keyboard', 'keyboardinterrupt', 'keychain', 'keycloak', 'keycode', 'keydown', 'keyerror', 'keyevent', 'keyframe', 'keygen', 'keyguard', 'keylistener', 'keymapping', 'keyof', 'keypad', 'keypoint', 'keypress', 'keyring', 'keystore', 'keytab', 'keytool', 'keyup', 'keyvaluepair', 'keyvault', 'keyword', 'kibana', 'kill', 'kinect', 'kinesis', 'kingfisher', 'kiosk', 'kitkat', 'kivy', 'knex', 'knitr', 'knockout', 'kodein', 'kohana', 'koin', 'kong', 'kotlin', 'kotlinx', 'krakend', 'kramdown', 'kriging', 'ktor', 'kube', 'kubeadm', 'kubectl', 'kubelet', 'kubernetes', 'kurento', 'kustomize', 'label', 'lake', 'lambda', 'lame', 'lamina', 'lamp', 'lampp', 'landscape', 'lang', 'langchain', 'language', 'lapply', 'laradock', 'laragon', 'laravelcollective', 'large', 'lasagne', 'lastindexof', 'late', 'lateinit', 'latency', 'lateral', 'latex', 'latitude', 'launch', 'launchd', 'launcher', 'launchimage', 'launchmode', 'lawyer', 'layer', 'layerdrawable', 'layout', 'layoutparams', 'lazy', 'lazycolumn', 'lazyfor', 'lazyload', 'lcov', 'ldap', 'ldapjs', 'le', 'leaflet', 'league', 'leak', 'leakcanary', 'learn', 'least', 'left', 'leftalign', 'legacy', 'legend', 'lemmatization', 'length', 'leptonica', 'lerna', 'let', 'letter', 'lettuce', 'level', 'leveldb', 'levelup', 'levenshtein', 'lexical', 'libc', 'libcurl', 'libffi', 'libgdx', 'libjingle', 'libm', 'libmagic', 'libpcap', 'library', 'librdkafka', 'libreoffice', 'librosa', 'libs', 'libsass', 'libssl', 'libsvm', 'libtool', 'libudev', 'libusb', 'libuv', 'libv', 'libvlc', 'libxml', 'license', 'lidar', 'life', 'lifecycle', 'lifecycleexception', 'liferay', 'light', 'lightgbm', 'lighthouse', 'lightning', 'lightsail', 'like', 'limit', 'limiting', 'line', 'linear', 'linearlayout', 'linearlayoutmanager', 'linechart', 'linefeed', 'linegraph', 'link', 'linked', 'linkedhashmap', 'linkedin', 'linker', 'linking', 'linq', 'linqkit', 'lint', 'linter', 'linuxbrew', 'lion', 'liquibase', 'liquid', 'list', 'listbox', 'listener', 'listiterator', 'listview', 'listviewitem', 'lite', 'literal', 'live', 'livedata', 'livereload', 'livestreaming', 'livewire', 'lldb', 'llvm', 'llvmlite', 'lmplot', 'load', 'loader', 'loading', 'loadui', 'local', 'localauthentication', 'localdate', 'localdatetime', 'localdb', 'locale', 'localhost', 'localizable', 'localization', 'localserver', 'localtime', 'localtunnel', 'locate', 'location', 'locationmanager', 'locator', 'lock', 'lockfile', 'locking', 'lockscreen', 'lodash', 'loess', 'logarithm', 'logback', 'logcat', 'logfile', 'logging', 'loggly', 'logic', 'logical', 'login', 'logistic', 'logout', 'logrotate', 'logstash', 'lollipop', 'lombok', 'long', 'longitude', 'longtext', 'lookarounds', 'looker', 'lookup', 'loop', 'loopback', 'loopbackjs', 'looper', 'loopj', 'loss', 'lossless', 'lost', 'lottie', 'lowenergy', 'lower', 'lowercase', 'lreshape', 'lsof', 'lstm', 'lubridate', 'lucene', 'lumen', 'luna', 'luxon', 'lwip', 'lxml', 'lync', 'lzma', 'macbookpro', 'mach', 'machine', 'macos', 'macports', 'macro', 'magento', 'magic', 'magicalrecord', 'magick', 'magnific', 'mahotas', 'mail', 'mailchimp', 'mailcore', 'mailgun', 'mailkit', 'mainclass', 'maintainability', 'make', 'makecert', 'makefile', 'makemigrations', 'malformed', 'malloc', 'mamp', 'manage', 'managed', 'manageddataaccess', 'management', 'manager', 'manifest', 'manim', 'manipulation', 'manjaro', 'manpage', 'many', 'manytomanyfield', 'map', 'mapbox', 'mapdispatchtoprops', 'mapkit', 'mapped', 'mapping', 'mapreduce', 'mapstatetoprops', 'mapstruct', 'mapview', 'marathon', 'marching', 'margin', 'mariadb', 'marionette', 'mark', 'markdown', 'marker', 'markerclusterer', 'marketplace', 'markov', 'markup', 'marshalling', 'marshmallow', 'martini', 'marytts', 'mashape', 'mask', 'masked', 'masking', 'masm', 'mass', 'masspay', 'masstransit', 'master', 'match', 'matcher', 'matching', 'material', 'materialize', 'materialized', 'math', 'mathematical', 'mathematics', 'mathjax', 'matlab', 'matplotlib', 'matrix', 'maui', 'maven', 'maverick', 'maxlength', 'mayavi', 'mbeans', 'mbox', 'mcmc', 'mcrypt', 'mddialog', 'mdns', 'mean', 'meanjs', 'measurement', 'mechanize', 'mediacodec', 'mediacontroller', 'mediamuxer', 'median', 'mediaplayer', 'mediaprojection', 'mediarecorder', 'mediastore', 'mediastream', 'mediastreamsource', 'mediatr', 'mediawiki', 'medium', 'meet', 'melt', 'member', 'membership', 'memcached', 'memcpy', 'memoization', 'memory', 'memoryanalyzer', 'memorycache', 'memorystream', 'memoryview', 'memset', 'menu', 'menubar', 'menuitem', 'mercadopago', 'mercadopagosdk', 'mercurial', 'merge', 'mergesort', 'mergetool', 'merging', 'mern', 'mersenne', 'mesos', 'mesosphere', 'message', 'messagebox', 'messagebroker', 'messageui', 'messaging', 'messenger', 'meta', 'metaclass', 'metadata', 'metal', 'metamask', 'metamodel', 'metaprogramming', 'metaspace', 'meteor', 'method', 'metric', 'metro', 'mfcc', 'mfmailcomposer', 'mfmailcomposeviewcontroller', 'micro', 'microbenchmark', 'microcontroller', 'microdata', 'microk', 'micrometer', 'micronaut', 'microphone', 'microservices', 'microsoft', 'middle', 'middleware', 'midi', 'mifare', 'migrate', 'migration', 'millisecond', 'mime', 'mina', 'mingw', 'mini', 'miniconda', 'minification', 'minify', 'minikube', 'minimagick', 'minimal', 'minimum', 'mining', 'minio', 'miniprofiler', 'mint', 'mintty', 'mips', 'miracast', 'mirror', 'misaka', 'mismatch', 'missing', 'mission', 'mitmproxy', 'mixed', 'mixins', 'mixture', 'mkannotation', 'mkannotationview', 'mkdir', 'mkmapview', 'mknod', 'mkpointannotation', 'mkpolyline', 'mlab', 'mldb', 'mlflow', 'mlkit', 'mllib', 'mmap', 'mnist', 'mobile', 'mobilefirst', 'mobilehub', 'mobx', 'moby', 'mocha', 'mock', 'mockery', 'mocking', 'mockito', 'mockk', 'mockmvc', 'mockstatic', 'mockups', 'mockwebserver', 'modal', 'modalpopup', 'modalviewcontroller', 'modbus', 'mode', 'model', 'modelattribute', 'modelbinders', 'modelform', 'modeling', 'modelstate', 'modem', 'modernizr', 'modifier', 'modin', 'modularity', 'module', 'modulenotfounderror', 'mogrify', 'mojave', 'moment', 'momentjs', 'monaca', 'monaco', 'monad', 'mongo', 'mongoapi', 'mongodb', 'mongoengine', 'mongoid', 'mongojs', 'mongolian', 'mongomock', 'mongoose', 'mongorepository', 'mongotemplate', 'monitor', 'monitoring', 'monkeypatching', 'mono', 'monodevelop', 'monolog', 'monorepo', 'monospace', 'monterey', 'mopub', 'morphological', 'mosquitto', 'motion', 'moto', 'motordriver', 'motorengine', 'mount', 'mountain', 'mouse', 'mousedown', 'mouseenter', 'mouseevent', 'mousehover', 'mouseleave', 'mouselistener', 'mousemove', 'mouseout', 'mouseover', 'mousewheel', 'moviepy', 'moxy', 'mozilla', 'mpandroidchart', 'mpeg', 'mpfr', 'mplfinance', 'mplot', 'mpmovieplayercontroller', 'mpmusicplayercontroller', 'mqtt', 'mqueue', 'msal', 'msbuild', 'mscoco', 'msdeploy', 'msdn', 'msdtc', 'mshtml', 'msix', 'mssql', 'mstest', 'msvcrt', 'msys', 'msysgit', 'mule', 'multer', 'multi', 'multiclass', 'multicore', 'multidex', 'multidimensional', 'multilabel', 'multiline', 'multilingual', 'multipage', 'multipart', 'multipartform', 'multipeer', 'multiplatform', 'multiple', 'multiplication', 'multiprocess', 'multiprocessing', 'multirow', 'multiselect', 'multitasking', 'multithreading', 'munging', 'music', 'mutability', 'mutable', 'mutablelivedata', 'mutated', 'mutation', 'mute', 'mutex', 'mutual', 'mvvm', 'mxhr', 'mxnet', 'mybatis', 'mymaps', 'mypy', 'mysql', 'mysqladministrator', 'mysqlcommand', 'mysqli', 'name', 'namecheap', 'named', 'namedtuple', 'nameerror', 'nameof', 'nameservers', 'namespace', 'namespaces', 'naming', 'nano', 'nanodbc', 'napoleon', 'nashorn', 'nasm', 'native', 'nativemethodsmixin', 'nativequery', 'nativescript', 'nats', 'natsort', 'navbar', 'navicat', 'navigation', 'navigationbar', 'navigationlink', 'navigationview', 'navigator', 'nbconvert', 'nbehave', 'ndarray', 'near', 'nearest', 'negation', 'negative', 'negotiate', 'negotiation', 'neighbor', 'neptune', 'nest', 'nested', 'nestedscrollview', 'nestjs', 'netbeans', 'netcdf', 'netcoreapp', 'netezza', 'netflix', 'netlify', 'netlink', 'netsh', 'netstat', 'nette', 'nettopologysuite', 'netty', 'network', 'networkimageview', 'networking', 'networkx', 'neural', 'neuraxle', 'neuron', 'newline', 'newrelic', 'news', 'newsletter', 'next', 'nextgen', 'nextjs', 'nexus', 'ngcordova', 'ngfor', 'nginx', 'ngmodel', 'ngmodelchange', 'ngrok', 'ngroute', 'ngrx', 'ngsanitize', 'ngselect', 'ngtable', 'ngxs', 'nhibernate', 'nicescroll', 'nifi', 'nifti', 'night', 'nightwatch', 'nine', 'ninja', 'ninject', 'nlog', 'nltk', 'noclassdeffounderror', 'nodejs', 'nodelist', 'nodemailer', 'nodemon', 'nofollow', 'nohup', 'noindex', 'noise', 'nokogiri', 'nolearn', 'nomethoderror', 'nominal', 'nonblocking', 'nonce', 'nonetype', 'nonlocal', 'nopcommerce', 'normal', 'normalization', 'normalize', 'nose', 'nosql', 'nosuchelementexception', 'nosuchmethoderror', 'notarize', 'notation', 'notebook', 'notification', 'notificationhub', 'notify', 'notifydatasetchanged', 'notimplementederror', 'notistack', 'notnull', 'nougat', 'npapi', 'npgsql', 'npmrc', 'nrwl', 'nsapptransportsecurity', 'nsarray', 'nsattributedstring', 'nsbezierpath', 'nsbundle', 'nscache', 'nscala', 'nscalendar', 'nscoder', 'nscoding', 'nscolor', 'nsdata', 'nsdate', 'nsdatecomponents', 'nsdateformatter', 'nsdatepicker', 'nsdictionary', 'nsdocumentdirectory', 'nserror', 'nsfetchrequest', 'nsfilemanager', 'nsimage', 'nsindexpath', 'nsis', 'nsjsonserialization', 'nskeyedarchiver', 'nslayoutconstraint', 'nslayoutmanager', 'nslocale', 'nslocalizedstring', 'nslog', 'nslookup', 'nsmanagedobject', 'nsmanagedobjectcontext', 'nsmanagedobjectmodel', 'nsmutableattributedstring', 'nsmutableurlrequest', 'nsnotification', 'nsnotificationcenter', 'nsnotifications', 'nsnumber', 'nsnumberformatter', 'nsobject', 'nsoperation', 'nsoperationqueue', 'nsoutputstream', 'nspredicate', 'nsrange', 'nsregularexpression', 'nsstring', 'nstextattachment', 'nstextstorage', 'nstextview', 'nstimer', 'nsubstitute', 'nsunknownkeyexception', 'nsurl', 'nsurlcache', 'nsurlconnection', 'nsurlcredential', 'nsurlprotocol', 'nsurlsession', 'nsurlsessionconfiguration', 'nsurlsessiondatatask', 'nsurlsessionuploadtask', 'nsuserdefaults', 'nsvaluetransformer', 'nswag', 'nswindow', 'nsworkspace', 'nszombie', 'ntfs', 'ntlm', 'ntvs', 'nuget', 'nugetgallery', 'nuitka', 'null', 'nullability', 'nullable', 'nullpointerexception', 'numa', 'numba', 'number', 'numberpicker', 'numeric', 'numerical', 'numpy', 'nunit', 'nuxt', 'nuxtjs', 'nvcc', 'nvidia', 'oauth', 'obfuscation', 'object', 'objectanimator', 'objectbox', 'objectid', 'objectinputstream', 'objective', 'objectmapper', 'objectoutputstream', 'objectsize', 'observable', 'observablelist', 'observableobject', 'observables', 'observer', 'observing', 'obsolete', 'ocean', 'ocelot', 'octopus', 'odac', 'odata', 'odbc', 'odeint', 'odoo', 'odroid', 'office', 'offline', 'offscreen', 'offset', 'oidc', 'ojdbc', 'okhttp', 'okio', 'okta', 'olap', 'oledb', 'oltp', 'omniauth', 'omnibus', 'omnisharp', 'onactivityresult', 'onbackpressed', 'onbeforeunload', 'onblur', 'onchange', 'oncheckedchanged', 'onclick', 'onclicklistener', 'oncreate', 'oncreateoptionsmenu', 'onedrive', 'onelogin', 'oneplusone', 'onerror', 'onesignal', 'onfocus', 'onhover', 'onion', 'onitemclick', 'onkeydown', 'onkeyup', 'online', 'onload', 'onmousedown', 'onmouseup', 'onnx', 'onpause', 'onresume', 'onscroll', 'onscrolllistener', 'onsen', 'onsubmit', 'ontouch', 'ontouchlistener', 'onyx', 'oomph', 'opacity', 'opcache', 'open', 'openai', 'openapi', 'openbox', 'opencart', 'opencl', 'opencv', 'opendiff', 'openembedded', 'opener', 'openexr', 'openfeign', 'openfx', 'opengl', 'opengraph', 'openid', 'openidc', 'openjdk', 'openjfx', 'openjpa', 'openmp', 'opennmt', 'openpose', 'openpyxl', 'openrowset', 'openshift', 'openssh', 'openssl', 'openstack', 'opentracing', 'openurl', 'openvpn', 'openvz', 'openwebrtc', 'operand', 'operating', 'operation', 'operator', 'opsworks', 'optimistic', 'optimization', 'option', 'optional', 'optionmenu', 'optionsettype', 'optionsmenu', 'opts', 'oracle', 'oracleclient', 'orchestration', 'ordbms', 'order', 'ordereddict', 'ordereddictionary', 'ordinal', 'oreo', 'organization', 'orientation', 'orientdb', 'oriented', 'origin', 'orika', 'ormlite', 'orphan', 'orthogonal', 'osdev', 'osgi', 'oslog', 'osmdroid', 'osql', 'osticket', 'otto', 'outbound', 'outdir', 'outer', 'outlet', 'outlier', 'outline', 'outlook', 'output', 'outputcache', 'outputstream', 'overflow', 'overhead', 'overlap', 'overlay', 'overloading', 'overriding', 'oversampling', 'overwrite', 'owasp', 'owin', 'owner', 'ownership', 'paas', 'pack', 'package', 'packageinstaller', 'packager', 'packagereference', 'packaging', 'packagr', 'packer', 'packet', 'pacman', 'padding', 'page', 'pageable', 'pageload', 'pageloadstrategy', 'pageobjects', 'pagespeed', 'pageviews', 'paginate', 'pagination', 'paginator', 'paging', 'paho', 'pairplot', 'palette', 'pandasql', 'pandoc', 'pane', 'panel', 'paperclip', 'parallel', 'param', 'parameter', 'parameterized', 'parametric', 'parametrize', 'parametrized', 'paramiko', 'parcel', 'parcelable', 'parceljs', 'parent', 'pareto', 'parquet', 'parse', 'parseint', 'parser', 'parsing', 'parsley', 'partial', 'partiql', 'partition', 'partitioning', 'partner', 'pas', 'pascalcasing', 'passcode', 'passenger', 'passing', 'passive', 'passport', 'password', 'paste', 'patch', 'path', 'pathlib', 'pattern', 'pause', 'payara', 'payload', 'payment', 'paypal', 'paytabs', 'pcap', 'pcsc', 'pdfbox', 'pdfjs', 'pdfkit', 'pdfminer', 'pdfpages', 'pdftotext', 'pearson', 'pecl', 'peer', 'pegjs', 'pendingintent', 'pengwin', 'pentaho', 'people', 'peoplepicker', 'percentage', 'percentile', 'perceptron', 'perceptual', 'perf', 'perfect', 'performance', 'periodic', 'peripheral', 'perl', 'permgen', 'permission', 'permutation', 'persian', 'persist', 'persistence', 'persistent', 'perspectivecamera', 'pessimistic', 'pexpect', 'pgadmin', 'pgrouting', 'phalcon', 'phantomjs', 'phase', 'phasset', 'phoenix', 'phone', 'phonegap', 'phong', 'photo', 'photoshop', 'phpfarm', 'phpfox', 'phpmyadmin', 'phpredis', 'phpstorm', 'phpunit', 'physic', 'picasa', 'picasso', 'picker', 'pickle', 'piecewise', 'pika', 'pikepdf', 'pilot', 'pinchzoom', 'ping', 'pinning', 'pipe', 'pipeline', 'pipelining', 'pipenv', 'piping', 'pivot', 'pixel', 'pixi', 'pjsip', 'pkcs', 'pkill', 'pkix', 'place', 'placeholder', 'plan', 'plate', 'platform', 'play', 'playback', 'player', 'playframework', 'playground', 'playsound', 'playwright', 'plesk', 'plink', 'plist', 'plot', 'plotly', 'plpgsql', 'plsql', 'pluck', 'plugi', 'plugin', 'plugins', 'plunker', 'plural', 'pluralize', 'plus', 'plyr', 'pmdarima', 'pmml', 'pnpm', 'pocketsphinx', 'podfile', 'podman', 'podspec', 'poetry', 'point', 'pointcut', 'pointer', 'pointplot', 'pojo', 'polar', 'policy', 'polling', 'polly', 'poltergeist', 'polyfill', 'polyfills', 'polygon', 'polyline', 'polymer', 'polymorphic', 'polymorphism', 'polynomial', 'poodle', 'pool', 'pooling', 'popcornjs', 'popen', 'popover', 'popper', 'populate', 'popup', 'popupmenu', 'popupwindow', 'port', 'portability', 'portable', 'portal', 'porting', 'portlet', 'portrait', 'position', 'positioning', 'positive', 'posix', 'post', 'postconstruct', 'postcss', 'postfile', 'postgis', 'postgres', 'postgresapp', 'postgresql', 'postman', 'postmessage', 'pouchdb', 'power', 'powerbi', 'powermanager', 'powermock', 'powermockito', 'powerpc', 'powerpivot', 'powerpoint', 'powershell', 'pprint', 'preact', 'precache', 'precision', 'precompile', 'precompiled', 'predestroy', 'predicate', 'predict', 'prediction', 'predis', 'preference', 'preferenceactivity', 'preferencefragment', 'preferencescreen', 'prefetch', 'prefix', 'preflight', 'preforking', 'prelaunch', 'preload', 'preloading', 'prepackageddatabase', 'prepared', 'preprocessing', 'preprocessor', 'prerender', 'prerequisite', 'presentation', 'presenter', 'preset', 'presto', 'prettier', 'pretty', 'preventdefault', 'prevention', 'preview', 'primary', 'primefaces', 'primeng', 'primitive', 'principle', 'print', 'printer', 'printf', 'printing', 'printk', 'println', 'priority', 'prism', 'prisma', 'private', 'privateapi', 'privilege', 'privoxy', 'probability', 'probing', 'problem', 'procedure', 'process', 'processbuilder', 'processing', 'processor', 'procfile', 'procmon', 'producer', 'product', 'productflavors', 'production', 'productivity', 'prof', 'profile', 'profiler', 'profiling', 'program', 'programmatically', 'programming', 'progress', 'progressbar', 'progressive', 'proguard', 'proj', 'project', 'projection', 'prometheus', 'promise', 'promised', 'prompt', 'prop', 'propagation', 'property', 'prophet', 'proptypes', 'protected', 'protection', 'protege', 'protein', 'proto', 'protobuf', 'protoc', 'protocol', 'protocolexception', 'prototype', 'protractor', 'provider', 'provisioned', 'provisioning', 'proximitysensor', 'proxy', 'proxypass', 'proxyquire', 'pscp', 'psdrive', 'pseudo', 'psql', 'psycopg', 'pthreads', 'ptrace', 'public', 'publish', 'published', 'publishing', 'pubspec', 'pubsub', 'pull', 'pulp', 'pulseaudio', 'puma', 'punching', 'punycode', 'puppet', 'puppeteer', 'purchase', 'purge', 'push', 'pusher', 'pushkit', 'pushover', 'pushpad', 'pushstreamcontent', 'putty', 'pyarrow', 'pyatom', 'pyaudio', 'pybind', 'pybrain', 'pycairo', 'pycharm', 'pycrypto', 'pycuda', 'pycurl', 'pydantic', 'pydev', 'pydot', 'pydrive', 'pydub', 'pyenv', 'pyflakes', 'pygal', 'pygame', 'pygithub', 'pyglet', 'pygments', 'pygobject', 'pygraphviz', 'pyinstaller', 'pyinvoke', 'pyjwt', 'pykalman', 'pylance', 'pylint', 'pymc', 'pymodbus', 'pymongo', 'pymssql', 'pymysql', 'pyobjc', 'pyodbc', 'pyopengl', 'pyopenssl', 'pypdf', 'pypi', 'pypiserver', 'pyproj', 'pyproject', 'pypy', 'pypyodbc', 'pyqt', 'pyqtchart', 'pyqtgraph', 'pyquery', 'pyramid', 'pyreverse', 'pyright', 'pyrserve', 'pysam', 'pyserial', 'pysftp', 'pyside', 'pysimplegui', 'pyspark', 'pysqlite', 'pytables', 'pytesser', 'pytest', 'pythonanywhere', 'pythonbrew', 'pythonpath', 'pytorch', 'pyttsx', 'pytube', 'pytz', 'pyvis', 'pyvmomi', 'pywin', 'pyxll', 'pyyaml', 'pyzmq', 'pyzo', 'qabstracttablemodel', 'qapplication', 'qbytearray', 'qcombobox', 'qdap', 'qemu', 'qfiledialog', 'qgraphicsview', 'qgridlayout', 'qhull', 'qlabel', 'qlayout', 'qliksense', 'qlikview', 'qlistview', 'qlistwidget', 'qmainwindow', 'qmouseevent', 'qpainter', 'qpixmap', 'qpython', 'qresource', 'qstring', 'qtableview', 'qtablewidget', 'qtablewidgetitem', 'qtconsole', 'qtcore', 'qtdbus', 'qtip', 'qtquick', 'qtstylesheets', 'qtwebchannel', 'qtwebengine', 'quadratic', 'quandl', 'quantitative', 'quantlib', 'quarkus', 'quart', 'quartz', 'quasar', 'query', 'querydsl', 'querying', 'queryselector', 'queryset', 'querystring', 'question', 'queue', 'quick', 'quicksight', 'quit', 'quota', 'quote', 'qwebview', 'qwidget', 'rabbit', 'rabbitmq', 'race', 'rack', 'radio', 'radix', 'rail', 'railo', 'railstutorial', 'raise', 'raiserror', 'rake', 'ramda', 'random', 'randomaccessfile', 'range', 'rangeslider', 'rank', 'ranking', 'ransac', 'rasa', 'raspberry', 'raspbian', 'raster', 'rasterio', 'ratchet', 'rate', 'ratingbar', 'ratio', 'raven', 'rawrepresentable', 'razor', 'razorengine', 'rbac', 'rbenv', 'rcpp', 'rdata', 'rdbms', 'rdlc', 'reachability', 'reactcsstransitiongroup', 'reactive', 'reactivex', 'reactivity', 'reactor', 'reactstrap', 'read', 'readability', 'readable', 'reader', 'readfile', 'readme', 'readonly', 'ready', 'real', 'reality', 'realitykit', 'realm', 'realtime', 'rebase', 'recall', 'recaptcha', 'recarray', 'receipt', 'recent', 'recharts', 'recipe', 'recognition', 'recoiljs', 'reconstruction', 'record', 'recording', 'recordrtc', 'recordset', 'recovery', 'rectangle', 'recurrence', 'recurrent', 'recurring', 'recursion', 'recursive', 'recycle', 'recyclerview', 'reddison', 'redhat', 'redirect', 'redirection', 'redis', 'redisson', 'redistributable', 'redmi', 'redo', 'redshift', 'reduce', 'reducer', 'reduction', 'redux', 'reentrancy', 'ref', 'refactoring', 'reference', 'referencing', 'referential', 'referer', 'referrer', 'referrerurl', 'refit', 'reflect', 'reflection', 'reflow', 'refluxjs', 'refresh', 'refresher', 'refused', 'regasm', 'regedit', 'regex', 'regexp', 'registerforactivityresult', 'registration', 'registry', 'regression', 'regsvr', 'regularized', 'reification', 'reindex', 'reinforcement', 'reinstall', 'related', 'relation', 'relational', 'relationship', 'relative', 'relativelayout', 'relayjs', 'release', 'reload', 'reloaddata', 'relocation', 'remember', 'remix', 'remote', 'remotedriver', 'remoteview', 'removeall', 'rename', 'renaming', 'render', 'renderer', 'rendering', 'repeat', 'replace', 'replaceall', 'replacement', 'replaygain', 'replicaset', 'replication', 'repo', 'report', 'reporting', 'reportlab', 'reportserver', 'reportviewer', 'repos', 'repository', 'repr', 'reproducible', 'request', 'requestanimationframe', 'requestidlecallback', 'requestjs', 'require', 'required', 'requiredfieldvalidator', 'requirejs', 'requirement', 'requires', 'resampling', 'research', 'reselect', 'reset', 'reshape', 'resharper', 'resizable', 'resize', 'resizing', 'resnet', 'resolution', 'resolve', 'resolver', 'resource', 'resourcebundle', 'response', 'responsecache', 'responsive', 'restart', 'restclient', 'restcontroller', 'resteasy', 'restful', 'restfuse', 'restify', 'restless', 'restlet', 'restore', 'restplus', 'restructuredtext', 'restserver', 'restsharp', 'resttemplate', 'resultset', 'resuming', 'resx', 'retain', 'rethrow', 'reticulate', 'retina', 'retransmit', 'retrieval', 'retriever', 'retrofit', 'retrolambda', 'retry', 'return', 'returning', 'reusability', 'reuse', 'reveal', 'reverse', 'revert', 'revision', 'revolution', 'rewired', 'rewrite', 'rewriting', 'rfcomm', 'rfid', 'rgba', 'rgooglemaps', 'rhel', 'ribbon', 'rich', 'right', 'rightbarbuttonitem', 'rijndael', 'rijndaelmanaged', 'ringtone', 'ripple', 'rippledrawable', 'ritchie', 'rjava', 'rmagick', 'robin', 'robocopy', 'robolectric', 'robot', 'robotframework', 'robotics', 'roboto', 'rocksdb', 'rodbc', 'role', 'rollback', 'rolling', 'rollingfileappender', 'rollout', 'rollover', 'rollup', 'rollupjs', 'rook', 'room', 'roomplan', 'root', 'rootbeer', 'rootview', 'rosetta', 'roslyn', 'rotation', 'rotational', 'round', 'rounded', 'rounding', 'route', 'router', 'routerlink', 'routing', 'row', 'rowid', 'rpart', 'rpmbuild', 'rserve', 'rspec', 'rssi', 'rstudio', 'rsvg', 'rtmp', 'rtools', 'rtsp', 'ruamel', 'rubocop', 'rubygems', 'rubymine', 'rugged', 'rule', 'runatserver', 'runc', 'runnable', 'runner', 'running', 'runonuithread', 'runpy', 'runsettings', 'runtime', 'rust', 'rustup', 'rvest', 'rxdart', 'rxjs', 'saas', 'safari', 'safe', 'safearealayoutguide', 'safety', 'safetynet', 'saga', 'sage', 'sagemaker', 'sail', 'salesforce', 'salt', 'samba', 'samesite', 'saml', 'sample', 'sampled', 'sampling', 'samsung', 'sandbox', 'sanitization', 'sanitize', 'sanitizer', 'sanity', 'sapui', 'sas', 'saucelabs', 'save', 'savechanges', 'saxparser', 'sc', 'scaffold', 'scaffolding', 'scala', 'scalability', 'scalar', 'scalatest', 'scalatra', 'scale', 'scaletransform', 'scaling', 'scan', 'scanner', 'scanning', 'scapy', 'scatter', 'scene', 'scenebuilder', 'scenekit', 'sceneview', 'schedule', 'scheduled', 'scheduledexecutorservice', 'scheduler', 'scheduling', 'schema', 'scheme', 'science', 'scientific', 'scikit', 'scipy', 'scitools', 'scnnode', 'scoop', 'scope', 'scoped', 'scrape', 'scraping', 'scrapy', 'screen', 'screenshot', 'screenshotexception', 'script', 'scriptengine', 'scripting', 'scriptler', 'scroll', 'scrollbar', 'scrollby', 'scrolling', 'scrollintoview', 'scrollmagic', 'scrollto', 'scrolltop', 'scrollview', 'scrubbing', 'sdcard', 'seaborn', 'sealed', 'search', 'searchbar', 'searchkick', 'searchview', 'second', 'secret', 'secretsmanager', 'section', 'sectionindexer', 'sectionlist', 'secure', 'security', 'seed', 'seeding', 'seekbar', 'segment', 'segmentation', 'segue', 'select', 'selected', 'selecteditem', 'selection', 'selectize', 'selectlist', 'selector', 'self', 'selinux', 'semantic', 'semaphore', 'semi', 'sencha', 'send', 'sendfile', 'sendgrid', 'sensitive', 'sensor', 'sent', 'sentence', 'sentencepiece', 'sentiment', 'sentry', 'separation', 'separator', 'sequelize', 'sequence', 'sequential', 'serde', 'serenity', 'serial', 'serialization', 'serializer', 'serializers', 'series', 'serilog', 'serve', 'serverless', 'servicebus', 'servicecollection', 'serviceloader', 'servicestack', 'servlet', 'servlets', 'session', 'sessionfactory', 'sessiontracking', 'set', 'setattr', 'setattribute', 'setbackground', 'setcookie', 'setfocus', 'setinterval', 'setsid', 'setstate', 'setter', 'settext', 'settimeout', 'setting', 'setup', 'setuptools', 'sfsafariviewcontroller', 'sfspeechrecognizer', 'sftp', 'shade', 'shader', 'shadow', 'shadowbox', 'shadowjar', 'shake', 'shaking', 'shap', 'shape', 'shapedrawable', 'shapefile', 'shapely', 'sharding', 'share', 'shared', 'sharedelementcallback', 'sharedpreferences', 'sharepoint', 'sharer', 'sharing', 'sharp', 'shebang', 'sheet', 'shellcode', 'shibboleth', 'shift', 'shim', 'shiny', 'shortcut', 'shoulda', 'show', 'shuffle', 'shutdown', 'shutil', 'side', 'sidebar', 'sidekiq', 'siege', 'siemens', 'sierra', 'sift', 'sigabrt', 'sigaction', 'sigint', 'sigkill', 'sigmoid', 'sign', 'signal', 'signaling', 'signalr', 'signature', 'signed', 'signin', 'signing', 'signtool', 'sigpipe', 'sigterm', 'sikuli', 'silent', 'silhouette', 'silicon', 'silverlight', 'simd', 'similarity', 'simple', 'simpledateformat', 'simplehttpserver', 'simplejson', 'simplejwt', 'simplesamlphp', 'simpletransformers', 'simplewebrtc', 'simulate', 'simulation', 'simulator', 'simultaneous', 'sinatra', 'single', 'singlechildscrollview', 'singlestore', 'singleton', 'singular', 'sinon', 'site', 'sitemesh', 'size', 'sizeof', 'sizing', 'skaffold', 'skew', 'skfuzzy', 'skia', 'skill', 'skip', 'sklearn', 'skmaps', 'skrollr', 'skshapenode', 'skspritenode', 'skype', 'slack', 'slash', 'slave', 'sleep', 'slice', 'slicing', 'slick', 'slickgrid', 'slide', 'slider', 'sliding', 'slim', 'slingshot', 'sliver', 'slot', 'slowcheetah', 'slurm', 'smack', 'smali', 'smart', 'smartcard', 'smartcontracts', 'smartlockpasswords', 'smartphone', 'smartscreen', 'smartwatch', 'smooth', 'smoothing', 'smoothstep', 'smtp', 'smtpclient', 'smtplib', 'snackbar', 'snakeyaml', 'snap', 'snapchat', 'snappy', 'snapshot', 'sniffing', 'snippet', 'snowball', 'snowflake', 'snyk', 'soap', 'soappy', 'soapui', 'socat', 'social', 'socialauth', 'socialite', 'socialshare', 'sock', 'socket', 'socketchannel', 'socketexception', 'socketio', 'sockjs', 'soffice', 'soft', 'softkeyboard', 'softmax', 'software', 'solaris', 'solid', 'solidity', 'solr', 'solrj', 'solution', 'sonar', 'sonarlint', 'sonarqube', 'sonatype', 'sony', 'sort', 'sortedlist', 'sorting', 'sound', 'soundmanager', 'source', 'sourcemaps', 'sourcetree', 'sourcing', 'south', 'space', 'spaceship', 'spacing', 'spacy', 'spam', 'span', 'spannablestring', 'spanner', 'sparkr', 'sparql', 'sparse', 'spatial', 'spawn', 'spdy', 'spec', 'specflow', 'special', 'specification', 'specifier', 'spectral', 'spectrogram', 'spectrum', 'speech', 'spelling', 'sphinx', 'spidermonkey', 'spinach', 'spinlock', 'spinnaker', 'spinner', 'splash', 'splice', 'spline', 'splinter', 'split', 'splitting', 'spock', 'spoof', 'spoofing', 'sport', 'spotify', 'spray', 'spread', 'spreadsheet', 'springdoc', 'springfox', 'springjunit', 'springmockito', 'springrunner', 'springsourcetoolsuite', 'sprite', 'spyder', 'spyon', 'sqflite', 'sqlalchemy', 'sqlbulkcopy', 'sqlclient', 'sqlclr', 'sqlcmd', 'sqldatatypes', 'sqldatetime', 'sqldeveloper', 'sqlexception', 'sqlite', 'sqliteopenhelper', 'sqlmodel', 'sqlplus', 'sqlresultsetmapping', 'sqlsrv', 'square', 'squared', 'squid', 'squidb', 'srand', 'srcset', 'ssa', 'sshd', 'sshpass', 'ssim', 'ssis', 'sslerrorhandler', 'sslexception', 'sslhandshakeexception', 'sslsocketfactory', 'ssms', 'sspi', 'ssrs', 'stack', 'stackblitz', 'stackdriver', 'stacked', 'stackexchange', 'stackpanel', 'stage', 'staged', 'staging', 'staleelementreferenceexception', 'standalone', 'standard', 'standardized', 'starlette', 'starmap', 'start', 'starter', 'startswith', 'starttls', 'startup', 'stat', 'state', 'stateflow', 'stateful', 'stateless', 'statelesswidget', 'statement', 'static', 'staticfiles', 'staticlayout', 'statistic', 'statsmodels', 'status', 'statusbar', 'stax', 'stdarray', 'stderr', 'stdin', 'stdio', 'stdout', 'stdstring', 'stemming', 'stencil', 'stenciljs', 'step', 'stetho', 'sticky', 'stock', 'stockquotes', 'stomp', 'stompjs', 'stop', 'stopiteration', 'stopping', 'stopwatch', 'storage', 'store', 'storeapps', 'stored', 'storm', 'story', 'storyboard', 'storybook', 'strace', 'strap', 'strapi', 'strategy', 'stream', 'streaming', 'streamwriter', 'stress', 'stretch', 'strftime', 'strict', 'string', 'stringbuffer', 'stringbuilder', 'stringbyevaluatingjavascr', 'stringify', 'stringio', 'stringtokenizer', 'stringwithformat', 'strip', 'stripe', 'stripping', 'strncmp', 'stroke', 'strong', 'strongname', 'strptime', 'struct', 'structural', 'structure', 'structured', 'structuremap', 'strut', 'stub', 'stubbing', 'style', 'stylecop', 'styled', 'styleguide', 'stylelint', 'stylesheet', 'styling', 'stylus', 'subclass', 'subdirectory', 'subdomain', 'subject', 'sublime', 'sublimerepl', 'sublimetext', 'sublist', 'submenu', 'submission', 'submit', 'submodules', 'subnet', 'subplot', 'subprocess', 'subquery', 'subroutine', 'subscribe', 'subscript', 'subscription', 'subsequence', 'subset', 'subshell', 'substitution', 'substring', 'subsystem', 'subtitle', 'subtraction', 'subversive', 'subview', 'sudo', 'sudoers', 'suffix', 'sugarcrm', 'sugarorm', 'suite', 'sumifs', 'summernote', 'supabase', 'super', 'superagent', 'superclass', 'superset', 'supertest', 'superuser', 'supervised', 'supervisor', 'supervisord', 'support', 'supportmapfragment', 'suppress', 'surefire', 'surf', 'surface', 'surfaceflinger', 'surfaceview', 'suse', 'suspend', 'suspense', 'sustainsys', 'svcutil', 'svelte', 'sveltekit', 'svgwrite', 'svnkit', 'swagger', 'swap', 'swarm', 'swarmplot', 'swashbuckle', 'sweetalert', 'swiftmailer', 'swiftui', 'swifty', 'swig', 'swing', 'swipe', 'swiper', 'swiperefreshlayout', 'switch', 'switchcompat', 'switching', 'swizzling', 'swrevealviewcontroller', 'swxmlhash', 'sybase', 'symbol', 'symbolicatecrash', 'symfony', 'symmetric', 'sympy', 'sync', 'syncdb', 'synchronization', 'synchronize', 'synchronized', 'synchronous', 'synonym', 'syntastic', 'syntax', 'synthesis', 'sysctl', 'sysfs', 'syslog', 'system', 'systemctl', 'systemd', 'systemjs', 'tab', 'tabbar', 'tabhost', 'tablayout', 'tablayoutpanel', 'table', 'tableau', 'tablecellrenderer', 'tablecolumn', 'tableheader', 'tablelayout', 'tableofcontents', 'tablequery', 'tablet', 'tableview', 'tablib', 'tabnavigator', 'tabula', 'tabular', 'tabview', 'tag', 'tagged', 'tagger', 'tagging', 'taglib', 'tagname', 'tail', 'tailwind', 'take', 'talkback', 'tampermonkey', 'tapjoy', 'target', 'targetsdkversion', 'task', 'taskkill', 'tasklist', 'taskmanager', 'tastypie', 'tcpclient', 'tcpdump', 'te', 'team', 'teamcity', 'telegram', 'telemetry', 'telephony', 'telephonymanager', 'teleport', 'telerik', 'telethon', 'telnet', 'temp', 'temperature', 'template', 'templatetag', 'templatetags', 'templating', 'temporal', 'temporary', 'tenant', 'tensor', 'tensorboard', 'tensorflow', 'teradata', 'term', 'terminal', 'terminated', 'termination', 'terminfo', 'terminology', 'termios', 'ternary', 'terraform', 'tesseract', 'test', 'testbed', 'testcafe', 'testcase', 'testcontainers', 'testflight', 'testhost', 'testng', 'testunit', 'testutils', 'tethering', 'texinfo', 'text', 'textarea', 'textattributes', 'textbox', 'textboxfor', 'textcolor', 'textfield', 'textinput', 'textinputlayout', 'textkit', 'textselection', 'texture', 'textureview', 'textview', 'textwatcher', 'tfidfvectorizer', 'tfrecord', 'tfsbuild', 'tfvc', 'theano', 'theme', 'theming', 'theory', 'thephpleague', 'therubyracer', 'thinktecture', 'thread', 'threadpool', 'threadpoolexecutor', 'three', 'threetenbp', 'threshold', 'throttling', 'throw', 'thumb', 'thumbnail', 'thunk', 'thymeleaf', 'tibble', 'tick', 'ticker', 'tier', 'tiff', 'tile', 'time', 'timeago', 'timedelay', 'timedelta', 'timeit', 'timeline', 'timeout', 'timeoutexception', 'timepicker', 'timer', 'timertask', 'timespan', 'timespec', 'timestamp', 'timezone', 'timing', 'timsort', 'tinder', 'tinkerpop', 'tintcolor', 'tinymce', 'tiramisu', 'titan', 'titanium', 'title', 'titlebar', 'tizen', 'tkinter', 'tlyshynavbar', 'tmux', 'toad', 'toast', 'toctree', 'todataurl', 'today', 'todo', 'toggle', 'togglebutton', 'token', 'tokeninput', 'tokenize', 'tokenizers', 'tokyo', 'tomcat', 'tomee', 'toml', 'tool', 'toolbar', 'toolbelt', 'toolbox', 'toolchain', 'toolchains', 'toolkit', 'tooltip', 'topic', 'toplink', 'topological', 'torch', 'torchvision', 'tornado', 'tortoisesvn', 'tostring', 'touch', 'touchableopacity', 'touchscreen', 'touchstart', 'tput', 'tqdm', 'trace', 'traceback', 'traceur', 'tracing', 'tracking', 'trading', 'traefik', 'traffic', 'trail', 'trailing', 'train', 'trained', 'trainer', 'training', 'trait', 'transaction', 'transactional', 'transactionmanager', 'transactionscope', 'transcoding', 'transducer', 'transfer', 'transfermanager', 'transform', 'transformation', 'transformer', 'transforms', 'transient', 'transition', 'transitive', 'translate', 'translation', 'transparency', 'transparent', 'transpiler', 'transport', 'transpose', 'traversal', 'travis', 'tree', 'treetableview', 'treeview', 'trendline', 'triangular', 'trigger', 'trigonometry', 'trim', 'trino', 'triplestore', 'truetype', 'truncate', 'truncated', 'trusted', 'trustedconnection', 'trustmanager', 'truststore', 'tsconfig', 'tslib', 'tslint', 'tuning', 'tunnel', 'tunneling', 'tuple', 'tuples', 'turbine', 'turbo', 'turbolinks', 'turtle', 'tutum', 'tvos', 'tweepy', 'tweet', 'tweetstream', 'twig', 'twilio', 'twisted', 'twister', 'twitter', 'two', 'type', 'typeahead', 'typechecking', 'typeconverter', 'typed', 'typedef', 'typeerror', 'typeof', 'typeorm', 'typesafe', 'typetoken', 'typing', 'typo', 'typography', 'u', 'uberjar', 'ubuntu', 'udev', 'uefi', 'ufunc', 'uglify', 'uglifyjs', 'uiaccessibility', 'uiactionsheet', 'uiactivityindicatorview', 'uiactivityviewcontroller', 'uialertaction', 'uialertcontroller', 'uialertview', 'uiappearance', 'uiapplication', 'uiautomator', 'uibarbuttonitem', 'uibezierpath', 'uiblureffect', 'uibutton', 'uicollectionview', 'uicollectionviewcell', 'uicollectionviewflowlayout', 'uicollectionviewlayout', 'uicolor', 'uicontainerview', 'uicontrol', 'uidatepicker', 'uidefaults', 'uidocument', 'uidocumentmenuvc', 'uidocumentpickervc', 'uiedgeinsets', 'uifeedbackgenerator', 'uifont', 'uifontdescriptor', 'uigesturerecognizer', 'uihostingcontroller', 'uiimage', 'uiimageasset', 'uiimagepickercontroller', 'uiimageview', 'uiinterfaceorientation', 'uikeyboard', 'uikit', 'uikitformac', 'uilabel', 'uilocalnotification', 'uinavigationbar', 'uinavigationcontroller', 'uinavigationitem', 'uint', 'uipagecontrol', 'uipageviewcontroller', 'uipasteboard', 'uipickerview', 'uipickerviewcontroller', 'uipickerviewdatasource', 'uipopover', 'uipopoverbackgroundview', 'uipopovercontroller', 'uiprogressview', 'uirefreshcontrol', 'uiresponder', 'uiscenedelegate', 'uiscreen', 'uiscrollview', 'uiscrollviewdelegate', 'uisearchbar', 'uisearchbardelegate', 'uisearchcontroller', 'uisegmentedcontrol', 'uislider', 'uisplitviewcontroller', 'uistackview', 'uistatusbar', 'uistoryboard', 'uistoryboardsegue', 'uiswipegesturerecognizer', 'uiswitch', 'uitabbar', 'uitabbarcontroller', 'uitabbaritem', 'uitableview', 'uitableviewrowaction', 'uitableviewsectionheader', 'uitabview', 'uitapgesturerecognizer', 'uitest', 'uitextfield', 'uitextfielddelegate', 'uitextposition', 'uitextview', 'uitoolbar', 'uitraitcollection', 'uivideoeditorcontroller', 'uiview', 'uiviewanimation', 'uiviewanimationtransition', 'uiviewcontroller', 'uivisualeffectview', 'uiwebview', 'uiwindow', 'ulimit', 'umbraco', 'umijs', 'uname', 'unattended', 'unauthorizedaccessexcepti', 'uncaught', 'uncertainty', 'unchecked', 'undefined', 'underline', 'underscore', 'undetected', 'undo', 'undocumented', 'unhandled', 'unicode', 'unicorn', 'unified', 'uniform', 'uninstallation', 'union', 'unique', 'uniqueidentifier', 'unirest', 'unittest', 'unity', 'universal', 'unix', 'unixodbc', 'unlock', 'unmanaged', 'unmarshalling', 'unminify', 'unnamed', 'unnest', 'unnotificationrequest', 'unnotificationserviceextension', 'unobtrusive', 'unoconv', 'unordered', 'unpack', 'unpacking', 'unpivot', 'unreal', 'unsafe', 'unsatisfiedlinkerror', 'unsigned', 'unsubscribe', 'unsupervised', 'unusernotificationcenter', 'unzip', 'upcasting', 'update', 'updatepanel', 'updating', 'upgrade', 'upload', 'uploading', 'uploads', 'uppercase', 'upsert', 'uptime', 'urbanairship', 'url', 'urlclassloader', 'urlconnection', 'urlfetch', 'urllib', 'urlloader', 'urlopen', 'urlsession', 'urwid', 'usage', 'usagestatsmanager', 'usdz', 'usecallback', 'usememo', 'usemin', 'user', 'userdefaults', 'usergroups', 'userid', 'userinfo', 'userlocation', 'userpools', 'userprincipal', 'userscripts', 'usethis', 'using', 'util', 'utility', 'utils', 'uuid', 'uvicorn', 'uwsgi', 'vaadin', 'vader', 'vagrant', 'vagrantfile', 'valet', 'valgrind', 'validate', 'validation', 'validationattribute', 'validationerror', 'validationrules', 'validator', 'validators', 'value', 'valueconverter', 'valued', 'valueerror', 'vantage', 'var', 'varbinary', 'varchar', 'variable', 'variadic', 'variance', 'variant', 'varnish', 'vbox', 'vbscript', 'vcpkg', 'vcpu', 'vcredist', 'vdso', 'vector', 'vectordrawable', 'vectorization', 'vega', 'vendor', 'ventura', 'venv', 'veracode', 'verb', 'verbose', 'verbosity', 'vercel', 'verification', 'verify', 'version', 'versioning', 'vert', 'vertex', 'vertical', 'vetur', 'vhosts', 'vibration', 'video', 'videochat', 'videoview', 'view', 'viewaction', 'viewbag', 'viewbinding', 'viewchild', 'viewcontroller', 'viewer', 'viewgroup', 'viewholder', 'viewmodel', 'viewmodelproviders', 'viewpager', 'viewport', 'viewpropertyanimator', 'viewsets', 'viewtreeobserver', 'vimeo', 'vincent', 'vine', 'violation', 'violin', 'viper', 'viridis', 'virsh', 'virtual', 'virtualbox', 'virtualenv', 'virtualenvwrapper', 'virtualhost', 'virtualization', 'virtualmin', 'virtualscroll', 'virus', 'visibility', 'vision', 'visited', 'visualization', 'visualsvn', 'visualvm', 'vitals', 'vite', 'vitest', 'vmware', 'voice', 'voiceover', 'void', 'voip', 'volatile', 'volatility', 'volley', 'volume', 'vonage', 'voting', 'vscode', 'vsdoc', 'vsinstaller', 'vstack', 'vstest', 'vsync', 'vuejs', 'vuetify', 'vuex', 'vuforia', 'vulnerability', 'waffle', 'wait', 'waitress', 'wakelock', 'walker', 'walrus', 'wamp', 'wampserver', 'warden', 'warehouse', 'warning', 'watch', 'watchapp', 'watchdog', 'watcher', 'watchify', 'watchkit', 'watchman', 'watchos', 'waterline', 'watson', 'wave', 'waveform', 'wcag', 'weak', 'wear', 'weasyprint', 'weave', 'webapi', 'webapp', 'webapps', 'webassembly', 'webautomation', 'webbrowser', 'webcam', 'webclient', 'webdav', 'webdeploy', 'webdriver', 'webdrivermanager', 'webdriverwait', 'webengine', 'webextensions', 'webflux', 'webfonts', 'webgl', 'webhooks', 'webhttpbinding', 'webjobs', 'webjobssdk', 'webkit', 'weblogic', 'webm', 'webmethod', 'webmin', 'webp', 'webpack', 'webpacker', 'webrequest', 'webrick', 'webrtc', 'websecurity', 'webserver', 'webservice', 'webservicetemplate', 'websettings', 'website', 'websocket', 'websockets', 'webspeech', 'websphere', 'webstorm', 'webusb', 'webview', 'webviewchromium', 'webviewclient', 'webvr', 'webvtt', 'wechat', 'weekday', 'weighted', 'weka', 'weld', 'werkzeug', 'wget', 'whatsapp', 'wheel', 'whisper', 'whitelist', 'whitespace', 'whois', 'whoop', 'whpx', 'widget', 'widgetkit', 'width', 'wifi', 'wikipedia', 'wildcard', 'wildfly', 'winapi', 'windowinsets', 'windowmanager', 'windowsiot', 'windowsversion', 'windsor', 'winforms', 'winrt', 'winscp', 'winston', 'winstore', 'wiremock', 'wireshark', 'wkhtmltopdf', 'wkinterfacetable', 'wkwebview', 'wkwebviewconfiguration', 'woff', 'wonderpush', 'woocommerce', 'word', 'wordnet', 'wordpress', 'work', 'workbench', 'workbox', 'worker', 'workflow', 'worklight', 'workmanager', 'worksheet', 'workspace', 'workstation', 'wrangling', 'wrap', 'wrapper', 'write', 'writer', 'writetofile', 'writing', 'wsdl', 'wsgi', 'wsimport', 'wtforms', 'wwsapi', 'wwwroot', 'wxpython', 'xamarin', 'xaml', 'xampp', 'xargs', 'xarray', 'xbuild', 'xcasset', 'xcodebuild', 'xcopy', 'xcrun', 'xctest', 'xctestcase', 'xctestplan', 'xctwaiter', 'xcuitest', 'xdebug', 'xdotool', 'xerces', 'xgbclassifier', 'xgboost', 'xhtml', 'xiaomi', 'xlib', 'xliff', 'xlrd', 'xlsx', 'xlsxwriter', 'xlwt', 'xming', 'xmlhttprequest', 'xmlmapper', 'xmlstreamreader', 'xmlworker', 'xmpp', 'xpath', 'xquartz', 'xray', 'xrdp', 'xserver', 'xslt', 'xsockets', 'xsrf', 'xssf', 'xticks', 'xunit', 'xvfb', 'yahoo', 'yaml', 'yamldotnet', 'yapf', 'yarn', 'yarnpkg', 'yaxis', 'yeoman', 'yfinance', 'yield', 'yocto', 'yolo', 'yosemite', 'youtube', 'yticks', 'zabbix', 'zalgo', 'zapier', 'zbar', 'zebra', 'zeep', 'zend', 'zendesk', 'zeppelin', 'zero', 'zeromq', 'zipalign', 'ziparchive', 'zipfile', 'zipinputstream', 'zipoutputstream', 'zlib', 'zombie', 'zone', 'zoneddatetime', 'zookeeper', 'zooming', 'zscaler', 'zshrc', 'zstack', 'zurb', 'zuul', 'zxing'] will be ignored\n",
      "  warnings.warn(\n",
      "C:\\Users\\A475388\\AppData\\Local\\anaconda3\\Lib\\site-packages\\sklearn\\preprocessing\\_label.py:895: UserWarning: unknown class(es) ['aapt', 'absl', 'absolute', 'abstract', 'abstractmethoderror', 'acceleration', 'accelerometer', 'acceptance', 'access', 'accessibility', 'accessor', 'accessory', 'accordion', 'account', 'accuracy', 'achartengine', 'action', 'actionbar', 'actioncontroller', 'actionmailer', 'actionscript', 'activation', 'active', 'activeadmin', 'activejob', 'activemq', 'activerecord', 'activity', 'actuator', 'acyclic', 'adaboost', 'adal', 'adapter', 'adaptive', 'addition', 'addon', 'adfs', 'adhoc', 'admin', 'administration', 'administrator', 'admob', 'adoptopenjdk', 'adsense', 'advertising', 'affix', 'afnetworking', 'agent', 'aggregate', 'aggregation', 'agnostic', 'aiohttp', 'airflow', 'ajax', 'ajaxq', 'akka', 'alamofire', 'alarm', 'alembic', 'alert', 'alexa', 'algebra', 'algorithm', 'alias', 'alignment', 'alpine', 'alter', 'ambiguous', 'amplify', 'amqp', 'anaconda', 'analysis', 'analytics', 'analyzer', 'anchor', 'androiddesignsupport', 'androidhttpclient', 'androidplot', 'androidx', 'angle', 'angularfire', 'animate', 'animated', 'animation', 'ankhsvn', 'annotation', 'anonymous', 'ansi', 'antd', 'anti', 'anyobject', 'apicontroller', 'apis', 'apollo', 'appbar', 'appcache', 'appcelerator', 'appcompat', 'appcompatactivity', 'appdelegate', 'append', 'appium', 'apple', 'applepay', 'application', 'applicationcontext', 'apply', 'apps', 'appsettings', 'appsync', 'aqueduct', 'arcgis', 'architecture', 'archive', 'archiving', 'archlinux', 'arctic', 'arduino', 'argmax', 'argparse', 'args', 'argument', 'arima', 'arkit', 'armv', 'arraybuffer', 'arraylist', 'arrow', 'artifact', 'artifactory', 'artificial', 'artisan', 'ascii', 'asdf', 'asgi', 'aspect', 'aspectj', 'aspnet', 'assembly', 'assert', 'assertion', 'asset', 'assign', 'assignment', 'association', 'associative', 'assured', 'asymmetric', 'asymptotic', 'async', 'asynchronous', 'asyncio', 'asyncresttemplate', 'asynctask', 'athena', 'atlas', 'atlassian', 'atom', 'atomic', 'attachment', 'attack', 'attr', 'attribute', 'attributeerror', 'audio', 'audioplayers', 'augmentation', 'augmented', 'aurelia', 'aurora', 'auth', 'authentication', 'authenticationhandler', 'authorization', 'authorize', 'auto', 'autocomplete', 'autocompletetextview', 'autofac', 'autofill', 'autolayout', 'automapper', 'automated', 'automatic', 'automation', 'autoprefixer', 'autoresize', 'autoresizingmask', 'autoscroll', 'autostart', 'autowired', 'available', 'avaudioplayer', 'avcapture', 'avcapturesession', 'average', 'avfoundation', 'avplayer', 'avplayeritem', 'avplayerviewcontroller', 'avro', 'await', 'awesome', 'ax', 'axios', 'axis', 'azureportal', 'babel', 'babeljs', 'back', 'backbone', 'backend', 'background', 'backoff', 'backoffice', 'backpropagation', 'backquote', 'backslash', 'backticks', 'backtrace', 'backup', 'backwards', 'badge', 'balancer', 'balancing', 'barcode', 'base', 'baseadapter', 'based', 'bash', 'basic', 'batch', 'bcmath', 'bcrypt', 'bean', 'beanstalk', 'bearer', 'beautifulsoup', 'behavior', 'behaviorsubject', 'belongs', 'bert', 'beta', 'bigdata', 'bigdecimal', 'biginteger', 'bigquery', 'bigtable', 'binance', 'binary', 'binaryfiles', 'bind', 'binding', 'binning', 'biometrics', 'bios', 'bird', 'bitbake', 'bitbucket', 'bitmap', 'black', 'blade', 'blaze', 'blazor', 'blob', 'blobstore', 'bloc', 'block', 'blockchain', 'bluebird', 'bluejeans', 'bluetooth', 'bluez', 'blur', 'body', 'bokeh', 'bold', 'bookshelf', 'boolean', 'booleanquery', 'boost', 'boosting', 'border', 'boringssl', 'bot', 'boto', 'botocore', 'bottom', 'bottomnav', 'bottomnavigationview', 'bottomsheetdialog', 'bouncycastle', 'bounded', 'bower', 'boxplot', 'brace', 'branch', 'breadth', 'break', 'breakpoints', 'bridge', 'broadcast', 'broadcasting', 'broadcastreceiver', 'browser', 'browserify', 'bubbling', 'buffer', 'build', 'buildconfig', 'buildconfiguration', 'builder', 'building', 'buildkit', 'built', 'bulk', 'bulkinsert', 'bullmq', 'bundle', 'bundler', 'business', 'butterknife', 'button', 'buttongroup', 'byte', 'bytea', 'cache', 'caching', 'caffe', 'cairo', 'cakephp', 'calayer', 'calc', 'calendar', 'call', 'callback', 'camelcasing', 'camera', 'canactivate', 'canactivatechild', 'canary', 'cancellation', 'candeactivate', 'canvas', 'capacitor', 'capitalize', 'captcha', 'captivenetwork', 'capture', 'capybara', 'carbon', 'cardview', 'caret', 'carousel', 'casbah', 'cascade', 'case', 'cashapelayer', 'cask', 'cassandra', 'casting', 'catalina', 'catalyst', 'catch', 'categorical', 'category', 'cefsharp', 'ceil', 'celery', 'celerybeat', 'centering', 'centos', 'central', 'certificate', 'cgcolor', 'cgfloat', 'cgimage', 'chai', 'chained', 'chaining', 'changelistener', 'channel', 'char', 'character', 'charat', 'charles', 'chart', 'chat', 'chatbot', 'check', 'checkbox', 'checked', 'checking', 'checkout', 'checkstyle', 'checksum', 'cheerio', 'chess', 'child', 'childwindow', 'chmod', 'chromakey', 'chrome', 'chromedriver', 'chromium', 'chunk', 'chunked', 'chunking', 'chutzpah', 'ciimage', 'circleci', 'circular', 'ckoperation', 'clang', 'class', 'classcastexception', 'classformatexception', 'classic', 'classification', 'classnotfoundexception', 'clause', 'cleaning', 'click', 'clickable', 'clickjacking', 'clickonce', 'client', 'clip', 'clipboard', 'cllocation', 'cllocationcoordinate', 'cllocationdistance', 'cllocationmanager', 'clob', 'clone', 'closure', 'cloudamqp', 'cloudera', 'cloudflare', 'cloudformation', 'cloudfront', 'cloudinary', 'cloudkit', 'cloudmap', 'cloudwatch', 'cloudwatchlogs', 'cluster', 'cmake', 'cmdlet', 'coco', 'cocoa', 'cocoapods', 'codable', 'codahale', 'code', 'codeblocks', 'codebuild', 'codecommit', 'codegen', 'codeigniter', 'codepipeline', 'codesign', 'coding', 'coffeescript', 'cognito', 'coil', 'colaboratory', 'collaboration', 'collaborative', 'collapsingtoolbarlayout', 'collection', 'collectionview', 'collector', 'collectstatic', 'collision', 'color', 'colorbar', 'column', 'combine', 'combobox', 'command', 'commandline', 'comment', 'commerce', 'commit', 'common', 'commoncrypto', 'commonjs', 'commonschunkplugin', 'community', 'compact', 'comparator', 'compare', 'comparison', 'compass', 'compatibility', 'compatible', 'compilation', 'compiled', 'compiler', 'completable', 'complex', 'complexity', 'component', 'compose', 'composer', 'composite', 'compositing', 'composition', 'compound', 'comprehension', 'compression', 'computation', 'computational', 'compute', 'computed', 'computer', 'computing', 'concatenation', 'concrete', 'concurrency', 'concurrent', 'concurrenthashmap', 'concurrentmodification', 'conda', 'condition', 'conditional', 'conemu', 'config', 'configuration', 'conflict', 'confluence', 'confluent', 'confusion', 'connect', 'connection', 'connectivitymanager', 'connector', 'console', 'constant', 'constraint', 'constraintlayout', 'construction', 'constructor', 'consumer', 'contact', 'container', 'contains', 'content', 'contenteditable', 'context', 'continuous', 'contrib', 'control', 'controller', 'conv', 'convention', 'conversion', 'convert', 'converter', 'convolution', 'cookiecutter', 'cooky', 'coordinate', 'coordinator', 'coordinatorlayout', 'copy', 'cordova', 'coreclr', 'coredns', 'coreos', 'cornerradius', 'coroutine', 'coroutines', 'coroutinescope', 'correlation', 'cors', 'cosine', 'coturn', 'couchdb', 'count', 'counting', 'covariance', 'cover', 'coverage', 'cpanel', 'cpython', 'cqrs', 'craftcms', 'crash', 'crashlytics', 'crawler', 'create', 'credential', 'criteriaquery', 'criterion', 'cron', 'crop', 'cross', 'crud', 'cryptocurrency', 'cryptography', 'cryptojs', 'crystal', 'csproj', 'csrf', 'ctrl', 'ctypes', 'cube', 'cucumber', 'cucumberjs', 'cuda', 'cumsum', 'curio', 'curl', 'curly', 'currency', 'cursor', 'curve', 'custom', 'customization', 'cvxopt', 'cygwin', 'cypress', 'cython', 'daemon', 'dagger', 'daisy', 'dangling', 'dapper', 'darkmode', 'dart', 'darwin', 'dash', 'dashboard', 'dask', 'databind', 'databinding', 'dataclasses', 'datadetectortypes', 'datadog', 'datagridview', 'datagrip', 'datalist', 'dataloader', 'dataproc', 'datareader', 'dataset', 'datasets', 'datasource', 'datastax', 'datastore', 'datatables', 'date', 'datepicker', 'datepickerdialog', 'datetime', 'datetimepicker', 'dateutil', 'day', 'dayjs', 'dbcontext', 'dbeaver', 'dbpedia', 'ddos', 'deadlock', 'debian', 'debouncing', 'debug', 'debugger', 'debugging', 'decimal', 'decimalformat', 'decision', 'declaration', 'declare', 'decodable', 'decode', 'decoding', 'decompiling', 'decomposition', 'deconvolution', 'decorator', 'deep', 'default', 'defaultdict', 'deferred', 'defined', 'definition', 'delay', 'delegation', 'delete', 'denied', 'density', 'dependabot', 'dependency', 'deploy', 'deployment', 'deprecated', 'deprecation', 'descent', 'descriptor', 'deserialization', 'design', 'designer', 'desktop', 'destroy', 'destructuring', 'detailview', 'detect', 'detection', 'detector', 'detectron', 'developer', 'development', 'device', 'devicetoken', 'devise', 'devops', 'devtools', 'diagram', 'dialog', 'dialogfragment', 'dict', 'dictionary', 'difference', 'digital', 'dimension', 'directed', 'direction', 'directive', 'directory', 'directx', 'dirent', 'discord', 'discovery', 'dismiss', 'dispatch', 'display', 'disposition', 'dist', 'distance', 'distinct', 'distributed', 'distribution', 'distutils', 'divide', 'divider', 'division', 'divmod', 'doc', 'dockerfile', 'dockerhub', 'docstring', 'doctrine', 'documentation', 'documentum', 'docx', 'domain', 'dotenv', 'dotnet', 'double', 'download', 'dozer', 'dpapi', 'dpkg', 'dplyr', 'draftjs', 'drag', 'dragdrop', 'draggable', 'draw', 'drawable', 'drawables', 'drawer', 'drawerlayout', 'drawrect', 'drive', 'driven', 'driver', 'drop', 'dropdown', 'dropout', 'dropwizard', 'dropzone', 'drupal', 'dsym', 'dtype', 'dump', 'duplicate', 'duration', 'dyld', 'dynamic', 'dynamicform', 'dynamicquery', 'dynamodb', 'dyno', 'eager', 'easy', 'ebpf', 'echo', 'eclemma', 'eclipse', 'ecmascript', 'econnrefused', 'edge', 'edgedriver', 'edit', 'editing', 'edition', 'editor', 'edittext', 'effect', 'ehcache', 'eigen', 'einsum', 'eksctl', 'elapsed', 'elastic', 'elasticache', 'elasticsearch', 'elcapitan', 'electron', 'element', 'elixir', 'ellipsis', 'elliptic', 'eloquent', 'elpa', 'emacs', 'email', 'embed', 'embedded', 'embedder', 'embedding', 'ember', 'emit', 'emoji', 'emoticon', 'empty', 'emscripten', 'emulation', 'emulator', 'encode', 'encoding', 'encrypt', 'encryption', 'end', 'ending', 'endlessscroll', 'endpoint', 'engine', 'engineering', 'enlarge', 'ensemble', 'enterprise', 'entitlement', 'entity', 'entry', 'entrypoint', 'enumerate', 'enumeration', 'enums', 'environ', 'environment', 'enzyme', 'epoch', 'equal', 'erasure', 'erlang', 'errno', 'error', 'esbuild', 'escaping', 'eslint', 'eslintrc', 'espresso', 'etcd', 'ethereum', 'ethernet', 'euclidean', 'eureka', 'evaluation', 'event', 'eventemitter', 'eventmachine', 'eventsetter', 'eventtrigger', 'example', 'excel', 'exception', 'exchange', 'exec', 'executable', 'executor', 'executorservice', 'expect', 'expected', 'experience', 'exploit', 'explorer', 'expo', 'exponential', 'export', 'expr', 'express', 'expression', 'extension', 'external', 'externalinterface', 'extra', 'extract', 'extraction', 'fabric', 'fabricjs', 'face', 'facebook', 'facelets', 'facet', 'factor', 'factory', 'fadein', 'fadeout', 'failed', 'faiss', 'faker', 'falcon', 'falconframework', 'fargate', 'fastadapter', 'fastapi', 'fasterxml', 'fastscroll', 'fault', 'favicon', 'fbflipper', 'fbsdk', 'feather', 'feature', 'fedora', 'feedback', 'feign', 'fetch', 'ffmpeg', 'fiber', 'fiddler', 'field', 'figure', 'file', 'fileapi', 'filename', 'filenotfoundexception', 'fileprovider', 'filereader', 'filesaver', 'filesize', 'filesystem', 'filesystems', 'filter', 'filtering', 'finance', 'find', 'findbugs', 'finding', 'finish', 'fire', 'firebaseui', 'firefox', 'firefoxdriver', 'firestore', 'firewall', 'first', 'fitting', 'fixture', 'flag', 'flake', 'flappy', 'flask', 'flatten', 'flexbox', 'flipper', 'floating', 'flow', 'flowlayout', 'flowtype', 'fluent', 'flux', 'flying', 'flyway', 'font', 'fontconfig', 'footer', 'foreach', 'foreground', 'foreign', 'forest', 'fork', 'form', 'format', 'formatexception', 'formatter', 'formatting', 'formik', 'formsy', 'formula', 'fortify', 'found', 'foundation', 'fourcc', 'fragment', 'fragmentmanager', 'fragmentpageradapter', 'frame', 'framelayout', 'freetype', 'freeze', 'frequency', 'fresco', 'frontend', 'ftdi', 'ftp', 'fullcalendar', 'fullscreen', 'function', 'functional', 'functools', 'future', 'fuzzywuzzy', 'fxml', 'game', 'gantt', 'garbage', 'gateway', 'gatling', 'gatsby', 'gatt', 'gaussian', 'gcloud', 'gdal', 'geckodriver', 'gemfile', 'generate', 'generation', 'generator', 'generic', 'genfromtxt', 'genson', 'genymotion', 'geodjango', 'geofencing', 'geojson', 'geolocation', 'geometry', 'geospark', 'geospatial', 'gesture', 'getdate', 'getelementbyid', 'getproperties', 'getter', 'gettext', 'getusermedia', 'gevent', 'ggmap', 'ggplot', 'gherkin', 'github', 'gitignore', 'gitkraken', 'gitlab', 'glassfish', 'glibc', 'glide', 'global', 'globalization', 'glog', 'glue', 'gmail', 'gmsmapview', 'gnome', 'gnupg', 'gobject', 'gorilla', 'gorouter', 'gprof', 'gradient', 'gradlew', 'grafana', 'grail', 'grand', 'grant', 'grape', 'graph', 'graphene', 'graphic', 'graphlab', 'graphql', 'graphviz', 'gravity', 'greasemonkey', 'greatest', 'grep', 'grequests', 'grib', 'grid', 'gridlayoutmanager', 'grizzly', 'grocery', 'groovy', 'group', 'groupby', 'grouped', 'grouping', 'grpc', 'grunt', 'gruntjs', 'gson', 'gssapi', 'gstreamer', 'gsutil', 'guard', 'guava', 'guice', 'gulp', 'gunicorn', 'gunzip', 'guzzle', 'gzip', 'hadoop', 'hammer', 'handler', 'handling', 'handshake', 'hapi', 'haproxy', 'hardware', 'harmony', 'hash', 'hashbang', 'hashids', 'hashmap', 'hashtable', 'hateoas', 'haversine', 'haxm', 'hbase', 'hdfs', 'hdpi', 'head', 'header', 'headless', 'heap', 'heapsort', 'heatmap', 'height', 'helm', 'helper', 'hermes', 'heroku', 'hexo', 'hibernate', 'hidden', 'hide', 'hierarchical', 'hierarchy', 'hierarchyviewer', 'high', 'highcharts', 'highdpi', 'highlighting', 'hikaricp', 'hilt', 'hint', 'hinting', 'hipi', 'histogram', 'history', 'hive', 'hmac', 'home', 'homebrew', 'homebutton', 'homestead', 'hook', 'horizon', 'horizontal', 'horizontalscrollview', 'hortonworks', 'host', 'hosted', 'hosting', 'hotspot', 'hour', 'hsts', 'htaccess', 'htmlspecialchars', 'httpclient', 'httpclientfactory', 'httpcomponents', 'httpexception', 'httplib', 'httprequest', 'httpresponse', 'httpresponsemessage', 'httpurlconnection', 'httpwebrequest', 'httr', 'huggingface', 'husky', 'hybrid', 'hyper', 'hyperlink', 'hyperopt', 'hyperparameters', 'hystrix', 'ibdesignable', 'ibeacon', 'iboutlet', 'iboutletcollection', 'icloud', 'icon', 'idea', 'ident', 'identifier', 'identity', 'identityserver', 'idiom', 'idisposable', 'idle', 'ieee', 'iframe', 'ildasm', 'illegalstateexception', 'illuminate', 'image', 'imagefilter', 'imagemagick', 'imageview', 'imaging', 'imap', 'imblearn', 'imgur', 'immutability', 'immutable', 'immutables', 'impersonation', 'implicitwait', 'import', 'importerror', 'imputation', 'imshow', 'incapsula', 'incompatibletypeerror', 'increment', 'indent', 'indentation', 'index', 'indexeddb', 'indexing', 'indexof', 'indicator', 'inference', 'infinity', 'inflater', 'influxdb', 'info', 'infrastructure', 'ingres', 'inheritance', 'init', 'initialization', 'initializer', 'injection', 'inline', 'inner', 'innerhtml', 'inproc', 'input', 'inputaccessoryview', 'inputstream', 'insensitive', 'insert', 'insight', 'inspect', 'inspection', 'inspector', 'instagram', 'install', 'installation', 'installed', 'installer', 'instance', 'instant', 'instantiation', 'instrumentation', 'integer', 'integration', 'intel', 'intelligence', 'intellij', 'intellisense', 'intent', 'intentfilter', 'intentservice', 'interceptor', 'interface', 'internal', 'internals', 'internationalization', 'internet', 'interopservices', 'interpolation', 'interrupt', 'interrupted', 'intersect', 'intersection', 'interval', 'intervention', 'invalidargumentexception', 'invisible', 'invoke', 'ioctl', 'ioexception', 'ionic', 'ipad', 'ipados', 'iphone', 'ipython', 'ipywidgets', 'isolation', 'isomorphic', 'isort', 'italic', 'iterable', 'iteration', 'iterator', 'itertools', 'itext', 'itunes', 'jackson', 'jacoco', 'jakarta', 'jalali', 'janusgraph', 'jasmine', 'jasny', 'jasypt', 'javac', 'javadoc', 'javafx', 'javascriptcore', 'jaxb', 'jboss', 'jbutton', 'jcenter', 'jcombobox', 'jdbc', 'jdbctemplate', 'jedi', 'jelly', 'jenkins', 'jersey', 'jest', 'jestjs', 'jet', 'jetbrains', 'jetifier', 'jetpack', 'jetty', 'jfreechart', 'jgit', 'jhipster', 'jinja', 'jira', 'jlabel', 'jmeter', 'jmod', 'jndi', 'jobintentservice', 'jodatime', 'join', 'jooq', 'jpeg', 'jpql', 'jsch', 'jsdom', 'jslint', 'jsonb', 'jsonfield', 'jsonp', 'jsonpath', 'jsonresponse', 'jsonschema', 'jsonserializer', 'jspdf', 'jspm', 'jtabbedpane', 'jtable', 'junction', 'junit', 'jupiter', 'jupyter', 'jupyterhub', 'jvisualvm', 'kafka', 'kapt', 'karma', 'katana', 'kbuild', 'kebab', 'kendo', 'kera', 'kerberos', 'kernel', 'key', 'keyboard', 'keycloak', 'keyerror', 'keymapping', 'keymaps', 'keyof', 'keypress', 'keystore', 'keytool', 'keyup', 'keyvault', 'keyword', 'kibana', 'kill', 'kinesis', 'kingfisher', 'kitkat', 'knex', 'knockout', 'koin', 'kotlin', 'kotlinx', 'kube', 'kubectl', 'kubernetes', 'label', 'lambda', 'lamp', 'langchain', 'language', 'laplacianofgaussian', 'laravelcollective', 'large', 'latency', 'lateral', 'laterjs', 'latex', 'latitude', 'launch', 'launchimage', 'layer', 'layout', 'layoutparams', 'lazy', 'ldap', 'le', 'leading', 'leaflet', 'leak', 'learn', 'left', 'legacy', 'legend', 'length', 'let', 'letter', 'level', 'libc', 'libcrypto', 'libdispatch', 'libffi', 'libgdx', 'library', 'lidar', 'lifecycle', 'lightbox', 'lightgbm', 'lighthouse', 'lightsail', 'like', 'limit', 'limiting', 'line', 'linear', 'linearlayout', 'linearlayoutmanager', 'link', 'linked', 'linkedhashmap', 'linkedin', 'linker', 'linking', 'linq', 'lint', 'liquibase', 'list', 'listbox', 'listener', 'listitem', 'listview', 'lite', 'literal', 'litespeed', 'live', 'livedata', 'livereload', 'lldb', 'llvm', 'lmplot', 'load', 'loadable', 'loader', 'loading', 'local', 'localdb', 'locale', 'localhost', 'localization', 'location', 'locationlistener', 'locator', 'locking', 'lodash', 'logback', 'logcat', 'logging', 'logic', 'logical', 'login', 'logistic', 'logrotate', 'logstash', 'logz', 'lollipop', 'lombok', 'long', 'longitude', 'loop', 'loopback', 'loopbackjs', 'loss', 'lowenergy', 'lsof', 'lstm', 'lucene', 'lumen', 'luna', 'luxon', 'lxml', 'maatwebsite', 'machine', 'macos', 'macro', 'magento', 'magicmock', 'mail', 'mailcatcher', 'mailchimp', 'mailgun', 'mailkit', 'main', 'maintainability', 'makefile', 'makemigrations', 'malloc', 'management', 'manager', 'manifest', 'manipulation', 'many', 'map', 'mapbox', 'mapkit', 'mappedsuperclass', 'mapping', 'mapr', 'mapreduce', 'margin', 'mariadb', 'markdown', 'marker', 'markup', 'marquee', 'marshmallow', 'mask', 'matcher', 'matching', 'material', 'materialcardview', 'materialize', 'math', 'matlab', 'matplotlib', 'matrix', 'maven', 'maverick', 'maya', 'mayavi', 'mbstring', 'mcrypt', 'mean', 'mediaplayer', 'mediarecorder', 'mediascanner', 'mediastore', 'mediatr', 'medium', 'melt', 'member', 'memcached', 'memory', 'memorycache', 'menu', 'menuitem', 'merge', 'merging', 'mern', 'mesh', 'meshlab', 'mesos', 'message', 'messagebox', 'messaging', 'messenger', 'meta', 'metabase', 'metaclass', 'metaspace', 'meteor', 'method', 'metric', 'metro', 'microk', 'micrometer', 'micronaut', 'microservices', 'microsoft', 'middleware', 'migrate', 'migration', 'millisecond', 'mime', 'minecraft', 'mingw', 'miniconda', 'minify', 'minikube', 'minimal', 'mining', 'mint', 'missing', 'mixed', 'mixins', 'mjml', 'mjpeg', 'mkmapview', 'mlab', 'mllib', 'mmap', 'mobaxterm', 'mobile', 'mobilefirst', 'mobx', 'moby', 'mocha', 'mock', 'mocking', 'mockito', 'mockk', 'mockmvc', 'mockwebserver', 'modal', 'mode', 'model', 'modeling', 'modifier', 'module', 'modulo', 'mojave', 'mojibake', 'momentjs', 'mongodb', 'mongoexport', 'mongojs', 'mongoose', 'monit', 'monitoring', 'mono', 'monorepo', 'montecarlo', 'moshi', 'motion', 'moto', 'mount', 'mouse', 'mousedown', 'mouseevent', 'mousemove', 'mouseover', 'mouseup', 'mousewheel', 'move', 'moving', 'mozilla', 'mpandroidchart', 'mptt', 'mpvolumeview', 'mqtt', 'msal', 'msbuild', 'mstest', 'msys', 'msysgit', 'multer', 'multi', 'multidex', 'multidimensional', 'multifile', 'multilabel', 'multinomial', 'multipage', 'multipart', 'multipartentity', 'multipartform', 'multiple', 'multiplication', 'multiprocessing', 'multithreading', 'multiview', 'music', 'mutablelivedata', 'mutation', 'mvvm', 'mvvmcross', 'mypy', 'mysql', 'mysqli', 'naivebayes', 'namedtuple', 'namespace', 'namespaces', 'naming', 'nancy', 'nanohttpd', 'nanomsg', 'nant', 'nashorn', 'nasm', 'native', 'nativescript', 'navbar', 'navicat', 'navigation', 'navigationbar', 'navigationlink', 'navigationview', 'navigator', 'ndarray', 'nehotspothelper', 'nest', 'nested', 'nestedscrollview', 'nestjs', 'netbeans', 'netcat', 'netcdf', 'netflix', 'netsh', 'network', 'networkinfo', 'networking', 'networkx', 'neural', 'newline', 'next', 'ngfor', 'nginx', 'ngmodel', 'ngoninit', 'ngresource', 'ngrok', 'ngroute', 'ngrx', 'nightwatch', 'ninject', 'nlog', 'nlohmann', 'nltk', 'nock', 'nodejs', 'nodemailer', 'nodemon', 'nokogiri', 'nomethoderror', 'nonetype', 'nopcommerce', 'normal', 'normalization', 'normalize', 'nose', 'nosql', 'nosuchmethoderror', 'notebook', 'notepad', 'notification', 'notsupportedexception', 'nougat', 'npgsql', 'nrwl', 'nsdata', 'nsdate', 'nsdateformatter', 'nsdictionary', 'nsenter', 'nsexception', 'nsfetchrequest', 'nsindexpath', 'nsjsonserialization', 'nskeyedarchiver', 'nslayoutconstraint', 'nslinguistictagger', 'nsmanagedobject', 'nsmutablearray', 'nsnotificationcenter', 'nsstring', 'nstimer', 'nstimezone', 'nsurl', 'nsurlrequest', 'nsurlsession', 'nsurlsessiondownloadtask', 'nsuserdefaults', 'nsview', 'nsviewcontroller', 'nswagstudio', 'ntlm', 'nuget', 'null', 'nullable', 'nullpointerexception', 'numba', 'number', 'numpy', 'nunit', 'nunjucks', 'nuxt', 'nvarchar', 'nvidia', 'oauth', 'obfuscation', 'object', 'objectanimator', 'objective', 'observable', 'observables', 'observer', 'ocean', 'ocelot', 'odata', 'odbc', 'odoo', 'office', 'offline', 'oglplus', 'ojdbc', 'okhttp', 'okio', 'omnisharp', 'onactivityresult', 'onchange', 'onclick', 'onclicklistener', 'oncreate', 'ondraw', 'onedrive', 'oneget', 'onesignal', 'onfocus', 'onion', 'onitemclicklistener', 'onmouseout', 'onmouseover', 'onpause', 'onrowclick', 'onscrolllistener', 'onsubmit', 'ontouchlistener', 'opacity', 'openai', 'openapi', 'opencsv', 'opencv', 'opendir', 'openembedded', 'opengl', 'openid', 'openpyxl', 'openshift', 'openssl', 'openstack', 'openstreetmap', 'operating', 'operation', 'operational', 'operator', 'optaplanner', 'optimistic', 'optimization', 'option', 'optional', 'optionsmenu', 'opus', 'oracle', 'oracledb', 'oraclelinux', 'orange', 'order', 'ordereddict', 'ordinal', 'oreo', 'orientation', 'origin', 'osmesa', 'outlook', 'output', 'outputstream', 'overfitting', 'overflow', 'overhead', 'overloading', 'override', 'overriding', 'owasp', 'owin', 'owner', 'pack', 'package', 'packageinstaller', 'packaging', 'packagr', 'padding', 'page', 'pageant', 'pageload', 'pageradapter', 'pagerslidingtabstrip', 'pagespeed', 'pagination', 'paging', 'pair', 'pandoc', 'pango', 'parallax', 'parallel', 'param', 'parameter', 'paramiko', 'paraview', 'parcel', 'parcelable', 'parceljs', 'parquet', 'parse', 'parser', 'parsing', 'partialview', 'partition', 'partitioning', 'pas', 'passing', 'passport', 'password', 'patch', 'path', 'pathlib', 'pathname', 'pattern', 'payment', 'paypal', 'pdfbox', 'pdfjs', 'pdfkit', 'pdflatex', 'pdfmake', 'pdfminer', 'penetration', 'percentage', 'percentile', 'performance', 'period', 'perl', 'permgen', 'permission', 'permutation', 'persist', 'persistence', 'persistent', 'pgadmin', 'pgcrypto', 'phantomjs', 'phase', 'phaser', 'phasset', 'phone', 'phonegap', 'photon', 'photosframework', 'photoshop', 'phpdotenv', 'phpmyadmin', 'phpstorm', 'phpunit', 'picasso', 'picker', 'pickle', 'ping', 'pipe', 'pipeline', 'pipenv', 'pipfile', 'pitest', 'pivot', 'pixel', 'place', 'placeholder', 'platform', 'play', 'player', 'playframework', 'playground', 'playwright', 'plist', 'plot', 'plotly', 'plpgsql', 'plsql', 'pluck', 'plugi', 'plugin', 'plugins', 'plus', 'pnpm', 'podfile', 'poetry', 'point', 'pointer', 'poison', 'poisson', 'pojo', 'policy', 'polling', 'polly', 'polyfill', 'polyfills', 'polyglot', 'polygon', 'polymer', 'polymorphic', 'polymorphism', 'pong', 'poodle', 'pool', 'pooling', 'popen', 'popover', 'popup', 'port', 'portable', 'portforwarding', 'portrait', 'position', 'positional', 'posix', 'post', 'postdelayed', 'postfix', 'postgis', 'postgres', 'postgresql', 'postman', 'postmessage', 'powermock', 'powershell', 'precision', 'predicate', 'prediction', 'predis', 'preference', 'preferencescreen', 'prefetch', 'preflight', 'prelaunch', 'preload', 'preprocessing', 'presentviewcontroller', 'presto', 'prettier', 'pretty', 'preventdefault', 'prevention', 'primary', 'primefaces', 'primeng', 'principal', 'printer', 'printing', 'prisma', 'privacy', 'private', 'probability', 'procedure', 'process', 'processing', 'procfile', 'producer', 'product', 'productflavors', 'production', 'profile', 'profiler', 'profiling', 'program', 'programming', 'progress', 'progressbar', 'progressdialog', 'progressive', 'proguard', 'project', 'projection', 'projectreference', 'prometheus', 'promise', 'prompt', 'prop', 'propagation', 'property', 'protection', 'proto', 'protobuf', 'protocol', 'protorpc', 'prototype', 'protractor', 'provider', 'provisioning', 'proxy', 'proxyquire', 'pseudo', 'psycopg', 'pthreads', 'public', 'publish', 'publisher', 'publishing', 'pubsub', 'pull', 'pulseaudio', 'puma', 'puppeteer', 'purchase', 'push', 'pushkit', 'pushstate', 'putty', 'pyarrow', 'pyathena', 'pyaudio', 'pyautogui', 'pycharm', 'pycrypto', 'pycurl', 'pydantic', 'pydev', 'pydot', 'pydrive', 'pyenv', 'pyfilesystem', 'pygame', 'pygobject', 'pygraphviz', 'pygrib', 'pyinstaller', 'pylint', 'pymc', 'pymongo', 'pymysql', 'pyodbc', 'pypdf', 'pypi', 'pyproject', 'pyqt', 'pyqtgraph', 'pyserial', 'pyside', 'pyspark', 'pytables', 'pytesser', 'pytest', 'pythonanywhere', 'pythonpath', 'pytorch', 'pyvirtualdisplay', 'pywin', 'pyyaml', 'qdialog', 'qemu', 'qtablewidget', 'qthread', 'qtimer', 'qtquick', 'quadratic', 'quantile', 'quartz', 'quasar', 'quaternion', 'query', 'querydsl', 'queryset', 'queue', 'quote', 'quoting', 'qwidget', 'rabbit', 'rabbitmq', 'radio', 'rail', 'railsapps', 'raiseerror', 'rake', 'ramda', 'random', 'range', 'raspberry', 'raspbian', 'rate', 'ratio', 'rauth', 'razor', 'razzle', 'rbac', 'rbenv', 'rdflib', 'reachability', 'reactive', 'reactivex', 'reactivity', 'reactor', 'reactstrap', 'readability', 'readdir', 'readline', 'real', 'reality', 'realitykit', 'realtime', 'recall', 'recaptcha', 'receiver', 'recharts', 'recognition', 'record', 'recording', 'recurrent', 'recursion', 'recyclerview', 'redhat', 'redirect', 'redis', 'redistributable', 'redraw', 'redshift', 'reduce', 'reducer', 'redux', 'refactoring', 'reference', 'referenceerror', 'referer', 'reflection', 'reflow', 'refluxjs', 'refresh', 'regex', 'registration', 'registry', 'regression', 'regsvr', 'regularized', 'reinforcement', 'relational', 'relationship', 'relative', 'release', 'relevance', 'reload', 'reloaddata', 'remote', 'remoteview', 'rename', 'renderer', 'rendering', 'renewal', 'repeat', 'repeater', 'replace', 'replaceall', 'replication', 'reply', 'report', 'reportbuilder', 'reporting', 'reportlab', 'repository', 'repr', 'request', 'requestanimationframe', 'require', 'requirejs', 'requirement', 'rerender', 'resampling', 'rescale', 'resharper', 'resiliency', 'resize', 'resnet', 'resolution', 'resource', 'response', 'responsive', 'responsiveness', 'restangular', 'restcontroller', 'resteasy', 'restful', 'restify', 'restore', 'restructuredtext', 'restsharp', 'resttemplate', 'retina', 'retrofit', 'retrolambda', 'retry', 'return', 'reuse', 'reverse', 'revert', 'review', 'rewriting', 'rhel', 'riak', 'rich', 'rider', 'rippledrawable', 'riverpod', 'rmagick', 'robo', 'robolectric', 'robot', 'rocket', 'role', 'rollback', 'rolling', 'rollingfileappender', 'rollout', 'rollup', 'rollupjs', 'room', 'root', 'rootfs', 'rootviewcontroller', 'roslyn', 'rotation', 'rotativa', 'rounding', 'roundtrip', 'route', 'router', 'routerlink', 'routing', 'rowlocking', 'rpython', 'rselenium', 'rspec', 'rssi', 'rsync', 'rtsp', 'rubocop', 'rubygems', 'rubymine', 'runner', 'runtime', 'runtimeexception', 'rust', 'rxjs', 'safari', 'safe', 'safety', 'saga', 'sagemaker', 'sail', 'salesforce', 'saml', 'sampling', 'samsung', 'sandbox', 'sanitization', 'sankey', 'sapui', 'sas', 'saucer', 'save', 'scaffolding', 'scala', 'scalability', 'scalatest', 'scale', 'scaletransform', 'scan', 'scanner', 'scatter', 'scenario', 'scene', 'scenebuilder', 'scenekit', 'schedule', 'scheduled', 'scheduler', 'scheduling', 'schema', 'schematic', 'scheme', 'science', 'scientific', 'scikit', 'scipy', 'scope', 'scraper', 'scraping', 'scrapy', 'screen', 'script', 'scripting', 'scroll', 'scrollable', 'scrollableresults', 'scrollbar', 'scrolling', 'scrolltop', 'scrollview', 'seaborn', 'search', 'searchview', 'secret', 'sector', 'security', 'securityexception', 'seed', 'seeding', 'seekbar', 'segmentation', 'segue', 'select', 'selected', 'selectedindex', 'selection', 'selectionchanged', 'selectize', 'selector', 'self', 'selinux', 'semantic', 'semantics', 'sendgrid', 'sendmessage', 'sensor', 'sequelize', 'sequence', 'sequential', 'serial', 'serializable', 'serialization', 'series', 'serilog', 'serverless', 'servicebus', 'servlet', 'servlets', 'session', 'setcookie', 'setinterval', 'setstate', 'setter', 'setting', 'setup', 'setuptools', 'setvalue', 'sftp', 'shade', 'shadow', 'shadowing', 'shaking', 'shape', 'shapedrawable', 'shapely', 'share', 'shared', 'sharedflow', 'sharing', 'sharp', 'sheet', 'shift', 'shiny', 'shlex', 'shopify', 'shortcut', 'shortener', 'shoulda', 'show', 'showcaseview', 'shrink', 'shuffle', 'shutdown', 'sibling', 'side', 'sidebar', 'sidekiq', 'sierra', 'sigma', 'sign', 'signal', 'signalr', 'signed', 'signin', 'signing', 'silentpush', 'silicon', 'similarity', 'simple', 'simplehttpserver', 'simplejson', 'simulation', 'simulator', 'sinatra', 'single', 'singlechildscrollview', 'singleline', 'singleton', 'sinon', 'site', 'sitemap', 'size', 'skill', 'sklearn', 'skspritenode', 'sleep', 'sleuth', 'slice', 'slick', 'slide', 'slider', 'slidetoggle', 'sliver', 'slot', 'smart', 'smartcontracts', 'smooth', 'smoothing', 'smsmanager', 'smtp', 'snackbar', 'snakeyaml', 'snap', 'snippet', 'soap', 'socialite', 'sock', 'socket', 'softirq', 'softkeyboard', 'software', 'solaris', 'solidity', 'solr', 'solution', 'sonarlint', 'sonarqube', 'soql', 'sorting', 'source', 'sourcekit', 'sourcemaps', 'sourcetree', 'sourcing', 'space', 'spam', 'sparse', 'spawn', 'spec', 'specflow', 'special', 'specific', 'speech', 'sphinx', 'splash', 'split', 'splitchunks', 'splitting', 'spock', 'spotbugs', 'spotify', 'spread', 'springfox', 'springsourcetoolsuite', 'sprite', 'spyder', 'spyon', 'sqlalchemy', 'sqlbulkcopy', 'sqlclr', 'sqldatareader', 'sqlite', 'sqlsrv', 'sqlxml', 'square', 'srcset', 'ssis', 'sslhandshakeexception', 'sslsocketfactory', 'ssms', 'ssrs', 'stack', 'stacked', 'standard', 'standardjs', 'star', 'starlette', 'start', 'startswith', 'starttls', 'startup', 'stat', 'stata', 'state', 'stateflow', 'stateful', 'stateless', 'statement', 'static', 'staticfiles', 'statistic', 'statsmodels', 'status', 'statusbar', 'stderr', 'stdin', 'stdout', 'sticky', 'stock', 'stomp', 'storage', 'store', 'stored', 'storekit', 'storyboard', 'storybook', 'storyshots', 'stream', 'streaming', 'stress', 'strict', 'strictnullchecks', 'strikethrough', 'string', 'stringify', 'stringio', 'strip', 'stripe', 'stripplot', 'strong', 'strongloop', 'strptime', 'struct', 'structs', 'structure', 'structured', 'stub', 'stun', 'style', 'stylecop', 'styled', 'stylelint', 'stylesheet', 'styling', 'subclass', 'subclassing', 'subdirectory', 'subdomain', 'subject', 'sublime', 'sublimetext', 'submit', 'subplot', 'subprocess', 'subquery', 'subscribe', 'subscriber', 'subscript', 'subscription', 'subsystem', 'sudo', 'sudoku', 'sugarorm', 'suite', 'summarize', 'summary', 'supertest', 'supervised', 'support', 'surefire', 'surface', 'surfaceholder', 'surfaceview', 'suspend', 'svelte', 'swagger', 'swap', 'swarm', 'swashbuckle', 'swiftui', 'swing', 'swipe', 'swiper', 'switch', 'sybase', 'symbol', 'symfony', 'symlink', 'sympy', 'synapse', 'sync', 'synchronization', 'synchronize', 'synchronized', 'synchronous', 'syntax', 'synthesis', 'system', 'systemctl', 'systemd', 'systemjs', 'tab', 'tabbar', 'tabbed', 'tabhost', 'tablayout', 'table', 'tablerowsorter', 'tablet', 'tableview', 'tabstrip', 'tag', 'tail', 'tailwind', 'tampermonkey', 'tapestry', 'target', 'task', 'taskkill', 'tcserver', 'te', 'teamcity', 'teardown', 'tedious', 'telegram', 'telemetry', 'telerik', 'template', 'templating', 'tensor', 'tensorboard', 'tensorflow', 'teraterm', 'terminal', 'terminate', 'termios', 'terraform', 'tesseract', 'test', 'testbed', 'testcafe', 'testcase', 'testflight', 'testng', 'text', 'textarea', 'textfield', 'textinputlayout', 'textview', 'theano', 'theme', 'theory', 'thin', 'thinktecture', 'thread', 'threaded', 'threadpool', 'threadpoolexecutor', 'threetenabp', 'threetenbp', 'throttling', 'throw', 'thumbnail', 'thunk', 'thymeleaf', 'tilde', 'time', 'timed', 'timedelta', 'timeline', 'timeout', 'timer', 'timeserieschart', 'timespan', 'timestamp', 'timezone', 'timing', 'titanium', 'title', 'titlebar', 'tkinter', 'toast', 'toggle', 'token', 'tokenize', 'tomcat', 'tomee', 'toml', 'tool', 'toolbar', 'toolbox', 'toolkit', 'tooltip', 'topic', 'topojson', 'torch', 'torchvision', 'tornado', 'tortoisesvn', 'tostring', 'total', 'touch', 'touchesbegan', 'touchstart', 'tqdm', 'trace', 'traceur', 'tracker', 'traffic', 'trailing', 'train', 'training', 'transaction', 'transactionmanager', 'transactionscope', 'transcribe', 'transfer', 'transform', 'transformation', 'transformer', 'transforms', 'transition', 'transitive', 'translate', 'transparency', 'transparent', 'transpiler', 'transport', 'transpose', 'traversal', 'travis', 'tree', 'treeview', 'trendline', 'trigger', 'trigonometry', 'trim', 'trio', 'truststore', 'tsconfig', 'tslint', 'tsqlt', 'tttattributedlabel', 'tuning', 'tunnel', 'tuples', 'turbogears', 'turbotable', 'turi', 'turn', 'turnserver', 'tweepy', 'twine', 'twitter', 'tynamo', 'type', 'typeahead', 'typechecking', 'typeconverter', 'typeerror', 'typeguards', 'typeof', 'typeorm', 'typesafe', 'typing', 'typography', 'u', 'uber', 'ubuntu', 'ufunc', 'uiactivityviewcontroller', 'uialertaction', 'uialertcontroller', 'uialertview', 'uiapplicationdelegate', 'uiautomator', 'uibarbuttonitem', 'uibutton', 'uicollectionview', 'uicollectionviewcell', 'uicolor', 'uicomponents', 'uicontainerview', 'uidocument', 'uidocumentpickervc', 'uifont', 'uigesturerecognizer', 'uiimage', 'uiimageview', 'uikit', 'uilabel', 'uilocalnotification', 'uimenucontroller', 'uinavigationbar', 'uinavigationcontroller', 'uinavigationitem', 'uint', 'uiscenedelegate', 'uiscrollview', 'uisearchbar', 'uistackview', 'uistoryboard', 'uistoryboardsegue', 'uiswipegesturerecognizer', 'uitabbar', 'uitableview', 'uitableviewrowaction', 'uitest', 'uitextfield', 'uitextview', 'uiview', 'uiviewanimation', 'uiviewcontroller', 'uiwebview', 'umask', 'unbound', 'unbounded', 'undefined', 'underfitting', 'underscore', 'undetected', 'unicode', 'uninstallation', 'union', 'unique', 'uniqueidentifier', 'unirest', 'unittest', 'unity', 'universal', 'unix', 'unmarshalling', 'unnotificationattachment', 'unnotificationserviceextension', 'unobtrusive', 'unpack', 'unpacking', 'unpivot', 'unpkg', 'unsupported', 'update', 'updatemodel', 'upgrade', 'upload', 'uploader', 'uploading', 'upsert', 'url', 'urlencode', 'urllib', 'usability', 'user', 'userscripts', 'util', 'utility', 'utils', 'uuid', 'uvicorn', 'uwsgi', 'vagrant', 'vagrantfile', 'validate', 'validation', 'validator', 'validators', 'value', 'valuechangelistener', 'valueerror', 'variable', 'varnish', 'vbscript', 'vector', 'vectordrawable', 'vectorization', 'venv', 'verification', 'version', 'versioning', 'vertical', 'vetur', 'video', 'videoview', 'view', 'viewchild', 'viewcontroller', 'viewdidappear', 'viewer', 'viewholder', 'viewmodel', 'viewpager', 'viewport', 'vimeo', 'violin', 'virtual', 'virtualbox', 'virtualenv', 'virtualenvwrapper', 'virtualfilesystem', 'virtualhost', 'virtualization', 'virtualized', 'visibility', 'vision', 'visualization', 'visualvm', 'vite', 'voice', 'void', 'voip', 'volatile', 'volley', 'voltdb', 'volume', 'vscode', 'vsix', 'vuejs', 'vuetify', 'vuex', 'wait', 'wamp', 'warning', 'watch', 'watchkit', 'waterline', 'watson', 'waveform', 'wayland', 'wbwebviewconsole', 'weak', 'wear', 'weasyprint', 'webapi', 'webassembly', 'webautomation', 'webcam', 'webclient', 'webcontrols', 'webcrypto', 'webdav', 'webdeploy', 'webdriver', 'webdriverwait', 'webextensions', 'webflux', 'webfont', 'webfonts', 'webgl', 'webhooks', 'webjob', 'webjobs', 'webjobssdk', 'webkit', 'weblogic', 'webm', 'webp', 'webpack', 'webpagetest', 'webrtc', 'webserver', 'website', 'websocket', 'webspeech', 'webstorm', 'webtest', 'webview', 'wechat', 'weld', 'wercker', 'wget', 'whatsapp', 'wheel', 'whenever', 'whitespace', 'widget', 'widgetkit', 'width', 'wifi', 'wikidata', 'wikipedia', 'wildcard', 'wildfly', 'winapi', 'windowbuilder', 'windowinsets', 'windowsiot', 'wine', 'winforms', 'winhttp', 'wireshark', 'wkhtmltopdf', 'wkwebview', 'woff', 'woocommerce', 'word', 'wordpress', 'work', 'workbench', 'worker', 'working', 'workmanager', 'worksheet', 'workspace', 'wrap', 'wrapper', 'wsdl', 'wsgi', 'wtforms', 'xamarin', 'xaml', 'xampp', 'xarray', 'xcarchive', 'xcconfig', 'xcodebuild', 'xctest', 'xdebug', 'xdist', 'xgbclassifier', 'xgboost', 'xhtml', 'xlib', 'xlink', 'xlrd', 'xlsx', 'xlsxwriter', 'xmlhttprequest', 'xmlrpcclient', 'xmlrpclib', 'xmltable', 'xmpp', 'xpages', 'xpath', 'xquery', 'xslt', 'xtermjs', 'xunit', 'xvfb', 'yaml', 'yarn', 'yarnpkg', 'yaxis', 'yelp', 'yeoman', 'yfinance', 'yocto', 'yolo', 'yosemite', 'youtube', 'zappa', 'zebra', 'zeep', 'zend', 'zero', 'zeromq', 'zipoutputstream', 'zlib', 'zoneddatetime', 'zoneinfo', 'zookeeper', 'zooming', 'zope', 'zscaler', 'zshrc', 'zurb', 'zustand', 'zuul'] will be ignored\n",
      "  warnings.warn(\n"
     ]
    },
    {
     "data": {
      "text/plain": [
       "array(['python', 'android', 'java', 'javascript', 'spring', 'node',\n",
       "       'core', 'angular', 'google', 'swift', 'studio', 'html', 'reactjs',\n",
       "       'amazon', 'xcode', 'laravel', 'react', 'testing', 'django',\n",
       "       'apache', 'typescript', 'json', 'docker', 'boot', 'visual',\n",
       "       'panda', 'service', 'gradle', 'linux', 'window', 'framework',\n",
       "       'jquery', 'data', 'spark', 'firebase', 'azure', 'http', 'selenium',\n",
       "       'flutter', 'learning', 'server', 'unit', 'angularjs', 'ruby',\n",
       "       'bootstrap', 'rest', 'array', 'database', 'dataframe', 'cloud'],\n",
       "      dtype=object)"
      ]
     },
     "metadata": {},
     "output_type": "display_data"
    }
   ],
   "source": [
    "from sklearn.preprocessing import MultiLabelBinarizer\n",
    "\n",
    "classes = first_m_tags\n",
    "\n",
    "mlb = MultiLabelBinarizer(classes=classes)\n",
    "train_labels = mlb.fit_transform(y_train)\n",
    "test_labels = mlb.transform(y_test)\n",
    "\n",
    "print(\"Affichage des classes du modèle de vectorisation :\")\n",
    "print(\"-\"*60)\n",
    "display(mlb.classes_)"
   ]
  },
  {
   "cell_type": "code",
   "execution_count": 52,
   "metadata": {
    "colab": {
     "base_uri": "https://localhost:8080/"
    },
    "id": "BoulBtc138qu",
    "outputId": "5a6f1faf-3078-4274-98c7-95912055a88a"
   },
   "outputs": [
    {
     "data": {
      "text/plain": [
       "array([[0, 0, 0, ..., 0, 0, 0],\n",
       "       [1, 0, 0, ..., 0, 0, 0],\n",
       "       [0, 0, 0, ..., 0, 0, 0],\n",
       "       ...,\n",
       "       [0, 0, 1, ..., 0, 0, 0],\n",
       "       [0, 0, 0, ..., 0, 0, 0],\n",
       "       [0, 0, 0, ..., 0, 0, 0]])"
      ]
     },
     "execution_count": 52,
     "metadata": {},
     "output_type": "execute_result"
    }
   ],
   "source": [
    "test_labels"
   ]
  },
  {
   "cell_type": "code",
   "execution_count": 53,
   "metadata": {},
   "outputs": [
    {
     "data": {
      "text/html": [
       "<div>\n",
       "<style scoped>\n",
       "    .dataframe tbody tr th:only-of-type {\n",
       "        vertical-align: middle;\n",
       "    }\n",
       "\n",
       "    .dataframe tbody tr th {\n",
       "        vertical-align: top;\n",
       "    }\n",
       "\n",
       "    .dataframe thead th {\n",
       "        text-align: right;\n",
       "    }\n",
       "</style>\n",
       "<table border=\"1\" class=\"dataframe\">\n",
       "  <thead>\n",
       "    <tr style=\"text-align: right;\">\n",
       "      <th></th>\n",
       "      <th>0</th>\n",
       "      <th>1</th>\n",
       "      <th>2</th>\n",
       "      <th>3</th>\n",
       "      <th>4</th>\n",
       "      <th>5</th>\n",
       "      <th>6</th>\n",
       "      <th>7</th>\n",
       "      <th>8</th>\n",
       "      <th>9</th>\n",
       "      <th>...</th>\n",
       "      <th>40</th>\n",
       "      <th>41</th>\n",
       "      <th>42</th>\n",
       "      <th>43</th>\n",
       "      <th>44</th>\n",
       "      <th>45</th>\n",
       "      <th>46</th>\n",
       "      <th>47</th>\n",
       "      <th>48</th>\n",
       "      <th>49</th>\n",
       "    </tr>\n",
       "  </thead>\n",
       "  <tbody>\n",
       "    <tr>\n",
       "      <th>count</th>\n",
       "      <td>5999.000000</td>\n",
       "      <td>5999.000000</td>\n",
       "      <td>5999.000000</td>\n",
       "      <td>5999.000000</td>\n",
       "      <td>5999.000000</td>\n",
       "      <td>5999.000000</td>\n",
       "      <td>5999.000000</td>\n",
       "      <td>5999.000000</td>\n",
       "      <td>5999.000000</td>\n",
       "      <td>5999.000000</td>\n",
       "      <td>...</td>\n",
       "      <td>5999.000000</td>\n",
       "      <td>5999.000000</td>\n",
       "      <td>5999.000000</td>\n",
       "      <td>5999.000000</td>\n",
       "      <td>5999.000000</td>\n",
       "      <td>5999.000000</td>\n",
       "      <td>5999.000000</td>\n",
       "      <td>5999.000000</td>\n",
       "      <td>5999.000000</td>\n",
       "      <td>5999.000000</td>\n",
       "    </tr>\n",
       "    <tr>\n",
       "      <th>mean</th>\n",
       "      <td>0.192699</td>\n",
       "      <td>0.105518</td>\n",
       "      <td>0.136523</td>\n",
       "      <td>0.166861</td>\n",
       "      <td>0.063177</td>\n",
       "      <td>0.067511</td>\n",
       "      <td>0.040340</td>\n",
       "      <td>0.037840</td>\n",
       "      <td>0.046341</td>\n",
       "      <td>0.051509</td>\n",
       "      <td>...</td>\n",
       "      <td>0.024171</td>\n",
       "      <td>0.024337</td>\n",
       "      <td>0.016669</td>\n",
       "      <td>0.013502</td>\n",
       "      <td>0.016669</td>\n",
       "      <td>0.019003</td>\n",
       "      <td>0.019503</td>\n",
       "      <td>0.016836</td>\n",
       "      <td>0.018003</td>\n",
       "      <td>0.019170</td>\n",
       "    </tr>\n",
       "    <tr>\n",
       "      <th>std</th>\n",
       "      <td>0.394451</td>\n",
       "      <td>0.307245</td>\n",
       "      <td>0.343371</td>\n",
       "      <td>0.372883</td>\n",
       "      <td>0.243302</td>\n",
       "      <td>0.250926</td>\n",
       "      <td>0.196772</td>\n",
       "      <td>0.190824</td>\n",
       "      <td>0.210240</td>\n",
       "      <td>0.221051</td>\n",
       "      <td>...</td>\n",
       "      <td>0.153592</td>\n",
       "      <td>0.154107</td>\n",
       "      <td>0.128040</td>\n",
       "      <td>0.115422</td>\n",
       "      <td>0.128040</td>\n",
       "      <td>0.136547</td>\n",
       "      <td>0.138297</td>\n",
       "      <td>0.128668</td>\n",
       "      <td>0.132973</td>\n",
       "      <td>0.137133</td>\n",
       "    </tr>\n",
       "    <tr>\n",
       "      <th>min</th>\n",
       "      <td>0.000000</td>\n",
       "      <td>0.000000</td>\n",
       "      <td>0.000000</td>\n",
       "      <td>0.000000</td>\n",
       "      <td>0.000000</td>\n",
       "      <td>0.000000</td>\n",
       "      <td>0.000000</td>\n",
       "      <td>0.000000</td>\n",
       "      <td>0.000000</td>\n",
       "      <td>0.000000</td>\n",
       "      <td>...</td>\n",
       "      <td>0.000000</td>\n",
       "      <td>0.000000</td>\n",
       "      <td>0.000000</td>\n",
       "      <td>0.000000</td>\n",
       "      <td>0.000000</td>\n",
       "      <td>0.000000</td>\n",
       "      <td>0.000000</td>\n",
       "      <td>0.000000</td>\n",
       "      <td>0.000000</td>\n",
       "      <td>0.000000</td>\n",
       "    </tr>\n",
       "    <tr>\n",
       "      <th>25%</th>\n",
       "      <td>0.000000</td>\n",
       "      <td>0.000000</td>\n",
       "      <td>0.000000</td>\n",
       "      <td>0.000000</td>\n",
       "      <td>0.000000</td>\n",
       "      <td>0.000000</td>\n",
       "      <td>0.000000</td>\n",
       "      <td>0.000000</td>\n",
       "      <td>0.000000</td>\n",
       "      <td>0.000000</td>\n",
       "      <td>...</td>\n",
       "      <td>0.000000</td>\n",
       "      <td>0.000000</td>\n",
       "      <td>0.000000</td>\n",
       "      <td>0.000000</td>\n",
       "      <td>0.000000</td>\n",
       "      <td>0.000000</td>\n",
       "      <td>0.000000</td>\n",
       "      <td>0.000000</td>\n",
       "      <td>0.000000</td>\n",
       "      <td>0.000000</td>\n",
       "    </tr>\n",
       "    <tr>\n",
       "      <th>50%</th>\n",
       "      <td>0.000000</td>\n",
       "      <td>0.000000</td>\n",
       "      <td>0.000000</td>\n",
       "      <td>0.000000</td>\n",
       "      <td>0.000000</td>\n",
       "      <td>0.000000</td>\n",
       "      <td>0.000000</td>\n",
       "      <td>0.000000</td>\n",
       "      <td>0.000000</td>\n",
       "      <td>0.000000</td>\n",
       "      <td>...</td>\n",
       "      <td>0.000000</td>\n",
       "      <td>0.000000</td>\n",
       "      <td>0.000000</td>\n",
       "      <td>0.000000</td>\n",
       "      <td>0.000000</td>\n",
       "      <td>0.000000</td>\n",
       "      <td>0.000000</td>\n",
       "      <td>0.000000</td>\n",
       "      <td>0.000000</td>\n",
       "      <td>0.000000</td>\n",
       "    </tr>\n",
       "    <tr>\n",
       "      <th>75%</th>\n",
       "      <td>0.000000</td>\n",
       "      <td>0.000000</td>\n",
       "      <td>0.000000</td>\n",
       "      <td>0.000000</td>\n",
       "      <td>0.000000</td>\n",
       "      <td>0.000000</td>\n",
       "      <td>0.000000</td>\n",
       "      <td>0.000000</td>\n",
       "      <td>0.000000</td>\n",
       "      <td>0.000000</td>\n",
       "      <td>...</td>\n",
       "      <td>0.000000</td>\n",
       "      <td>0.000000</td>\n",
       "      <td>0.000000</td>\n",
       "      <td>0.000000</td>\n",
       "      <td>0.000000</td>\n",
       "      <td>0.000000</td>\n",
       "      <td>0.000000</td>\n",
       "      <td>0.000000</td>\n",
       "      <td>0.000000</td>\n",
       "      <td>0.000000</td>\n",
       "    </tr>\n",
       "    <tr>\n",
       "      <th>max</th>\n",
       "      <td>1.000000</td>\n",
       "      <td>1.000000</td>\n",
       "      <td>1.000000</td>\n",
       "      <td>1.000000</td>\n",
       "      <td>1.000000</td>\n",
       "      <td>1.000000</td>\n",
       "      <td>1.000000</td>\n",
       "      <td>1.000000</td>\n",
       "      <td>1.000000</td>\n",
       "      <td>1.000000</td>\n",
       "      <td>...</td>\n",
       "      <td>1.000000</td>\n",
       "      <td>1.000000</td>\n",
       "      <td>1.000000</td>\n",
       "      <td>1.000000</td>\n",
       "      <td>1.000000</td>\n",
       "      <td>1.000000</td>\n",
       "      <td>1.000000</td>\n",
       "      <td>1.000000</td>\n",
       "      <td>1.000000</td>\n",
       "      <td>1.000000</td>\n",
       "    </tr>\n",
       "  </tbody>\n",
       "</table>\n",
       "<p>8 rows × 50 columns</p>\n",
       "</div>"
      ],
      "text/plain": [
       "                0            1            2            3            4   \\\n",
       "count  5999.000000  5999.000000  5999.000000  5999.000000  5999.000000   \n",
       "mean      0.192699     0.105518     0.136523     0.166861     0.063177   \n",
       "std       0.394451     0.307245     0.343371     0.372883     0.243302   \n",
       "min       0.000000     0.000000     0.000000     0.000000     0.000000   \n",
       "25%       0.000000     0.000000     0.000000     0.000000     0.000000   \n",
       "50%       0.000000     0.000000     0.000000     0.000000     0.000000   \n",
       "75%       0.000000     0.000000     0.000000     0.000000     0.000000   \n",
       "max       1.000000     1.000000     1.000000     1.000000     1.000000   \n",
       "\n",
       "                5            6            7            8            9   ...  \\\n",
       "count  5999.000000  5999.000000  5999.000000  5999.000000  5999.000000  ...   \n",
       "mean      0.067511     0.040340     0.037840     0.046341     0.051509  ...   \n",
       "std       0.250926     0.196772     0.190824     0.210240     0.221051  ...   \n",
       "min       0.000000     0.000000     0.000000     0.000000     0.000000  ...   \n",
       "25%       0.000000     0.000000     0.000000     0.000000     0.000000  ...   \n",
       "50%       0.000000     0.000000     0.000000     0.000000     0.000000  ...   \n",
       "75%       0.000000     0.000000     0.000000     0.000000     0.000000  ...   \n",
       "max       1.000000     1.000000     1.000000     1.000000     1.000000  ...   \n",
       "\n",
       "                40           41           42           43           44  \\\n",
       "count  5999.000000  5999.000000  5999.000000  5999.000000  5999.000000   \n",
       "mean      0.024171     0.024337     0.016669     0.013502     0.016669   \n",
       "std       0.153592     0.154107     0.128040     0.115422     0.128040   \n",
       "min       0.000000     0.000000     0.000000     0.000000     0.000000   \n",
       "25%       0.000000     0.000000     0.000000     0.000000     0.000000   \n",
       "50%       0.000000     0.000000     0.000000     0.000000     0.000000   \n",
       "75%       0.000000     0.000000     0.000000     0.000000     0.000000   \n",
       "max       1.000000     1.000000     1.000000     1.000000     1.000000   \n",
       "\n",
       "                45           46           47           48           49  \n",
       "count  5999.000000  5999.000000  5999.000000  5999.000000  5999.000000  \n",
       "mean      0.019003     0.019503     0.016836     0.018003     0.019170  \n",
       "std       0.136547     0.138297     0.128668     0.132973     0.137133  \n",
       "min       0.000000     0.000000     0.000000     0.000000     0.000000  \n",
       "25%       0.000000     0.000000     0.000000     0.000000     0.000000  \n",
       "50%       0.000000     0.000000     0.000000     0.000000     0.000000  \n",
       "75%       0.000000     0.000000     0.000000     0.000000     0.000000  \n",
       "max       1.000000     1.000000     1.000000     1.000000     1.000000  \n",
       "\n",
       "[8 rows x 50 columns]"
      ]
     },
     "execution_count": 53,
     "metadata": {},
     "output_type": "execute_result"
    }
   ],
   "source": [
    "df_test_labels = pd.DataFrame(test_labels)\n",
    "df_test_labels.describe()"
   ]
  },
  {
   "cell_type": "code",
   "execution_count": 54,
   "metadata": {},
   "outputs": [
    {
     "data": {
      "text/plain": [
       "array([[1, 0, 0, ..., 0, 0, 0],\n",
       "       [1, 0, 0, ..., 0, 0, 0],\n",
       "       [0, 0, 0, ..., 0, 0, 1],\n",
       "       ...,\n",
       "       [0, 1, 0, ..., 0, 0, 0],\n",
       "       [0, 0, 0, ..., 0, 0, 0],\n",
       "       [0, 0, 0, ..., 0, 0, 0]])"
      ]
     },
     "execution_count": 54,
     "metadata": {},
     "output_type": "execute_result"
    }
   ],
   "source": [
    "train_labels"
   ]
  },
  {
   "cell_type": "code",
   "execution_count": 55,
   "metadata": {},
   "outputs": [
    {
     "data": {
      "text/html": [
       "<div>\n",
       "<style scoped>\n",
       "    .dataframe tbody tr th:only-of-type {\n",
       "        vertical-align: middle;\n",
       "    }\n",
       "\n",
       "    .dataframe tbody tr th {\n",
       "        vertical-align: top;\n",
       "    }\n",
       "\n",
       "    .dataframe thead th {\n",
       "        text-align: right;\n",
       "    }\n",
       "</style>\n",
       "<table border=\"1\" class=\"dataframe\">\n",
       "  <thead>\n",
       "    <tr style=\"text-align: right;\">\n",
       "      <th></th>\n",
       "      <th>0</th>\n",
       "      <th>1</th>\n",
       "      <th>2</th>\n",
       "      <th>3</th>\n",
       "      <th>4</th>\n",
       "      <th>5</th>\n",
       "      <th>6</th>\n",
       "      <th>7</th>\n",
       "      <th>8</th>\n",
       "      <th>9</th>\n",
       "      <th>...</th>\n",
       "      <th>40</th>\n",
       "      <th>41</th>\n",
       "      <th>42</th>\n",
       "      <th>43</th>\n",
       "      <th>44</th>\n",
       "      <th>45</th>\n",
       "      <th>46</th>\n",
       "      <th>47</th>\n",
       "      <th>48</th>\n",
       "      <th>49</th>\n",
       "    </tr>\n",
       "  </thead>\n",
       "  <tbody>\n",
       "    <tr>\n",
       "      <th>count</th>\n",
       "      <td>23996.000000</td>\n",
       "      <td>23996.000000</td>\n",
       "      <td>23996.000000</td>\n",
       "      <td>23996.000000</td>\n",
       "      <td>23996.000000</td>\n",
       "      <td>23996.000000</td>\n",
       "      <td>23996.000000</td>\n",
       "      <td>23996.000000</td>\n",
       "      <td>23996.000000</td>\n",
       "      <td>23996.000000</td>\n",
       "      <td>...</td>\n",
       "      <td>23996.000000</td>\n",
       "      <td>23996.000000</td>\n",
       "      <td>23996.000000</td>\n",
       "      <td>23996.000000</td>\n",
       "      <td>23996.000000</td>\n",
       "      <td>23996.000000</td>\n",
       "      <td>23996.000000</td>\n",
       "      <td>23996.000000</td>\n",
       "      <td>23996.000000</td>\n",
       "      <td>23996.000000</td>\n",
       "    </tr>\n",
       "    <tr>\n",
       "      <th>mean</th>\n",
       "      <td>0.196449</td>\n",
       "      <td>0.107518</td>\n",
       "      <td>0.143107</td>\n",
       "      <td>0.157901</td>\n",
       "      <td>0.065261</td>\n",
       "      <td>0.062885</td>\n",
       "      <td>0.040298</td>\n",
       "      <td>0.038048</td>\n",
       "      <td>0.041674</td>\n",
       "      <td>0.051300</td>\n",
       "      <td>...</td>\n",
       "      <td>0.020628</td>\n",
       "      <td>0.024129</td>\n",
       "      <td>0.018503</td>\n",
       "      <td>0.012419</td>\n",
       "      <td>0.016044</td>\n",
       "      <td>0.020712</td>\n",
       "      <td>0.020253</td>\n",
       "      <td>0.019420</td>\n",
       "      <td>0.020753</td>\n",
       "      <td>0.014169</td>\n",
       "    </tr>\n",
       "    <tr>\n",
       "      <th>std</th>\n",
       "      <td>0.397321</td>\n",
       "      <td>0.309777</td>\n",
       "      <td>0.350189</td>\n",
       "      <td>0.364656</td>\n",
       "      <td>0.246991</td>\n",
       "      <td>0.242762</td>\n",
       "      <td>0.196662</td>\n",
       "      <td>0.191316</td>\n",
       "      <td>0.199846</td>\n",
       "      <td>0.220614</td>\n",
       "      <td>...</td>\n",
       "      <td>0.142140</td>\n",
       "      <td>0.153453</td>\n",
       "      <td>0.134765</td>\n",
       "      <td>0.110748</td>\n",
       "      <td>0.125649</td>\n",
       "      <td>0.142421</td>\n",
       "      <td>0.140869</td>\n",
       "      <td>0.137998</td>\n",
       "      <td>0.142561</td>\n",
       "      <td>0.118190</td>\n",
       "    </tr>\n",
       "    <tr>\n",
       "      <th>min</th>\n",
       "      <td>0.000000</td>\n",
       "      <td>0.000000</td>\n",
       "      <td>0.000000</td>\n",
       "      <td>0.000000</td>\n",
       "      <td>0.000000</td>\n",
       "      <td>0.000000</td>\n",
       "      <td>0.000000</td>\n",
       "      <td>0.000000</td>\n",
       "      <td>0.000000</td>\n",
       "      <td>0.000000</td>\n",
       "      <td>...</td>\n",
       "      <td>0.000000</td>\n",
       "      <td>0.000000</td>\n",
       "      <td>0.000000</td>\n",
       "      <td>0.000000</td>\n",
       "      <td>0.000000</td>\n",
       "      <td>0.000000</td>\n",
       "      <td>0.000000</td>\n",
       "      <td>0.000000</td>\n",
       "      <td>0.000000</td>\n",
       "      <td>0.000000</td>\n",
       "    </tr>\n",
       "    <tr>\n",
       "      <th>25%</th>\n",
       "      <td>0.000000</td>\n",
       "      <td>0.000000</td>\n",
       "      <td>0.000000</td>\n",
       "      <td>0.000000</td>\n",
       "      <td>0.000000</td>\n",
       "      <td>0.000000</td>\n",
       "      <td>0.000000</td>\n",
       "      <td>0.000000</td>\n",
       "      <td>0.000000</td>\n",
       "      <td>0.000000</td>\n",
       "      <td>...</td>\n",
       "      <td>0.000000</td>\n",
       "      <td>0.000000</td>\n",
       "      <td>0.000000</td>\n",
       "      <td>0.000000</td>\n",
       "      <td>0.000000</td>\n",
       "      <td>0.000000</td>\n",
       "      <td>0.000000</td>\n",
       "      <td>0.000000</td>\n",
       "      <td>0.000000</td>\n",
       "      <td>0.000000</td>\n",
       "    </tr>\n",
       "    <tr>\n",
       "      <th>50%</th>\n",
       "      <td>0.000000</td>\n",
       "      <td>0.000000</td>\n",
       "      <td>0.000000</td>\n",
       "      <td>0.000000</td>\n",
       "      <td>0.000000</td>\n",
       "      <td>0.000000</td>\n",
       "      <td>0.000000</td>\n",
       "      <td>0.000000</td>\n",
       "      <td>0.000000</td>\n",
       "      <td>0.000000</td>\n",
       "      <td>...</td>\n",
       "      <td>0.000000</td>\n",
       "      <td>0.000000</td>\n",
       "      <td>0.000000</td>\n",
       "      <td>0.000000</td>\n",
       "      <td>0.000000</td>\n",
       "      <td>0.000000</td>\n",
       "      <td>0.000000</td>\n",
       "      <td>0.000000</td>\n",
       "      <td>0.000000</td>\n",
       "      <td>0.000000</td>\n",
       "    </tr>\n",
       "    <tr>\n",
       "      <th>75%</th>\n",
       "      <td>0.000000</td>\n",
       "      <td>0.000000</td>\n",
       "      <td>0.000000</td>\n",
       "      <td>0.000000</td>\n",
       "      <td>0.000000</td>\n",
       "      <td>0.000000</td>\n",
       "      <td>0.000000</td>\n",
       "      <td>0.000000</td>\n",
       "      <td>0.000000</td>\n",
       "      <td>0.000000</td>\n",
       "      <td>...</td>\n",
       "      <td>0.000000</td>\n",
       "      <td>0.000000</td>\n",
       "      <td>0.000000</td>\n",
       "      <td>0.000000</td>\n",
       "      <td>0.000000</td>\n",
       "      <td>0.000000</td>\n",
       "      <td>0.000000</td>\n",
       "      <td>0.000000</td>\n",
       "      <td>0.000000</td>\n",
       "      <td>0.000000</td>\n",
       "    </tr>\n",
       "    <tr>\n",
       "      <th>max</th>\n",
       "      <td>1.000000</td>\n",
       "      <td>1.000000</td>\n",
       "      <td>1.000000</td>\n",
       "      <td>1.000000</td>\n",
       "      <td>1.000000</td>\n",
       "      <td>1.000000</td>\n",
       "      <td>1.000000</td>\n",
       "      <td>1.000000</td>\n",
       "      <td>1.000000</td>\n",
       "      <td>1.000000</td>\n",
       "      <td>...</td>\n",
       "      <td>1.000000</td>\n",
       "      <td>1.000000</td>\n",
       "      <td>1.000000</td>\n",
       "      <td>1.000000</td>\n",
       "      <td>1.000000</td>\n",
       "      <td>1.000000</td>\n",
       "      <td>1.000000</td>\n",
       "      <td>1.000000</td>\n",
       "      <td>1.000000</td>\n",
       "      <td>1.000000</td>\n",
       "    </tr>\n",
       "  </tbody>\n",
       "</table>\n",
       "<p>8 rows × 50 columns</p>\n",
       "</div>"
      ],
      "text/plain": [
       "                 0             1             2             3             4   \\\n",
       "count  23996.000000  23996.000000  23996.000000  23996.000000  23996.000000   \n",
       "mean       0.196449      0.107518      0.143107      0.157901      0.065261   \n",
       "std        0.397321      0.309777      0.350189      0.364656      0.246991   \n",
       "min        0.000000      0.000000      0.000000      0.000000      0.000000   \n",
       "25%        0.000000      0.000000      0.000000      0.000000      0.000000   \n",
       "50%        0.000000      0.000000      0.000000      0.000000      0.000000   \n",
       "75%        0.000000      0.000000      0.000000      0.000000      0.000000   \n",
       "max        1.000000      1.000000      1.000000      1.000000      1.000000   \n",
       "\n",
       "                 5             6             7             8             9   \\\n",
       "count  23996.000000  23996.000000  23996.000000  23996.000000  23996.000000   \n",
       "mean       0.062885      0.040298      0.038048      0.041674      0.051300   \n",
       "std        0.242762      0.196662      0.191316      0.199846      0.220614   \n",
       "min        0.000000      0.000000      0.000000      0.000000      0.000000   \n",
       "25%        0.000000      0.000000      0.000000      0.000000      0.000000   \n",
       "50%        0.000000      0.000000      0.000000      0.000000      0.000000   \n",
       "75%        0.000000      0.000000      0.000000      0.000000      0.000000   \n",
       "max        1.000000      1.000000      1.000000      1.000000      1.000000   \n",
       "\n",
       "       ...            40            41            42            43  \\\n",
       "count  ...  23996.000000  23996.000000  23996.000000  23996.000000   \n",
       "mean   ...      0.020628      0.024129      0.018503      0.012419   \n",
       "std    ...      0.142140      0.153453      0.134765      0.110748   \n",
       "min    ...      0.000000      0.000000      0.000000      0.000000   \n",
       "25%    ...      0.000000      0.000000      0.000000      0.000000   \n",
       "50%    ...      0.000000      0.000000      0.000000      0.000000   \n",
       "75%    ...      0.000000      0.000000      0.000000      0.000000   \n",
       "max    ...      1.000000      1.000000      1.000000      1.000000   \n",
       "\n",
       "                 44            45            46            47            48  \\\n",
       "count  23996.000000  23996.000000  23996.000000  23996.000000  23996.000000   \n",
       "mean       0.016044      0.020712      0.020253      0.019420      0.020753   \n",
       "std        0.125649      0.142421      0.140869      0.137998      0.142561   \n",
       "min        0.000000      0.000000      0.000000      0.000000      0.000000   \n",
       "25%        0.000000      0.000000      0.000000      0.000000      0.000000   \n",
       "50%        0.000000      0.000000      0.000000      0.000000      0.000000   \n",
       "75%        0.000000      0.000000      0.000000      0.000000      0.000000   \n",
       "max        1.000000      1.000000      1.000000      1.000000      1.000000   \n",
       "\n",
       "                 49  \n",
       "count  23996.000000  \n",
       "mean       0.014169  \n",
       "std        0.118190  \n",
       "min        0.000000  \n",
       "25%        0.000000  \n",
       "50%        0.000000  \n",
       "75%        0.000000  \n",
       "max        1.000000  \n",
       "\n",
       "[8 rows x 50 columns]"
      ]
     },
     "execution_count": 55,
     "metadata": {},
     "output_type": "execute_result"
    }
   ],
   "source": [
    "df_train_labels = pd.DataFrame(train_labels)\n",
    "df_train_labels.describe()"
   ]
  },
  {
   "cell_type": "markdown",
   "metadata": {
    "id": "FhaK6qnD1O7f"
   },
   "source": [
    "### Modélisations - ML"
   ]
  },
  {
   "cell_type": "code",
   "execution_count": 56,
   "metadata": {
    "id": "jPU7gRng1rfR"
   },
   "outputs": [],
   "source": [
    "# Algo supervisés\n",
    "from sklearn.neighbors import KNeighborsClassifier\n",
    "from sklearn.svm import LinearSVC\n",
    "from sklearn.multiclass import OneVsRestClassifier\n",
    "from sklearn.ensemble import RandomForestClassifier\n",
    "from sklearn.ensemble import GradientBoostingClassifier"
   ]
  },
  {
   "cell_type": "code",
   "execution_count": 57,
   "metadata": {},
   "outputs": [
    {
     "data": {
      "text/plain": [
       "(23996, 20)"
      ]
     },
     "execution_count": 57,
     "metadata": {},
     "output_type": "execute_result"
    }
   ],
   "source": [
    "X_train_transformed.shape"
   ]
  },
  {
   "cell_type": "code",
   "execution_count": 58,
   "metadata": {},
   "outputs": [
    {
     "data": {
      "text/plain": [
       "(23996, 50)"
      ]
     },
     "execution_count": 58,
     "metadata": {},
     "output_type": "execute_result"
    }
   ],
   "source": [
    "train_labels.shape"
   ]
  },
  {
   "cell_type": "code",
   "execution_count": 59,
   "metadata": {},
   "outputs": [
    {
     "data": {
      "text/plain": [
       "(5999, 20)"
      ]
     },
     "execution_count": 59,
     "metadata": {},
     "output_type": "execute_result"
    }
   ],
   "source": [
    "X_test_transformed.shape"
   ]
  },
  {
   "cell_type": "code",
   "execution_count": 60,
   "metadata": {},
   "outputs": [
    {
     "data": {
      "text/plain": [
       "(5999, 50)"
      ]
     },
     "execution_count": 60,
     "metadata": {},
     "output_type": "execute_result"
    }
   ],
   "source": [
    "test_labels.shape"
   ]
  },
  {
   "cell_type": "markdown",
   "metadata": {
    "id": "VIGcfXiL1h6d"
   },
   "source": [
    "#### KNN"
   ]
  },
  {
   "cell_type": "code",
   "execution_count": 61,
   "metadata": {
    "colab": {
     "base_uri": "https://localhost:8080/"
    },
    "id": "xmT8OPqh0_oj",
    "outputId": "840dc7f9-3d3a-402c-ac25-683e685c72da"
   },
   "outputs": [
    {
     "name": "stdout",
     "output_type": "stream",
     "text": [
      "------knn Model Metrics-----\n",
      "CPU times: total: 1min 52s\n",
      "Wall time: 14.9 s\n"
     ]
    },
    {
     "data": {
      "text/plain": [
       "{'knn': {'Accuracy': 0.12,\n",
       "  'Precision': 0.56,\n",
       "  'Recall': 0.22,\n",
       "  'F1': 0.3,\n",
       "  'Haming loss': 0.04,\n",
       "  'Jaccard score': 0.12}}"
      ]
     },
     "execution_count": 61,
     "metadata": {},
     "output_type": "execute_result"
    }
   ],
   "source": [
    "%%time\n",
    "knn_clf = OneVsRestClassifier(KNeighborsClassifier(), n_jobs=-1)\n",
    "knn_clf.fit(X_train_transformed, train_labels)\n",
    "knn_predictions = knn_clf.predict(X_test_transformed)\n",
    "metrics_report(\"knn\", test_labels, knn_predictions, models_performance)"
   ]
  },
  {
   "cell_type": "markdown",
   "metadata": {
    "id": "mBzViZDT16w2"
   },
   "source": [
    "#### SVM"
   ]
  },
  {
   "cell_type": "code",
   "execution_count": 62,
   "metadata": {
    "colab": {
     "base_uri": "https://localhost:8080/"
    },
    "id": "B_EwvI0I1ksz",
    "outputId": "ed6d69cc-45d8-41ac-e69a-d18cfeb2dc97"
   },
   "outputs": [
    {
     "name": "stderr",
     "output_type": "stream",
     "text": [
      "C:\\Users\\A475388\\AppData\\Local\\anaconda3\\Lib\\site-packages\\sklearn\\metrics\\_classification.py:1344: UndefinedMetricWarning: Precision is ill-defined and being set to 0.0 in labels with no predicted samples. Use `zero_division` parameter to control this behavior.\n",
      "  _warn_prf(average, modifier, msg_start, len(result))\n",
      "C:\\Users\\A475388\\AppData\\Local\\anaconda3\\Lib\\site-packages\\sklearn\\metrics\\_classification.py:1344: UndefinedMetricWarning: Precision is ill-defined and being set to 0.0 in labels with no predicted samples. Use `zero_division` parameter to control this behavior.\n",
      "  _warn_prf(average, modifier, msg_start, len(result))\n"
     ]
    },
    {
     "name": "stdout",
     "output_type": "stream",
     "text": [
      "------svm Model Metrics-----\n",
      "CPU times: total: 578 ms\n",
      "Wall time: 18.1 s\n"
     ]
    },
    {
     "data": {
      "text/plain": [
       "{'knn': {'Accuracy': 0.12,\n",
       "  'Precision': 0.56,\n",
       "  'Recall': 0.22,\n",
       "  'F1': 0.3,\n",
       "  'Haming loss': 0.04,\n",
       "  'Jaccard score': 0.12},\n",
       " 'svm': {'Accuracy': 0.08,\n",
       "  'Precision': 0.45,\n",
       "  'Recall': 0.14,\n",
       "  'F1': 0.19,\n",
       "  'Haming loss': 0.04,\n",
       "  'Jaccard score': 0.05}}"
      ]
     },
     "execution_count": 62,
     "metadata": {},
     "output_type": "execute_result"
    }
   ],
   "source": [
    "%%time\n",
    "svm_clf = OneVsRestClassifier(LinearSVC(), n_jobs=-1)\n",
    "svm_clf.fit(X_train_transformed, train_labels)\n",
    "\n",
    "svm_preds = svm_clf.predict(X_test_transformed)\n",
    "metrics_report(\"svm\", test_labels, svm_preds, models_performance)"
   ]
  },
  {
   "cell_type": "markdown",
   "metadata": {
    "id": "PUfcLwca1-U5"
   },
   "source": [
    "#### Random Forest"
   ]
  },
  {
   "cell_type": "code",
   "execution_count": 63,
   "metadata": {
    "colab": {
     "base_uri": "https://localhost:8080/"
    },
    "id": "gNBb3BUU2BXE",
    "outputId": "2c1612ae-73d1-4cc7-9fc4-c72ba089e1a7"
   },
   "outputs": [
    {
     "name": "stderr",
     "output_type": "stream",
     "text": [
      "C:\\Users\\A475388\\AppData\\Local\\anaconda3\\Lib\\site-packages\\sklearn\\metrics\\_classification.py:1344: UndefinedMetricWarning: Precision is ill-defined and being set to 0.0 in labels with no predicted samples. Use `zero_division` parameter to control this behavior.\n",
      "  _warn_prf(average, modifier, msg_start, len(result))\n",
      "C:\\Users\\A475388\\AppData\\Local\\anaconda3\\Lib\\site-packages\\sklearn\\metrics\\_classification.py:1344: UndefinedMetricWarning: Precision is ill-defined and being set to 0.0 in labels with no predicted samples. Use `zero_division` parameter to control this behavior.\n",
      "  _warn_prf(average, modifier, msg_start, len(result))\n"
     ]
    },
    {
     "name": "stdout",
     "output_type": "stream",
     "text": [
      "------Random Forest Model Metrics-----\n",
      "CPU times: total: 6.64 s\n",
      "Wall time: 1min 18s\n"
     ]
    },
    {
     "data": {
      "text/plain": [
       "{'knn': {'Accuracy': 0.12,\n",
       "  'Precision': 0.56,\n",
       "  'Recall': 0.22,\n",
       "  'F1': 0.3,\n",
       "  'Haming loss': 0.04,\n",
       "  'Jaccard score': 0.12},\n",
       " 'svm': {'Accuracy': 0.08,\n",
       "  'Precision': 0.45,\n",
       "  'Recall': 0.14,\n",
       "  'F1': 0.19,\n",
       "  'Haming loss': 0.04,\n",
       "  'Jaccard score': 0.05},\n",
       " 'Random Forest': {'Accuracy': 0.1,\n",
       "  'Precision': 0.66,\n",
       "  'Recall': 0.15,\n",
       "  'F1': 0.22,\n",
       "  'Haming loss': 0.03,\n",
       "  'Jaccard score': 0.07}}"
      ]
     },
     "execution_count": 63,
     "metadata": {},
     "output_type": "execute_result"
    }
   ],
   "source": [
    "%%time\n",
    "rf_clf = OneVsRestClassifier(RandomForestClassifier(), n_jobs=-1)\n",
    "rf_clf.fit(X_train_transformed, train_labels)\n",
    "rf_preds = rf_clf.predict(X_test_transformed)\n",
    "metrics_report(\"Random Forest\", test_labels, rf_preds, models_performance)"
   ]
  },
  {
   "cell_type": "markdown",
   "metadata": {
    "id": "ZvnOyS122DF3"
   },
   "source": [
    "#### Gradient boosting"
   ]
  },
  {
   "cell_type": "code",
   "execution_count": 64,
   "metadata": {
    "colab": {
     "base_uri": "https://localhost:8080/"
    },
    "id": "7vtumod02GeG",
    "outputId": "acedfb74-8bb9-4bc2-8068-caa5ecc91aab"
   },
   "outputs": [
    {
     "name": "stdout",
     "output_type": "stream",
     "text": [
      "------Gradient Boosting Model Metrics-----\n",
      "CPU times: total: 1.86 s\n",
      "Wall time: 2min 11s\n"
     ]
    },
    {
     "data": {
      "text/plain": [
       "{'knn': {'Accuracy': 0.12,\n",
       "  'Precision': 0.56,\n",
       "  'Recall': 0.22,\n",
       "  'F1': 0.3,\n",
       "  'Haming loss': 0.04,\n",
       "  'Jaccard score': 0.12},\n",
       " 'svm': {'Accuracy': 0.08,\n",
       "  'Precision': 0.45,\n",
       "  'Recall': 0.14,\n",
       "  'F1': 0.19,\n",
       "  'Haming loss': 0.04,\n",
       "  'Jaccard score': 0.05},\n",
       " 'Random Forest': {'Accuracy': 0.1,\n",
       "  'Precision': 0.66,\n",
       "  'Recall': 0.15,\n",
       "  'F1': 0.22,\n",
       "  'Haming loss': 0.03,\n",
       "  'Jaccard score': 0.07},\n",
       " 'Gradient Boosting': {'Accuracy': 0.1,\n",
       "  'Precision': 0.52,\n",
       "  'Recall': 0.19,\n",
       "  'F1': 0.27,\n",
       "  'Haming loss': 0.04,\n",
       "  'Jaccard score': 0.1}}"
      ]
     },
     "execution_count": 64,
     "metadata": {},
     "output_type": "execute_result"
    }
   ],
   "source": [
    "%%time\n",
    "gb_clf = OneVsRestClassifier(GradientBoostingClassifier(), n_jobs=-1)\n",
    "gb_clf.fit(X_train_transformed, train_labels)\n",
    "gb_preds = gb_clf.predict(X_test_transformed)\n",
    "metrics_report(\"Gradient Boosting\", test_labels, gb_preds, models_performance)"
   ]
  },
  {
   "cell_type": "markdown",
   "metadata": {
    "id": "g5CAr4lm2LRn"
   },
   "source": [
    "#### Résultats"
   ]
  },
  {
   "cell_type": "code",
   "execution_count": 65,
   "metadata": {
    "colab": {
     "base_uri": "https://localhost:8080/",
     "height": 175
    },
    "id": "PmDoDR9R2KcA",
    "outputId": "3f1fda22-9e54-4de8-d347-3939f15f1def"
   },
   "outputs": [
    {
     "data": {
      "text/html": [
       "<div>\n",
       "<style scoped>\n",
       "    .dataframe tbody tr th:only-of-type {\n",
       "        vertical-align: middle;\n",
       "    }\n",
       "\n",
       "    .dataframe tbody tr th {\n",
       "        vertical-align: top;\n",
       "    }\n",
       "\n",
       "    .dataframe thead th {\n",
       "        text-align: right;\n",
       "    }\n",
       "</style>\n",
       "<table border=\"1\" class=\"dataframe\">\n",
       "  <thead>\n",
       "    <tr style=\"text-align: right;\">\n",
       "      <th></th>\n",
       "      <th>Accuracy</th>\n",
       "      <th>Precision</th>\n",
       "      <th>Recall</th>\n",
       "      <th>F1</th>\n",
       "      <th>Haming loss</th>\n",
       "      <th>Jaccard score</th>\n",
       "    </tr>\n",
       "  </thead>\n",
       "  <tbody>\n",
       "    <tr>\n",
       "      <th>knn</th>\n",
       "      <td>0.12</td>\n",
       "      <td>0.56</td>\n",
       "      <td>0.22</td>\n",
       "      <td>0.30</td>\n",
       "      <td>0.04</td>\n",
       "      <td>0.12</td>\n",
       "    </tr>\n",
       "    <tr>\n",
       "      <th>svm</th>\n",
       "      <td>0.08</td>\n",
       "      <td>0.45</td>\n",
       "      <td>0.14</td>\n",
       "      <td>0.19</td>\n",
       "      <td>0.04</td>\n",
       "      <td>0.05</td>\n",
       "    </tr>\n",
       "    <tr>\n",
       "      <th>Random Forest</th>\n",
       "      <td>0.10</td>\n",
       "      <td>0.66</td>\n",
       "      <td>0.15</td>\n",
       "      <td>0.22</td>\n",
       "      <td>0.03</td>\n",
       "      <td>0.07</td>\n",
       "    </tr>\n",
       "    <tr>\n",
       "      <th>Gradient Boosting</th>\n",
       "      <td>0.10</td>\n",
       "      <td>0.52</td>\n",
       "      <td>0.19</td>\n",
       "      <td>0.27</td>\n",
       "      <td>0.04</td>\n",
       "      <td>0.10</td>\n",
       "    </tr>\n",
       "  </tbody>\n",
       "</table>\n",
       "</div>"
      ],
      "text/plain": [
       "                   Accuracy  Precision  Recall    F1  Haming loss  \\\n",
       "knn                    0.12       0.56    0.22  0.30         0.04   \n",
       "svm                    0.08       0.45    0.14  0.19         0.04   \n",
       "Random Forest          0.10       0.66    0.15  0.22         0.03   \n",
       "Gradient Boosting      0.10       0.52    0.19  0.27         0.04   \n",
       "\n",
       "                   Jaccard score  \n",
       "knn                         0.12  \n",
       "svm                         0.05  \n",
       "Random Forest               0.07  \n",
       "Gradient Boosting           0.10  "
      ]
     },
     "execution_count": 65,
     "metadata": {},
     "output_type": "execute_result"
    }
   ],
   "source": [
    "result_df = pd.DataFrame.from_dict(models_performance, orient=\"index\")\n",
    "result_df"
   ]
  }
 ],
 "metadata": {
  "colab": {
   "provenance": [],
   "toc_visible": true
  },
  "kernelspec": {
   "display_name": "Python 3 (ipykernel)",
   "language": "python",
   "name": "python3"
  },
  "language_info": {
   "codemirror_mode": {
    "name": "ipython",
    "version": 3
   },
   "file_extension": ".py",
   "mimetype": "text/x-python",
   "name": "python",
   "nbconvert_exporter": "python",
   "pygments_lexer": "ipython3",
   "version": "3.11.7"
  }
 },
 "nbformat": 4,
 "nbformat_minor": 4
}
